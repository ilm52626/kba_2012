{
 "cells": [
  {
   "cell_type": "code",
   "execution_count": 1,
   "metadata": {},
   "outputs": [
    {
     "name": "stdout",
     "output_type": "stream",
     "text": [
      "Python 3.7.9\n"
     ]
    }
   ],
   "source": [
    "!python -V"
   ]
  },
  {
   "cell_type": "code",
   "execution_count": 2,
   "metadata": {},
   "outputs": [
    {
     "name": "stdout",
     "output_type": "stream",
     "text": [
      "['False', 'None', 'True', 'and', 'as', 'assert', 'async', 'await', 'break', 'class', 'continue', 'def', 'del', 'elif', 'else', 'except', 'finally', 'for', 'from', 'global', 'if', 'import', 'in', 'is', 'lambda', 'nonlocal', 'not', 'or', 'pass', 'raise', 'return', 'try', 'while', 'with', 'yield']\n"
     ]
    }
   ],
   "source": [
    "import keyword\n",
    "print(keyword.kwlist)"
   ]
  },
  {
   "cell_type": "code",
   "execution_count": 5,
   "metadata": {},
   "outputs": [
    {
     "name": "stdout",
     "output_type": "stream",
     "text": [
      "Hello Python\n"
     ]
    }
   ],
   "source": [
    "a = \"Hello\"\n",
    "b = \"Python\"\n",
    "a + \" \" + b\n",
    "print(a + \" \" + b)"
   ]
  },
  {
   "cell_type": "code",
   "execution_count": 6,
   "metadata": {},
   "outputs": [
    {
     "name": "stdout",
     "output_type": "stream",
     "text": [
      "3이 있습니다.\n"
     ]
    }
   ],
   "source": [
    "# 사람이 생각하는 방식을 그래로 표현할 수 있는 언어\n",
    "if 3 in [1,2,3,4]: print(\"3이 있습니다.\")"
   ]
  },
  {
   "cell_type": "code",
   "execution_count": 7,
   "metadata": {},
   "outputs": [
    {
     "name": "stdout",
     "output_type": "stream",
     "text": [
      "123\n",
      "-123\n",
      "0\n",
      "1.23\n",
      "127\n",
      "2748\n"
     ]
    }
   ],
   "source": [
    "# 숫자(정수, 실수, 8진수, 16진수)\n",
    "a = 123\n",
    "b = -123\n",
    "c = 0\n",
    "d = 1.23\n",
    "e = 0o177\n",
    "f = 0xABC\n",
    "print(a)\n",
    "print(b)\n",
    "print(c)\n",
    "print(d)\n",
    "print(e)\n",
    "print(f)"
   ]
  },
  {
   "cell_type": "code",
   "execution_count": 8,
   "metadata": {},
   "outputs": [
    {
     "name": "stdout",
     "output_type": "stream",
     "text": [
      "10\n",
      "2.3\n",
      "12.3\n",
      "23.0\n",
      "4.347826086956522\n",
      "4.0\n",
      "0.8000000000000007\n",
      "4\n"
     ]
    }
   ],
   "source": [
    "# 사칙연산\n",
    "a = 10\n",
    "b = 2.3\n",
    "c = a + b\n",
    "d = a * b\n",
    "e = a / b\n",
    "f = a // b\n",
    "g = a % b\n",
    "h = 2 ** 2\n",
    "print(a)\n",
    "print(b)\n",
    "print(c)\n",
    "print(d)\n",
    "print(e)\n",
    "print(f)\n",
    "print(g)\n",
    "print(h)"
   ]
  },
  {
   "cell_type": "code",
   "execution_count": 10,
   "metadata": {},
   "outputs": [
    {
     "data": {
      "text/plain": [
       "'문자열273'"
      ]
     },
     "execution_count": 10,
     "metadata": {},
     "output_type": "execute_result"
    }
   ],
   "source": [
    "String = '문자열'\n",
    "Number = '273'\n",
    "String + Number"
   ]
  },
  {
   "cell_type": "code",
   "execution_count": 11,
   "metadata": {},
   "outputs": [
    {
     "data": {
      "text/plain": [
       "150"
      ]
     },
     "execution_count": 11,
     "metadata": {},
     "output_type": "execute_result"
    }
   ],
   "source": [
    "# 복합대입연산자\n",
    "number = 100\n",
    "number += 20\n",
    "number += 30\n",
    "number"
   ]
  },
  {
   "cell_type": "code",
   "execution_count": null,
   "metadata": {},
   "outputs": [],
   "source": [
    "# -=, *=, /=\n",
    "# Q. number = 100일 때, 20을 빼고 30을 더하는 연산을 복합연산자를 사용해서 구하세요"
   ]
  },
  {
   "cell_type": "code",
   "execution_count": 12,
   "metadata": {},
   "outputs": [
    {
     "data": {
      "text/plain": [
       "110"
      ]
     },
     "execution_count": 12,
     "metadata": {},
     "output_type": "execute_result"
    }
   ],
   "source": [
    "number = 100\n",
    "number -= 20\n",
    "number += 30\n",
    "number"
   ]
  },
  {
   "cell_type": "code",
   "execution_count": 13,
   "metadata": {},
   "outputs": [
    {
     "name": "stdout",
     "output_type": "stream",
     "text": [
      "인사말을 입력하세요>안녕하세요\n"
     ]
    },
    {
     "data": {
      "text/plain": [
       "'안녕하세요'"
      ]
     },
     "execution_count": 13,
     "metadata": {},
     "output_type": "execute_result"
    }
   ],
   "source": [
    "# 사용자 입력 : input()\n",
    "input('인사말을 입력하세요>')"
   ]
  },
  {
   "cell_type": "code",
   "execution_count": 15,
   "metadata": {},
   "outputs": [
    {
     "name": "stdout",
     "output_type": "stream",
     "text": [
      "숫자를 입력하세요>5\n",
      "5\n",
      "<class 'str'>\n"
     ]
    }
   ],
   "source": [
    "# input 함수는 무엇을 입력해도 결과는 무조건 문자형\n",
    "number = input('숫자를 입력하세요>')\n",
    "print(number)\n",
    "print(type(number))"
   ]
  },
  {
   "cell_type": "code",
   "execution_count": 16,
   "metadata": {},
   "outputs": [
    {
     "name": "stdout",
     "output_type": "stream",
     "text": [
      "입력A> 3\n",
      "입력B> 3\n",
      "33\n"
     ]
    }
   ],
   "source": [
    "String_a = input('입력A> ')\n",
    "String_b = input('입력B> ')\n",
    "print(String_a+String_b)"
   ]
  },
  {
   "cell_type": "code",
   "execution_count": null,
   "metadata": {},
   "outputs": [],
   "source": [
    "# Q. 문자열을 숫자 자료형으로 변환해서 숫자 연산을 수행하여 6을 출력하세요."
   ]
  },
  {
   "cell_type": "code",
   "execution_count": 17,
   "metadata": {},
   "outputs": [
    {
     "name": "stdout",
     "output_type": "stream",
     "text": [
      "입력A> 3\n",
      "입력B> 3\n",
      "6\n"
     ]
    }
   ],
   "source": [
    "String_a = input('입력A> ')\n",
    "String_b = input('입력B> ')\n",
    "String_a = int(String_a)\n",
    "String_b = int(String_b)\n",
    "print(String_a+String_b)"
   ]
  },
  {
   "cell_type": "code",
   "execution_count": null,
   "metadata": {},
   "outputs": [],
   "source": [
    "#Q. 3과 3.3을 입력하고 숫자 연산을 수행하여 6.3을 출력하세요"
   ]
  },
  {
   "cell_type": "code",
   "execution_count": 18,
   "metadata": {},
   "outputs": [
    {
     "name": "stdout",
     "output_type": "stream",
     "text": [
      "입력A> 3\n",
      "입력B> 3.3\n",
      "6.3\n"
     ]
    }
   ],
   "source": [
    "String_a = input(\"입력A> \")\n",
    "String_b = input(\"입력B> \")\n",
    "String_a = int(String_a)\n",
    "String_b = float(String_b)\n",
    "print(String_a+String_b)"
   ]
  },
  {
   "cell_type": "code",
   "execution_count": null,
   "metadata": {},
   "outputs": [],
   "source": [
    "# Q. a = 52와 b = 52.273일때 a+b는 5252.273으로 출력되도록 a와 b를 \n",
    "# 문자열 자료형으로 변환하세요."
   ]
  },
  {
   "cell_type": "code",
   "execution_count": 21,
   "metadata": {},
   "outputs": [
    {
     "data": {
      "text/plain": [
       "'5252.273'"
      ]
     },
     "execution_count": 21,
     "metadata": {},
     "output_type": "execute_result"
    }
   ],
   "source": [
    "a = str(52)\n",
    "b = str(52.273) \n",
    "a + b "
   ]
  },
  {
   "cell_type": "code",
   "execution_count": 24,
   "metadata": {},
   "outputs": [
    {
     "name": "stdout",
     "output_type": "stream",
     "text": [
      "python's value is great\n"
     ]
    }
   ],
   "source": [
    "# 문자열: \"\", '', ''' '''\n",
    "p1 = \"python's value is great\"\n",
    "# p2 = 'python's value is great'\n",
    "print(p1)\n",
    "# print(p2)"
   ]
  },
  {
   "cell_type": "code",
   "execution_count": 26,
   "metadata": {},
   "outputs": [
    {
     "name": "stdout",
     "output_type": "stream",
     "text": [
      "\"python is valuable\" he says.\n"
     ]
    }
   ],
   "source": [
    "s1 = '\"python is valuable\" he says.'\n",
    "# s2 = \"\"python is valuable\" he says.\"\n",
    "print(s1)\n",
    "# print(s2)"
   ]
  },
  {
   "cell_type": "code",
   "execution_count": 27,
   "metadata": {},
   "outputs": [
    {
     "name": "stdout",
     "output_type": "stream",
     "text": [
      "python's value is great\n"
     ]
    }
   ],
   "source": [
    "p1 = 'python\\'s value is great'\n",
    "print(p1)"
   ]
  },
  {
   "cell_type": "code",
   "execution_count": 28,
   "metadata": {},
   "outputs": [
    {
     "name": "stdout",
     "output_type": "stream",
     "text": [
      "Once you study data analysis\n",
      "You need Python\n",
      "\n",
      "Once you study data analysis\n",
      "You need Python\n",
      "\n"
     ]
    }
   ],
   "source": [
    "y1 = \"Once you study data analysis\\nYou need Python\"\n",
    "y2 = '''\n",
    "Once you study data analysis\n",
    "You need Python\n",
    "'''\n",
    "print(y1)\n",
    "print(y2)"
   ]
  },
  {
   "cell_type": "code",
   "execution_count": 31,
   "metadata": {},
   "outputs": [
    {
     "name": "stdout",
     "output_type": "stream",
     "text": [
      "Python is easy to learn\n",
      "PythonPythonPython\n",
      "==============================\n"
     ]
    }
   ],
   "source": [
    "# 문자열 연산\n",
    "a1 = 'Python'\n",
    "a2 = ' is easy to learn'\n",
    "print(a1+a2)\n",
    "print(a1 * 3)\n",
    "print('=' * 30)"
   ]
  },
  {
   "cell_type": "code",
   "execution_count": 35,
   "metadata": {},
   "outputs": [
    {
     "name": "stdout",
     "output_type": "stream",
     "text": [
      "a가 ld에 있습니다.\n"
     ]
    }
   ],
   "source": [
    "# 들여쓰기\n",
    "ld = ['a','b','c']\n",
    "if 'a' in ld:\n",
    "    print('a가 ld에 있습니다.')\n",
    "else:\n",
    "    print('ark ld에 없습니다.')"
   ]
  },
  {
   "cell_type": "code",
   "execution_count": 36,
   "metadata": {},
   "outputs": [
    {
     "name": "stdout",
     "output_type": "stream",
     "text": [
      "012\n"
     ]
    }
   ],
   "source": [
    "# 포멧함수\n",
    "f1 = '{}{}{}'.format(0,1,2)\n",
    "print(f1)"
   ]
  },
  {
   "cell_type": "code",
   "execution_count": 38,
   "metadata": {},
   "outputs": [
    {
     "name": "stdout",
     "output_type": "stream",
     "text": [
      "파이썬은 자바보다 3배 쉽습니다.\n"
     ]
    }
   ],
   "source": [
    "f2 = '파이썬은 자바보다 {0}배 쉽습니다.'.format(3)\n",
    "print(f2)"
   ]
  },
  {
   "cell_type": "code",
   "execution_count": 40,
   "metadata": {},
   "outputs": [
    {
     "name": "stdout",
     "output_type": "stream",
     "text": [
      "12345\n",
      "     12345\n"
     ]
    }
   ],
   "source": [
    "fd = 12345\n",
    "f3 = '{:d}'.format(fd)\n",
    "f4 = '{:10d}'.format(fd)\n",
    "print(f3)\n",
    "print(f4)"
   ]
  },
  {
   "cell_type": "code",
   "execution_count": 44,
   "metadata": {},
   "outputs": [
    {
     "name": "stdout",
     "output_type": "stream",
     "text": [
      "12.345679\n",
      "      12.345679\n",
      "12.35\n",
      "          12.35\n"
     ]
    }
   ],
   "source": [
    "ff = 12.3456789\n",
    "f5 = '{:f}'.format(ff)\n",
    "f6 = '{:15f}'.format(ff)\n",
    "f7 = '{:.2f}'.format(ff)\n",
    "f8 = '{:15.2f}'.format(ff)\n",
    "print(f5)\n",
    "print(f6)\n",
    "print(f7)\n",
    "print(f8)"
   ]
  },
  {
   "cell_type": "code",
   "execution_count": 45,
   "metadata": {},
   "outputs": [
    {
     "name": "stdout",
     "output_type": "stream",
     "text": [
      "홍길동 선수가 1등 입니다!!!\n"
     ]
    }
   ],
   "source": [
    "f9 = '{} 선수가 {}등 입니다!!!'.format('홍길동',1)\n",
    "print(f9)"
   ]
  },
  {
   "cell_type": "code",
   "execution_count": 46,
   "metadata": {},
   "outputs": [
    {
     "name": "stdout",
     "output_type": "stream",
     "text": [
      "홍길동 선수가 1등 입니다!!!\n"
     ]
    }
   ],
   "source": [
    "print('%s 선수가 %d등 입니다!!!' %('홍길동', 1))"
   ]
  },
  {
   "cell_type": "code",
   "execution_count": 47,
   "metadata": {},
   "outputs": [
    {
     "data": {
      "text/plain": [
       "[1, 2, 3, 4]"
      ]
     },
     "execution_count": 47,
     "metadata": {},
     "output_type": "execute_result"
    }
   ],
   "source": [
    "# 변수와 인자 전달\n",
    "# 파이썬에서는 a와 b가 같은 객체인 [1,2,3]을 가리킨다.\n",
    "a = [1,2,3]\n",
    "b = a\n",
    "a.append(4)\n",
    "b"
   ]
  },
  {
   "cell_type": "code",
   "execution_count": 48,
   "metadata": {},
   "outputs": [
    {
     "data": {
      "text/plain": [
       "[1, 2, 3, 4]"
      ]
     },
     "execution_count": 48,
     "metadata": {},
     "output_type": "execute_result"
    }
   ],
   "source": [
    "# 함수에 객체를 인자로 넘기면 새로운 지역 변수가 생성되고 원래 객체를 복사하지 않고\n",
    "# 참조만 함\n",
    "def append_element(some_list, element):\n",
    "    some_list.append(element)\n",
    "    \n",
    "data = [1,2,3]\n",
    "append_element(data,4)\n",
    "data"
   ]
  },
  {
   "cell_type": "code",
   "execution_count": 50,
   "metadata": {},
   "outputs": [
    {
     "name": "stdout",
     "output_type": "stream",
     "text": [
      "<class 'int'>\n",
      "<class 'str'>\n"
     ]
    }
   ],
   "source": [
    "# 자바와 같은 컴파일 언어와는 달리 파이썬에서는 객체 참조에 타입이 관여하지 않음\n",
    "a = 5\n",
    "print(type(a))\n",
    "a = 'foo'\n",
    "print(type(a))"
   ]
  },
  {
   "cell_type": "code",
   "execution_count": 52,
   "metadata": {},
   "outputs": [
    {
     "data": {
      "text/plain": [
       "'55'"
      ]
     },
     "execution_count": 52,
     "metadata": {},
     "output_type": "execute_result"
    }
   ],
   "source": [
    "'5' + '5'"
   ]
  },
  {
   "cell_type": "code",
   "execution_count": 53,
   "metadata": {},
   "outputs": [
    {
     "name": "stdout",
     "output_type": "stream",
     "text": [
      "True\n"
     ]
    }
   ],
   "source": [
    "# isinstance 함수 : 자료형 검사 \n",
    "a = 5; b = 4.5\n",
    "print(isinstance(a, int))"
   ]
  },
  {
   "cell_type": "code",
   "execution_count": 1,
   "metadata": {},
   "outputs": [
    {
     "data": {
      "text/plain": [
       "'Foo'"
      ]
     },
     "execution_count": 1,
     "metadata": {},
     "output_type": "execute_result"
    }
   ],
   "source": [
    "# 객체는 일반적으로 속성과 메서드 포함\n",
    "a = 'foo'\n",
    "a.capitalize()"
   ]
  },
  {
   "cell_type": "code",
   "execution_count": 56,
   "metadata": {},
   "outputs": [
    {
     "name": "stdout",
     "output_type": "stream",
     "text": [
      "<class 'list_iterator'>\n",
      "1 2 3 "
     ]
    }
   ],
   "source": [
    "# iterator 객체 - 반복 가능한 객체\n",
    "# 대표적인 iterable 타입 : list, dict, set, str, bytes, tuple, range\n",
    "# iterator 객체 - 값을 차례대로 꺼낼 수 있는 객체\n",
    "# iterator는 iterable한 객체를 내장함수 또는 iterable 객체의 메서드로 객체를 생성\n",
    "# 파이썬 내장함수 iter()를 사용해 iterator 객체를 생성\n",
    "a = [1,2,3]\n",
    "a_iter = iter(a)\n",
    "print(type(a_iter))\n",
    "for i in a:\n",
    "    print(i,end=' ')"
   ]
  },
  {
   "cell_type": "code",
   "execution_count": null,
   "metadata": {},
   "outputs": [],
   "source": [
    "# dir() 내장 함수는 어떤 객체를 인자로 넣어주면 해당 객체가 어떤 변수와 메서드를\n",
    "# 가지고 있는지 나열\n",
    "b = {1,2,3}\n",
    "dir(b)"
   ]
  },
  {
   "cell_type": "code",
   "execution_count": 3,
   "metadata": {},
   "outputs": [],
   "source": [
    "def isiterable(obj):\n",
    "    try:\n",
    "        iter(obj)\n",
    "        return True\n",
    "    except TypeError:  # iterable 객체 아님\n",
    "        return False"
   ]
  },
  {
   "cell_type": "code",
   "execution_count": 61,
   "metadata": {},
   "outputs": [
    {
     "name": "stdout",
     "output_type": "stream",
     "text": [
      "True\n",
      "True\n",
      "False\n"
     ]
    }
   ],
   "source": [
    "print(isiterable('a string'))\n",
    "print(isiterable([1,2,3]))\n",
    "print(isiterable(5))"
   ]
  },
  {
   "cell_type": "code",
   "execution_count": 62,
   "metadata": {},
   "outputs": [
    {
     "name": "stdout",
     "output_type": "stream",
     "text": [
      "[1, 2, 3]\n",
      "True\n",
      "False\n",
      "True\n",
      "False\n"
     ]
    }
   ],
   "source": [
    "# '==' 연산자 vs \"is\"\n",
    "# 두 변수가 같은 객체를 가리키고 있는지 검사하려면 'is' 예약어 사용\n",
    "# 두 변수의 값이 같은지 확인은 '=='을 사용\n",
    "# list는 항상 새로운 파이썬 리스트를 생성하므로 c와 a는 구별됨\n",
    "# is와 is not은 변수가 None인지 검사 시 사용\n",
    "a = [1,2,3]\n",
    "b = a\n",
    "c = list(a)\n",
    "print(c)\n",
    "print(a is b)\n",
    "print(a is c)\n",
    "print(a == c)\n",
    "print(a is None)"
   ]
  },
  {
   "cell_type": "code",
   "execution_count": 63,
   "metadata": {},
   "outputs": [
    {
     "name": "stdout",
     "output_type": "stream",
     "text": [
      "['foo', 2, (3, 4)]\n"
     ]
    }
   ],
   "source": [
    "# 리스트, 사전, Numpy 배열, 사용자 정의 클래스 등 대부분의 객체는 변경 가능\n",
    "a_list = ['foo', 2, [4,5]]\n",
    "a_list[2] = (3,4)\n",
    "print(a_list)"
   ]
  },
  {
   "cell_type": "code",
   "execution_count": null,
   "metadata": {},
   "outputs": [],
   "source": [
    "# 튜풀은 변경 불가\n",
    "a_tuple = (3,4,(4,5))\n",
    "a_tuple[1] = 'four'\n",
    "print(a_tuple)"
   ]
  },
  {
   "cell_type": "code",
   "execution_count": 65,
   "metadata": {},
   "outputs": [
    {
     "data": {
      "text/plain": [
       "[3, 'four', (4, 5)]"
      ]
     },
     "execution_count": 65,
     "metadata": {},
     "output_type": "execute_result"
    }
   ],
   "source": [
    "# 리스트로 변환 후 수정\n",
    "a = list(a_tuple)\n",
    "a[1] = 'four'\n",
    "a"
   ]
  },
  {
   "cell_type": "code",
   "execution_count": null,
   "metadata": {},
   "outputs": [],
   "source": [
    "# 파이썬의 문자열은 변경 불가\n",
    "a = 'this is a string'\n",
    "a[10] = 'f'\n",
    "a"
   ]
  },
  {
   "cell_type": "code",
   "execution_count": 67,
   "metadata": {},
   "outputs": [
    {
     "data": {
      "text/plain": [
       "'this is a longer string'"
      ]
     },
     "execution_count": 67,
     "metadata": {},
     "output_type": "execute_result"
    }
   ],
   "source": [
    "# replace 함수 사용하여 수정\n",
    "b = a.replace('string','longer string')\n",
    "b"
   ]
  },
  {
   "cell_type": "code",
   "execution_count": 68,
   "metadata": {},
   "outputs": [
    {
     "data": {
      "text/plain": [
       "True"
      ]
     },
     "execution_count": 68,
     "metadata": {},
     "output_type": "execute_result"
    }
   ],
   "source": [
    "# 불리언\n",
    "True and True\n",
    "True & False\n",
    "False or False\n",
    "False | True"
   ]
  },
  {
   "cell_type": "code",
   "execution_count": 70,
   "metadata": {},
   "outputs": [
    {
     "data": {
      "text/plain": [
       "False"
      ]
     },
     "execution_count": 70,
     "metadata": {},
     "output_type": "execute_result"
    }
   ],
   "source": [
    "# 형변환 함수 : str, bool, int, float\n",
    "s = '3.14159'\n",
    "fval = float(s)\n",
    "bool(fval)\n",
    "bool(0)"
   ]
  },
  {
   "cell_type": "code",
   "execution_count": 81,
   "metadata": {},
   "outputs": [
    {
     "name": "stdout",
     "output_type": "stream",
     "text": [
      "2020 년\n",
      "12 월\n",
      "28 일\n",
      "14 시\n",
      "11 분\n",
      "34 초\n"
     ]
    }
   ],
   "source": [
    "# 날짜와 시간\n",
    "import datetime\n",
    "\n",
    "now = datetime.datetime.now()\n",
    "now\n",
    "print(now.year,'년')\n",
    "print(now.month,'월')\n",
    "print(now.day,'일')\n",
    "print(now.hour,'시')\n",
    "print(now.minute,'분')\n",
    "print(now.second,'초')\n"
   ]
  },
  {
   "cell_type": "code",
   "execution_count": 75,
   "metadata": {},
   "outputs": [
    {
     "name": "stdout",
     "output_type": "stream",
     "text": [
      "29\n",
      "30\n",
      "2011-10-29\n",
      "20:30:21\n"
     ]
    }
   ],
   "source": [
    "from datetime import datetime, date, time\n",
    "dt = datetime(2011,10,29,20,30,21)\n",
    "print(dt.day)\n",
    "print(dt.minute)\n",
    "print(dt.date())\n",
    "print(dt.time())"
   ]
  },
  {
   "cell_type": "code",
   "execution_count": 76,
   "metadata": {},
   "outputs": [
    {
     "data": {
      "text/plain": [
       "'10/29/2011 20:30'"
      ]
     },
     "execution_count": 76,
     "metadata": {},
     "output_type": "execute_result"
    }
   ],
   "source": [
    "# strftime 함수는 datetime을 문자열로 변환\n",
    "dt.strftime('%m/%d/%Y %H:%M')"
   ]
  },
  {
   "cell_type": "code",
   "execution_count": 77,
   "metadata": {},
   "outputs": [
    {
     "data": {
      "text/plain": [
       "datetime.datetime(2009, 10, 31, 0, 0)"
      ]
     },
     "execution_count": 77,
     "metadata": {},
     "output_type": "execute_result"
    }
   ],
   "source": [
    "# strptime 함수는 문자열을 datetime으로 변환\n",
    "datetime.strptime('20091031','%Y%m%d')"
   ]
  },
  {
   "cell_type": "code",
   "execution_count": 78,
   "metadata": {},
   "outputs": [
    {
     "name": "stdout",
     "output_type": "stream",
     "text": [
      "17 days, 2:00:09 <class 'datetime.timedelta'>\n"
     ]
    }
   ],
   "source": [
    "dt1 = datetime(2011,10,29,20,30,21)\n",
    "dt2 = datetime(2011,11,15,22,30,30)\n",
    "delta = dt2 - dt1\n",
    "print(delta,type(delta))"
   ]
  },
  {
   "cell_type": "code",
   "execution_count": null,
   "metadata": {},
   "outputs": [],
   "source": [
    "# Q.format 함수를 이용해서 다음과 같은 형식으로 현재 날짜/시간을 출력하세요\n",
    "# 2020년 7월 19일 10시 22분 36초"
   ]
  },
  {
   "cell_type": "code",
   "execution_count": 79,
   "metadata": {},
   "outputs": [
    {
     "name": "stdout",
     "output_type": "stream",
     "text": [
      "2020년 12월 28일 12시 36분 34초\n"
     ]
    }
   ],
   "source": [
    "now = \"{}년 {}월 {}일 {}시 {}분 {}초\".format(now.year, now.month, now.day, now.hour, now.minute, \\\n",
    "                                       now.second)\n",
    "print(now)"
   ]
  },
  {
   "cell_type": "code",
   "execution_count": null,
   "metadata": {},
   "outputs": [],
   "source": [
    "# Q 현재 시각으로 오전과 오후를 구분하는 프로그램을 작성하세요."
   ]
  },
  {
   "cell_type": "code",
   "execution_count": 84,
   "metadata": {},
   "outputs": [
    {
     "name": "stdout",
     "output_type": "stream",
     "text": [
      "오후\n"
     ]
    }
   ],
   "source": [
    "# A.\n",
    "t = datetime.datetime.now()\n",
    "if t.hour < 12:\n",
    "    print('오전')\n",
    "else:\n",
    "    print('오후')"
   ]
  },
  {
   "cell_type": "code",
   "execution_count": 85,
   "metadata": {},
   "outputs": [
    {
     "name": "stdout",
     "output_type": "stream",
     "text": [
      "Psoitive and larger than or equal to 5\n"
     ]
    }
   ],
   "source": [
    "# 제어문\n",
    "# if, elif, else\n",
    "x = 5\n",
    "if x < 0:\n",
    "    print(\"It's negative\")\n",
    "elif x == 0:\n",
    "    print('Equal to zero')\n",
    "elif 0 < x < 5:\n",
    "    print('Positive but smaller than 5')\n",
    "else:\n",
    "    print('Psoitive and larger than or equal to 5')"
   ]
  },
  {
   "cell_type": "markdown",
   "metadata": {},
   "source": [
    "Q. 커피 자판기 프로그램\n",
    "- 시나리오 : 자판기 커피 재고 5잔, 커피 1잔 가격 300원, 재고 범위내에서 300원 이상 돈을 넣으면 거스름돈과 커피를 주고 그렇지 않으면 반환하며 재고가 소진되면 안내멘트 출력\n",
    "- 각 Case별 멘트 출력은 상황에 맞게 창작\n",
    "- while, if ~ elif ~ else 제어문을 사용하여 작성"
   ]
  },
  {
   "cell_type": "code",
   "execution_count": 86,
   "metadata": {},
   "outputs": [
    {
     "name": "stdout",
     "output_type": "stream",
     "text": [
      "맛있는 커피를 300원에 드려요~~ 현금을 넣어주세요!!300\n",
      "행복한 시간을 드리는 커피 드세요\n",
      "맛있는 커피를 300원에 드려요~~ 현금을 넣어주세요!!500\n",
      "커피 맛있게 드시고 거스름돈 200원 받는 것 잊지 마시구요\n",
      "맛있는 커피를 300원에 드려요~~ 현금을 넣어주세요!!300\n",
      "행복한 시간을 드리는 커피 드세요\n",
      "맛있는 커피를 300원에 드려요~~ 현금을 넣어주세요!!300\n",
      "행복한 시간을 드리는 커피 드세요\n",
      "맛있는 커피를 300원에 드려요~~ 현금을 넣어주세요!!300\n",
      "행복한 시간을 드리는 커피 드세요\n",
      "커피가 다 떨어졌네요~~ 잠시 판매중지합니다!!!\n"
     ]
    }
   ],
   "source": [
    "coffee = 5\n",
    "\n",
    "while(True):\n",
    "    money = int(input(\"맛있는 커피를 300원에 드려요~~ 현금을 넣어주세요!!\"))\n",
    "    if money == 300:\n",
    "        print(\"행복한 시간을 드리는 커피 드세요\")\n",
    "        coffee = coffee - 1\n",
    "    elif money > 300:\n",
    "        print(\"커피 맛있게 드시고 거스름돈 {}원 받는 것 잊지 마시구요\".format(money-300))\n",
    "        coffee = coffee - 1\n",
    "    else:\n",
    "        print(\"커피는 300원이예요~~ 현금을 다시 넣어주세요 \")\n",
    "        print(\"남은 커피는 %d잔 입니다.\" % coffee)\n",
    "    if coffee == 0:\n",
    "        print(\"커피가 다 떨어졌네요~~ 잠시 판매중지합니다!!!\")\n",
    "        break   "
   ]
  },
  {
   "cell_type": "code",
   "execution_count": null,
   "metadata": {},
   "outputs": [],
   "source": [
    "# Q. \"현금이 만원 이상 있으면 택시를 타고 그렇지 않으면 버스를 타세요\" (if~else)"
   ]
  },
  {
   "cell_type": "code",
   "execution_count": 88,
   "metadata": {},
   "outputs": [
    {
     "name": "stdout",
     "output_type": "stream",
     "text": [
      "택시를 타고 가세요\n"
     ]
    }
   ],
   "source": [
    "cash = 15000\n",
    "# cash = 9000\n",
    "if cash >= 10000:\n",
    "    print('택시를 타고 가세요')\n",
    "else:\n",
    "    print('버스를 타고 가세요')"
   ]
  },
  {
   "cell_type": "code",
   "execution_count": 89,
   "metadata": {},
   "outputs": [
    {
     "data": {
      "text/plain": [
       "True"
      ]
     },
     "execution_count": 89,
     "metadata": {},
     "output_type": "execute_result"
    }
   ],
   "source": [
    "a = 5; b = 7\n",
    "c = 8; d = 4\n",
    "a < b or c > d"
   ]
  },
  {
   "cell_type": "code",
   "execution_count": 90,
   "metadata": {},
   "outputs": [],
   "source": [
    "#Q. \"수입과 지출금액을 비교해서 수입이 많은면 저축 증가, 반대이면 부채 증가, \n",
    "# 같으면 현상 유지\"\n",
    "i = 5,000,000\n",
    "e = 5,000,000"
   ]
  },
  {
   "cell_type": "code",
   "execution_count": 91,
   "metadata": {},
   "outputs": [
    {
     "name": "stdout",
     "output_type": "stream",
     "text": [
      "현상 유지하시는군요!!!\n"
     ]
    }
   ],
   "source": [
    "if i > e:\n",
    "    print('저축이 늘고있네요!')\n",
    "elif i < e:\n",
    "    print('부채가 증가하고 있어요!!')\n",
    "else:\n",
    "    print('현상 유지하시는군요!!!')"
   ]
  },
  {
   "cell_type": "code",
   "execution_count": 95,
   "metadata": {},
   "outputs": [
    {
     "name": "stdout",
     "output_type": "stream",
     "text": [
      "[5, 15, 6, 20, 7, 25]\n",
      "5 15 6 20 7 25 "
     ]
    }
   ],
   "source": [
    "# for 반복문\n",
    "numbers = [5,15,6,20,7,25]\n",
    "print(numbers)\n",
    "for number in numbers:\n",
    "    print(number,end=' ')"
   ]
  },
  {
   "cell_type": "code",
   "execution_count": null,
   "metadata": {},
   "outputs": [],
   "source": [
    "\"\"\"\n",
    "Q. A 학급에 총 10명의 학생이 있다. 이 학생들의 중간고사 점수는 다음과 같다.\n",
    "[70, 60, 55, 75, 95, 90, 80, 80, 85, 100]\n",
    "for문을 사용하여 A 학급의 평균 점수를 구해 보자.\n",
    "\"\"\""
   ]
  },
  {
   "cell_type": "code",
   "execution_count": 96,
   "metadata": {},
   "outputs": [
    {
     "name": "stdout",
     "output_type": "stream",
     "text": [
      "79.0\n"
     ]
    }
   ],
   "source": [
    "# A.\n",
    "a = [70, 60, 55, 75, 95, 90, 80, 80, 85, 100]\n",
    "sum = 0\n",
    "for i in a:\n",
    "    sum += i\n",
    "    \n",
    "average = sum/len(a)    \n",
    "print(average)"
   ]
  },
  {
   "cell_type": "code",
   "execution_count": null,
   "metadata": {},
   "outputs": [],
   "source": [
    "\"\"\"\n",
    "리스트 중에서 홀수에만 2를 곱하여 저장하는 다음과 같은 코드가 있다.\n",
    "numbers = [1, 2, 3, 4, 5]\n",
    "result = []\n",
    "for n in numbers:\n",
    "    if n % 2 == 1:\n",
    "        result.append(n*2)\n",
    "위 코드를 리스트 내포(list comprehension)를 사용하여 표현해 보자.\n",
    "\"\"\""
   ]
  },
  {
   "cell_type": "code",
   "execution_count": 98,
   "metadata": {},
   "outputs": [
    {
     "name": "stdout",
     "output_type": "stream",
     "text": [
      "[2, 6, 10]\n"
     ]
    }
   ],
   "source": [
    "numbers = [1, 2, 3, 4, 5]\n",
    "result = []\n",
    "for n in numbers:\n",
    "    if n % 2 == 1:\n",
    "        result.append(n*2)\n",
    "print(result)"
   ]
  },
  {
   "cell_type": "code",
   "execution_count": 99,
   "metadata": {},
   "outputs": [
    {
     "data": {
      "text/plain": [
       "[2, 6, 10]"
      ]
     },
     "execution_count": 99,
     "metadata": {},
     "output_type": "execute_result"
    }
   ],
   "source": [
    "# list comprehension\n",
    "numbers = [1, 2, 3, 4, 5]\n",
    "result = [n * 2 for n in numbers if n % 2 ==1]\n",
    "result"
   ]
  },
  {
   "cell_type": "code",
   "execution_count": 100,
   "metadata": {},
   "outputs": [
    {
     "name": "stdout",
     "output_type": "stream",
     "text": [
      "12\n"
     ]
    }
   ],
   "source": [
    "# continue\n",
    "sequence = [1,2,None,4,None,5]\n",
    "total = 0\n",
    "for value in sequence:\n",
    "    if value is None:\n",
    "        continue\n",
    "    total += value\n",
    "print(total)"
   ]
  },
  {
   "cell_type": "code",
   "execution_count": 102,
   "metadata": {},
   "outputs": [
    {
     "name": "stdout",
     "output_type": "stream",
     "text": [
      "10\n"
     ]
    }
   ],
   "source": [
    "# break\n",
    "# 4 까지의 합\n",
    "sequence = [1,2,3,4,5,6,7,8]\n",
    "total_until_4 = 0\n",
    "for value in sequence:\n",
    "    if value == 5:\n",
    "        break\n",
    "    total_until_4 += value\n",
    "print(total_until_4)"
   ]
  },
  {
   "cell_type": "code",
   "execution_count": null,
   "metadata": {},
   "outputs": [],
   "source": [
    "# for ~ continue ~ break\n",
    "# Q. 1 ~ 10 범위의 정수에서 1부터 5까지만 출력하세요\""
   ]
  },
  {
   "cell_type": "code",
   "execution_count": 103,
   "metadata": {},
   "outputs": [
    {
     "name": "stdout",
     "output_type": "stream",
     "text": [
      "1 2 3 4 5 "
     ]
    }
   ],
   "source": [
    "for i in range(1,11):\n",
    "    print(i, end=' ')\n",
    "    if i < 5:\n",
    "        continue\n",
    "    else:\n",
    "        break"
   ]
  },
  {
   "cell_type": "code",
   "execution_count": 104,
   "metadata": {},
   "outputs": [
    {
     "name": "stdout",
     "output_type": "stream",
     "text": [
      "(0, 0)\n",
      "(1, 0)\n",
      "(1, 1)\n",
      "(2, 0)\n",
      "(2, 1)\n",
      "(2, 2)\n",
      "(3, 0)\n",
      "(3, 1)\n",
      "(3, 2)\n",
      "(3, 3)\n"
     ]
    }
   ],
   "source": [
    "# break는 가장 안쪽에 있는 for문만 빠져나감\n",
    "for i in range(4):\n",
    "    for j in range(4):\n",
    "        if j > i:\n",
    "            break\n",
    "        print((i,j))"
   ]
  },
  {
   "cell_type": "code",
   "execution_count": 106,
   "metadata": {},
   "outputs": [
    {
     "name": "stdout",
     "output_type": "stream",
     "text": [
      "15 20 25 "
     ]
    }
   ],
   "source": [
    "# Q. numbers 리스트에서 15, 20, 25를 출력하세요.(for문과 if 조건 사용 필수)\n",
    "numbers = [5, 15, 6, 20, 7, 25]\n",
    "for number in numbers:\n",
    "    if number < 10:\n",
    "        continue\n",
    "    else:\n",
    "        print(number, end=' ')"
   ]
  },
  {
   "cell_type": "code",
   "execution_count": 108,
   "metadata": {},
   "outputs": [
    {
     "name": "stdout",
     "output_type": "stream",
     "text": [
      "504\n",
      "4\n"
     ]
    }
   ],
   "source": [
    "# while문\n",
    "# while 문은 조건을 명시하여 해당 조건이 False가 되거나 break 문을 사용해서 \n",
    "# 명시적으로 반복을 종료시까지 블록 내의 코드를 실행\n",
    "x = 256\n",
    "total = 0\n",
    "while x > 0:\n",
    "    if total > 500:\n",
    "        break\n",
    "    total += x\n",
    "    x = x // 2\n",
    "print(total)\n",
    "print(x)"
   ]
  },
  {
   "cell_type": "code",
   "execution_count": null,
   "metadata": {},
   "outputs": [],
   "source": [
    "# Q. 정수 1부터 n까지 더할 때 그 합이 1000보다 커지게 되는 n과 합을 구하세요.(while)"
   ]
  },
  {
   "cell_type": "code",
   "execution_count": 111,
   "metadata": {},
   "outputs": [
    {
     "name": "stdout",
     "output_type": "stream",
     "text": [
      "45\n",
      "1035\n"
     ]
    }
   ],
   "source": [
    "x = 1\n",
    "sum = 0\n",
    "while 1:\n",
    "    sum = sum + x\n",
    "    if sum > 1000:\n",
    "        print(x)\n",
    "        print(sum)\n",
    "        break\n",
    "    x = x + 1"
   ]
  },
  {
   "cell_type": "markdown",
   "metadata": {},
   "source": [
    "[과제] 아래와 같이 출력하는 코딩을 수행하세요."
   ]
  },
  {
   "cell_type": "code",
   "execution_count": 5,
   "metadata": {},
   "outputs": [
    {
     "name": "stdout",
     "output_type": "stream",
     "text": [
      "*\n",
      "**\n",
      "***\n",
      "****\n",
      "*****\n"
     ]
    }
   ],
   "source": [
    "i = 0\n",
    "while True:\n",
    "    i += 1\n",
    "    if i > 5: break\n",
    "    print('*'*i)        "
   ]
  },
  {
   "cell_type": "code",
   "execution_count": null,
   "metadata": {},
   "outputs": [],
   "source": [
    "\n",
    "*\n",
    "**\n",
    "***\n",
    "****\n",
    "*****"
   ]
  },
  {
   "cell_type": "markdown",
   "metadata": {},
   "source": [
    "[과제] while continue break 문을 사용해 1부터 100까지의 정수중 5에서 95까지의 합을 구하세요."
   ]
  },
  {
   "cell_type": "code",
   "execution_count": 4,
   "metadata": {},
   "outputs": [
    {
     "name": "stdout",
     "output_type": "stream",
     "text": [
      "4550\n"
     ]
    }
   ],
   "source": [
    "sum = 0\n",
    "x = 1\n",
    "while x < 101:\n",
    "    x = x + 1\n",
    "    if x < 5:\n",
    "        continue\n",
    "    sum += x\n",
    "    if x > 94:\n",
    "        break\n",
    "print(sum)\n",
    "    "
   ]
  },
  {
   "cell_type": "markdown",
   "metadata": {},
   "source": [
    "[과제] while문을 사용해 1부터 1000까지의 정수 중 3의 배수의 합을 구해 보세요. "
   ]
  },
  {
   "cell_type": "code",
   "execution_count": 6,
   "metadata": {},
   "outputs": [
    {
     "name": "stdout",
     "output_type": "stream",
     "text": [
      "166833\n"
     ]
    }
   ],
   "source": [
    "sum = 0\n",
    "i = 1\n",
    "while i < 1001:\n",
    "    if i % 3 == 0:\n",
    "        sum += i\n",
    "    i += 1\n",
    "print(sum)"
   ]
  },
  {
   "cell_type": "code",
   "execution_count": 113,
   "metadata": {},
   "outputs": [],
   "source": [
    "# pass는 아무 것도 하지 않음을 나타냄\n",
    "x = 0\n",
    "if x < 0:\n",
    "    print('negative')\n",
    "elif x == 0:\n",
    "    pass\n",
    "else:\n",
    "    print('positive')"
   ]
  },
  {
   "cell_type": "code",
   "execution_count": 118,
   "metadata": {},
   "outputs": [
    {
     "name": "stdout",
     "output_type": "stream",
     "text": [
      "[0, 1, 2, 3, 4, 5, 6, 7, 8, 9]\n",
      "[0, 2, 4, 6, 8, 10, 12, 14, 16, 18]\n"
     ]
    },
    {
     "data": {
      "text/plain": [
       "[5, 4, 3, 2, 1]"
      ]
     },
     "execution_count": 118,
     "metadata": {},
     "output_type": "execute_result"
    }
   ],
   "source": [
    "# range 함수는 연속된 정수를 넘겨주는 이터레이터를 반환\n",
    "# start, end, step 값을 지정\n",
    "r1 = range(10)\n",
    "print(list(r1))\n",
    "r2 = range(0,20,2)\n",
    "print(list(r2))\n",
    "r3 = range(5, 0, -1)\n",
    "list(r3)"
   ]
  },
  {
   "cell_type": "code",
   "execution_count": 119,
   "metadata": {},
   "outputs": [
    {
     "name": "stdout",
     "output_type": "stream",
     "text": [
      "2333316668\n"
     ]
    }
   ],
   "source": [
    "# Q. 0 ~ 99,999 까지의 정수 중에서 3 또는 5의 배수 합계\n",
    "sum = 0\n",
    "for i in range(100000):\n",
    "    if i % 3 == 0 or i % 5 == 0:\n",
    "        sum += i\n",
    "print(sum)"
   ]
  },
  {
   "cell_type": "code",
   "execution_count": 120,
   "metadata": {},
   "outputs": [
    {
     "data": {
      "text/plain": [
       "'Non-negative'"
      ]
     },
     "execution_count": 120,
     "metadata": {},
     "output_type": "execute_result"
    }
   ],
   "source": [
    "# 삼항 표현식\n",
    "x = 5\n",
    "'Non-negative' if x >= 0 else 'Negative'"
   ]
  },
  {
   "cell_type": "code",
   "execution_count": 123,
   "metadata": {},
   "outputs": [
    {
     "name": "stdout",
     "output_type": "stream",
     "text": [
      "(1, 2)\n",
      "안녕하세요\n"
     ]
    }
   ],
   "source": [
    "# 자료 구조\n",
    "# 튜플 : 리스트와 비슷한 성질을 가지고 있는 자료형이지만 요소의 값을 변경할 수 없음\n",
    "tuple1 = (1,2,3,4,5)\n",
    "tuple2 = ('a','b','c')\n",
    "tuple3 = (1,'a','abc',[1,2,3,4,5],['a','b','c'])\n",
    "# tuple1[0] = 6\n",
    "\n",
    "def myfunc():\n",
    "    print('안녕하세요')\n",
    "\n",
    "tuple4 = (1,2,myfunc)\n",
    "print(tuple4[:2])\n",
    "tuple4[2]()\n"
   ]
  },
  {
   "cell_type": "code",
   "execution_count": 9,
   "metadata": {},
   "outputs": [
    {
     "ename": "TypeError",
     "evalue": "'tuple' object does not support item assignment",
     "output_type": "error",
     "traceback": [
      "\u001b[1;31m---------------------------------------------------------------------------\u001b[0m",
      "\u001b[1;31mTypeError\u001b[0m                                 Traceback (most recent call last)",
      "\u001b[1;32m<ipython-input-9-1b6c909b5397>\u001b[0m in \u001b[0;36m<module>\u001b[1;34m\u001b[0m\n\u001b[0;32m      1\u001b[0m \u001b[1;31m# 각 슬롯에 저장된 객체를 변경하는 것은 불가능\u001b[0m\u001b[1;33m\u001b[0m\u001b[1;33m\u001b[0m\u001b[1;33m\u001b[0m\u001b[0m\n\u001b[0;32m      2\u001b[0m \u001b[0mtup\u001b[0m \u001b[1;33m=\u001b[0m \u001b[0mtuple\u001b[0m\u001b[1;33m(\u001b[0m\u001b[1;33m[\u001b[0m\u001b[1;34m'foo'\u001b[0m\u001b[1;33m,\u001b[0m\u001b[1;33m[\u001b[0m\u001b[1;36m1\u001b[0m\u001b[1;33m,\u001b[0m\u001b[1;36m2\u001b[0m\u001b[1;33m]\u001b[0m\u001b[1;33m,\u001b[0m\u001b[1;32mTrue\u001b[0m\u001b[1;33m]\u001b[0m\u001b[1;33m)\u001b[0m\u001b[1;33m\u001b[0m\u001b[1;33m\u001b[0m\u001b[0m\n\u001b[1;32m----> 3\u001b[1;33m \u001b[0mtup\u001b[0m\u001b[1;33m[\u001b[0m\u001b[1;36m2\u001b[0m\u001b[1;33m]\u001b[0m \u001b[1;33m=\u001b[0m \u001b[1;32mFalse\u001b[0m\u001b[1;33m\u001b[0m\u001b[1;33m\u001b[0m\u001b[0m\n\u001b[0m",
      "\u001b[1;31mTypeError\u001b[0m: 'tuple' object does not support item assignment"
     ]
    }
   ],
   "source": [
    "# 각 슬롯에 저장된 객체를 변경하는 것은 불가능\n",
    "tup = tuple(['foo',[1,2],True])\n",
    "tup[2] = False"
   ]
  },
  {
   "cell_type": "code",
   "execution_count": 8,
   "metadata": {},
   "outputs": [
    {
     "data": {
      "text/plain": [
       "('foo', [1, 2, 3], True)"
      ]
     },
     "execution_count": 8,
     "metadata": {},
     "output_type": "execute_result"
    }
   ],
   "source": [
    "# 튜플에 추가하는 것은 가능\n",
    "tup[1].append(3)\n",
    "tup"
   ]
  },
  {
   "cell_type": "code",
   "execution_count": 10,
   "metadata": {},
   "outputs": [
    {
     "data": {
      "text/plain": [
       "7"
      ]
     },
     "execution_count": 10,
     "metadata": {},
     "output_type": "execute_result"
    }
   ],
   "source": [
    "# 순차 자료형으로 값을 분리\n",
    "tup = 4,5,(6,7)\n",
    "a,b,(c,d) = tup\n",
    "d"
   ]
  },
  {
   "cell_type": "code",
   "execution_count": 11,
   "metadata": {},
   "outputs": [
    {
     "name": "stdout",
     "output_type": "stream",
     "text": [
      "a=1, b=2, c=3\n",
      "a=4, b=5, c=6\n",
      "a=7, b=8, c=9\n"
     ]
    }
   ],
   "source": [
    "# 튜플이나 리스트를 순회시 값을 분리하는 기능\n",
    "seq = [(1,2,3),(4,5,6),(7,8,9)]\n",
    "for a, b, c in seq:\n",
    "    print('a={0}, b={1}, c={2}'.format(a,b,c))"
   ]
  },
  {
   "cell_type": "code",
   "execution_count": 12,
   "metadata": {},
   "outputs": [
    {
     "data": {
      "text/plain": [
       "3"
      ]
     },
     "execution_count": 12,
     "metadata": {},
     "output_type": "execute_result"
    }
   ],
   "source": [
    "# count\n",
    "a = (1,2,3,3,4,4,5,5,5)\n",
    "a.count(5)"
   ]
  },
  {
   "cell_type": "markdown",
   "metadata": {},
   "source": [
    "파이썬에서 함수와 메서드의 차이\n",
    "- 프로그래밍 언어에 있어서 함수(function)라는 것은 어떠한 기능을 수행\n",
    "- 메서드도 함수처럼 어떠한 기능을 수행\n",
    "- 메서드는 클래스 및 객체(object)와 연관되어 있는 함수\n",
    "- 함수가 메서드보다 더 큰 개념. 그래서 메서드를 부를 때 포괄적으로 함수로 지칭\n",
    "- 함수는 sum(), abs() 같이 독립적으로 사용되는 반면, 메서드는 a라는 객체가 존재할 때 a.upper(), a.lower()와 같은 형태로 사용"
   ]
  },
  {
   "cell_type": "code",
   "execution_count": 14,
   "metadata": {},
   "outputs": [
    {
     "name": "stdout",
     "output_type": "stream",
     "text": [
      "[6, 2, 3, 4, 5]\n",
      "안녕하세요\n"
     ]
    }
   ],
   "source": [
    "# 리스트 : []로 표시하며 []안의 요소를 콤마로 구분하여 순서있게 나열\n",
    "list1 = [1,2,3,4,5]\n",
    "list2 = ['a','b','c']\n",
    "list3 = [1,'a','abc',[1,2,3,4,5],['a','b','c']]\n",
    "list1[0] = 6\n",
    "print(list1)\n",
    "def myfunc():\n",
    "    print('안녕하세요')\n",
    "list4 = [1,2,myfunc]\n",
    "list4[2]() \n"
   ]
  },
  {
   "cell_type": "code",
   "execution_count": 17,
   "metadata": {},
   "outputs": [
    {
     "name": "stdout",
     "output_type": "stream",
     "text": [
      "[0, 1, 2, 3, 4, 5, 6, 7, 8, 9]\n"
     ]
    }
   ],
   "source": [
    "# 리스트 함수는 이터레이터나 제너레이터 표현에서 실제 값을 모두 담기 위한 용도로 사용\n",
    "gen = range(10)\n",
    "print(list(gen))"
   ]
  },
  {
   "cell_type": "code",
   "execution_count": 18,
   "metadata": {},
   "outputs": [
    {
     "data": {
      "text/plain": [
       "['foo', 'red', 'bar', 'baz']"
      ]
     },
     "execution_count": 18,
     "metadata": {},
     "output_type": "execute_result"
    }
   ],
   "source": [
    "# insert 메서드 사용, 특정 위치에 값 추가\n",
    "b_list = ['foo','bar','baz']\n",
    "b_list.insert(1,'red')\n",
    "b_list"
   ]
  },
  {
   "cell_type": "code",
   "execution_count": 21,
   "metadata": {},
   "outputs": [
    {
     "name": "stdout",
     "output_type": "stream",
     "text": [
      "['foo', 'red', 'baz']\n",
      "baz\n",
      "['foo', 'red']\n"
     ]
    }
   ],
   "source": [
    "# pop 메서드는 특정 위치의 값을 반환하고 해당 값을 리스트에서 삭제\n",
    "print(b_list)\n",
    "print(b_list.pop(2))\n",
    "print(b_list)"
   ]
  },
  {
   "cell_type": "code",
   "execution_count": 22,
   "metadata": {},
   "outputs": [
    {
     "data": {
      "text/plain": [
       "['red', 'bar', 'baz']"
      ]
     },
     "execution_count": 22,
     "metadata": {},
     "output_type": "execute_result"
    }
   ],
   "source": [
    "# remove 메서드 : 삭제\n",
    "b_list = ['foo', 'red', 'bar', 'baz']\n",
    "b_list.remove('foo')\n",
    "b_list"
   ]
  },
  {
   "cell_type": "code",
   "execution_count": 23,
   "metadata": {},
   "outputs": [
    {
     "data": {
      "text/plain": [
       "False"
      ]
     },
     "execution_count": 23,
     "metadata": {},
     "output_type": "execute_result"
    }
   ],
   "source": [
    "# in 예약어를 사용, 리스트에 어떤 값이 있는지 검사\n",
    "'dwarf' in b_list"
   ]
  },
  {
   "cell_type": "code",
   "execution_count": 24,
   "metadata": {},
   "outputs": [
    {
     "data": {
      "text/plain": [
       "True"
      ]
     },
     "execution_count": 24,
     "metadata": {},
     "output_type": "execute_result"
    }
   ],
   "source": [
    "# not in\n",
    "'dwarf' not in b_list"
   ]
  },
  {
   "cell_type": "code",
   "execution_count": 25,
   "metadata": {},
   "outputs": [
    {
     "data": {
      "text/plain": [
       "[4, None, 'foo', 7, 8, (2, 3)]"
      ]
     },
     "execution_count": 25,
     "metadata": {},
     "output_type": "execute_result"
    }
   ],
   "source": [
    "# extend 메서드\n",
    "x = [4, None, 'foo']\n",
    "x.extend([7,8,(2,3)])\n",
    "x"
   ]
  },
  {
   "cell_type": "code",
   "execution_count": 37,
   "metadata": {},
   "outputs": [
    {
     "name": "stdout",
     "output_type": "stream",
     "text": [
      "[1, 2, 3, 5, 7] <class 'list'>\n"
     ]
    }
   ],
   "source": [
    "# 정렬 : 새로운 리스트를 생성하지 않고 있는 그대로 리스트를 정렬\n",
    "a = [7,2,5,1,3]\n",
    "a.sort()\n",
    "print(a,type(a))"
   ]
  },
  {
   "cell_type": "code",
   "execution_count": 27,
   "metadata": {},
   "outputs": [
    {
     "data": {
      "text/plain": [
       "['He', 'saw', 'six', 'small', 'foxes']"
      ]
     },
     "execution_count": 27,
     "metadata": {},
     "output_type": "execute_result"
    }
   ],
   "source": [
    "# 문자열의 길이 순으로 정렬\n",
    "b = ['saw','small','He','foxes','six']\n",
    "b.sort(key = len)\n",
    "b"
   ]
  },
  {
   "cell_type": "code",
   "execution_count": 28,
   "metadata": {},
   "outputs": [
    {
     "data": {
      "text/plain": [
       "[1, 2, 3, 5, 5]"
      ]
     },
     "execution_count": 28,
     "metadata": {},
     "output_type": "execute_result"
    }
   ],
   "source": [
    "# sorted 함수 : 정렬된 복사본을 생성\n",
    "sorted([5,2,3,1,5])"
   ]
  },
  {
   "cell_type": "code",
   "execution_count": 46,
   "metadata": {},
   "outputs": [
    {
     "name": "stdout",
     "output_type": "stream",
     "text": [
      "[1 2 3 5 7]\n",
      "[7 5 3 2 1]\n",
      "[7 2 5 1 3] <class 'numpy.ndarray'>\n"
     ]
    }
   ],
   "source": [
    "# Numpy np.sort()는 원본 행렬을 변경하지 않고 정렬된 형태로 변환\n",
    "import numpy as np\n",
    "a1 = [7,2,5,1,3]\n",
    "ar1 = np.array(a1)\n",
    "print(np.sort(ar1))\n",
    "print(np.sort(ar1)[::-1]) # 내림차순\n",
    "print(ar1,type(ar1))"
   ]
  },
  {
   "cell_type": "code",
   "execution_count": 36,
   "metadata": {},
   "outputs": [
    {
     "name": "stdout",
     "output_type": "stream",
     "text": [
      "None\n",
      "[1 2 3 5 7]\n"
     ]
    }
   ],
   "source": [
    "# ndarray.sort()는 원본 행렬 자체을 변환\n",
    "import numpy as np\n",
    "a2 = [7,2,5,1,3]\n",
    "ar2 = np.array(a2)\n",
    "print(ar2.sort())\n",
    "print(ar2)"
   ]
  },
  {
   "cell_type": "code",
   "execution_count": 42,
   "metadata": {},
   "outputs": [
    {
     "name": "stdout",
     "output_type": "stream",
     "text": [
      "4\n",
      "6\n"
     ]
    },
    {
     "data": {
      "text/plain": [
       "[1, 2, 2, 2, 3, 4, 6, 7]"
      ]
     },
     "execution_count": 42,
     "metadata": {},
     "output_type": "execute_result"
    }
   ],
   "source": [
    "# 정렬된 리스트를 유지한 상태에서 인자를 포함시킬 위치를 반환\n",
    "import bisect\n",
    "c = [1,2,2,2,3,4,7]\n",
    "print(bisect.bisect(c,2))\n",
    "print(bisect.bisect(c, 5))\n",
    "bisect.insort(c,6)\n",
    "c"
   ]
  },
  {
   "cell_type": "code",
   "execution_count": 43,
   "metadata": {},
   "outputs": [
    {
     "name": "stdout",
     "output_type": "stream",
     "text": [
      "[7]\n"
     ]
    },
    {
     "data": {
      "text/plain": [
       "[3, 7, 5, 6]"
      ]
     },
     "execution_count": 43,
     "metadata": {},
     "output_type": "execute_result"
    }
   ],
   "source": [
    "# 슬라이싱\n",
    "seq = [7,2,3,7,5,6,0,1]\n",
    "print(seq[3:4])\n",
    "seq[-6:-2]"
   ]
  },
  {
   "cell_type": "code",
   "execution_count": 44,
   "metadata": {},
   "outputs": [
    {
     "data": {
      "text/plain": [
       "[7, 3, 5, 0]"
      ]
     },
     "execution_count": 44,
     "metadata": {},
     "output_type": "execute_result"
    }
   ],
   "source": [
    "# 두번째 콜론 다음에 간격(step)을 지정\n",
    "seq[::2]"
   ]
  },
  {
   "cell_type": "code",
   "execution_count": 45,
   "metadata": {},
   "outputs": [
    {
     "name": "stdout",
     "output_type": "stream",
     "text": [
      "[7, 2, 3, 7, 5, 6, 0, 1]\n"
     ]
    },
    {
     "data": {
      "text/plain": [
       "[1, 0, 6, 5, 7, 3, 2, 7]"
      ]
     },
     "execution_count": 45,
     "metadata": {},
     "output_type": "execute_result"
    }
   ],
   "source": [
    "# 간격 값으로 -1을 사용하면 리스트나 튜플을 역순으로 반환\n",
    "print(seq)\n",
    "seq[::-1]"
   ]
  },
  {
   "cell_type": "code",
   "execution_count": 47,
   "metadata": {},
   "outputs": [
    {
     "data": {
      "text/plain": [
       "{'foo': 0, 'bar': 1, 'baz': 2}"
      ]
     },
     "execution_count": 47,
     "metadata": {},
     "output_type": "execute_result"
    }
   ],
   "source": [
    "# enumerate 함수\n",
    "some_list = ['foo','bar','baz']\n",
    "mapping = {}\n",
    "for i, v in enumerate(some_list):\n",
    "    mapping[v] = i\n",
    "mapping"
   ]
  },
  {
   "cell_type": "code",
   "execution_count": 48,
   "metadata": {},
   "outputs": [
    {
     "data": {
      "text/plain": [
       "[('foo', 'one'), ('bar', 'two'), ('baz', 'three')]"
      ]
     },
     "execution_count": 48,
     "metadata": {},
     "output_type": "execute_result"
    }
   ],
   "source": [
    "# zip 함수 : 서로 짝지어서 튜플의 리스트를 생성\n",
    "seq1 = ['foo','bar','baz']\n",
    "seq2 = ['one','two','three']\n",
    "zipped = zip(seq1,seq2)\n",
    "list(zipped)"
   ]
  },
  {
   "cell_type": "code",
   "execution_count": 49,
   "metadata": {},
   "outputs": [
    {
     "data": {
      "text/plain": [
       "[('foo', 'one', False), ('bar', 'two', True)]"
      ]
     },
     "execution_count": 49,
     "metadata": {},
     "output_type": "execute_result"
    }
   ],
   "source": [
    "# 리스트의 크기는 넘겨받은 순차자료중 가장 짧은 크기로 정해짐\n",
    "seq3 = [False, True]\n",
    "list(zip(seq1,seq2,seq3))"
   ]
  },
  {
   "cell_type": "code",
   "execution_count": 50,
   "metadata": {},
   "outputs": [
    {
     "name": "stdout",
     "output_type": "stream",
     "text": [
      "0: foo, one\n",
      "1: bar, two\n",
      "2: baz, three\n"
     ]
    }
   ],
   "source": [
    "# 여러 개의 순차 자료형을 동시에 순회\n",
    "for i, (a,b) in enumerate(zip(seq1,seq2)):\n",
    "    print('{0}: {1}, {2}'.format(i,a,b))"
   ]
  },
  {
   "cell_type": "code",
   "execution_count": 51,
   "metadata": {},
   "outputs": [
    {
     "name": "stdout",
     "output_type": "stream",
     "text": [
      "('Nolan', 'Roger', 'Schilling')\n",
      "('Ryan', 'Clemens', 'Curt')\n"
     ]
    }
   ],
   "source": [
    "pichers = [('Nolan','Ryan'),('Roger','Clemens'),('Schilling','Curt')]\n",
    "first_names, last_names = zip(*pichers)\n",
    "print(first_names)\n",
    "print(last_names)"
   ]
  },
  {
   "cell_type": "code",
   "execution_count": 52,
   "metadata": {},
   "outputs": [
    {
     "data": {
      "text/plain": [
       "[9, 8, 7, 6, 5, 4, 3, 2, 1, 0]"
      ]
     },
     "execution_count": 52,
     "metadata": {},
     "output_type": "execute_result"
    }
   ],
   "source": [
    "# reversed 함수 : 순차 자료형을 역순으로 순회\n",
    "list(reversed(range(10)))"
   ]
  },
  {
   "cell_type": "code",
   "execution_count": 55,
   "metadata": {},
   "outputs": [
    {
     "name": "stdout",
     "output_type": "stream",
     "text": [
      "1\n",
      "{'a': 1, 'b': 7, 'c': 3}\n",
      "3\n"
     ]
    }
   ],
   "source": [
    "# 사전 : 키와 값을 하나의 요소로 하는 순서가 없는 집합\n",
    "# 시퀀스 자료형이 아니며 인덱싱으로 값을 접근할 수 없음\n",
    "dict1 = {'a':1,'b':2,'c':3}\n",
    "print(dict1['a'])\n",
    "dict1['b'] = 7\n",
    "print(dict1)\n",
    "print(len(dict1))"
   ]
  },
  {
   "cell_type": "code",
   "execution_count": 57,
   "metadata": {},
   "outputs": [
    {
     "data": {
      "text/plain": [
       "True"
      ]
     },
     "execution_count": 57,
     "metadata": {},
     "output_type": "execute_result"
    }
   ],
   "source": [
    "# 사전에 키가 있는지 확인\n",
    "'b' in dict1"
   ]
  },
  {
   "cell_type": "code",
   "execution_count": 59,
   "metadata": {},
   "outputs": [
    {
     "data": {
      "text/plain": [
       "{'a': 'some value', 'b': [1, 2, 3, 4], 7: 'an integer'}"
      ]
     },
     "execution_count": 59,
     "metadata": {},
     "output_type": "execute_result"
    }
   ],
   "source": [
    "d1 = {'a':'some value','b':[1,2,3,4]}\n",
    "d1[7] = 'an integer'\n",
    "d1"
   ]
  },
  {
   "cell_type": "code",
   "execution_count": 61,
   "metadata": {},
   "outputs": [
    {
     "data": {
      "text/plain": [
       "['some value', [1, 2, 3, 4], 'an integer']"
      ]
     },
     "execution_count": 61,
     "metadata": {},
     "output_type": "execute_result"
    }
   ],
   "source": [
    "list(d1.keys())\n",
    "list(d1.values())"
   ]
  },
  {
   "cell_type": "code",
   "execution_count": 62,
   "metadata": {},
   "outputs": [
    {
     "data": {
      "text/plain": [
       "{'a': 'some value', 'b': 'foo', 7: 'an integer', 'c': 12}"
      ]
     },
     "execution_count": 62,
     "metadata": {},
     "output_type": "execute_result"
    }
   ],
   "source": [
    "# 하나의 사전을 다른 사전과 합칠 수 있음\n",
    "d1.update({'b':'foo','c':12})\n",
    "d1"
   ]
  },
  {
   "cell_type": "code",
   "execution_count": 64,
   "metadata": {},
   "outputs": [
    {
     "name": "stdout",
     "output_type": "stream",
     "text": [
      "[(0, 4), (1, 3), (2, 2), (3, 1), (4, 0)]\n"
     ]
    },
    {
     "data": {
      "text/plain": [
       "{0: 4, 1: 3, 2: 2, 3: 1, 4: 0}"
      ]
     },
     "execution_count": 64,
     "metadata": {},
     "output_type": "execute_result"
    }
   ],
   "source": [
    "# 2개짜리 튜플의 리스트를 인자로 받아서 사전을 생성\n",
    "print(list(zip(range(5),reversed(range(5)))))\n",
    "mapping = dict(zip(range(5),reversed(range(5))))\n",
    "mapping"
   ]
  },
  {
   "cell_type": "code",
   "execution_count": 65,
   "metadata": {},
   "outputs": [
    {
     "data": {
      "text/plain": [
       "{1, 2, 3}"
      ]
     },
     "execution_count": 65,
     "metadata": {},
     "output_type": "execute_result"
    }
   ],
   "source": [
    "# 집합 : 중복을 허용하지 않으며 순서가 없다.\n",
    "set([2,2,2,1,3,3])"
   ]
  },
  {
   "cell_type": "code",
   "execution_count": 71,
   "metadata": {},
   "outputs": [
    {
     "name": "stdout",
     "output_type": "stream",
     "text": [
      "{1, 2, 3, 4, 5}\n",
      "{'e', 'o', 'l', 'H'}\n",
      "[1, 2, 3, 4, 5]\n",
      "2\n",
      "['e', 'o', 'l', 'H']\n",
      "o\n"
     ]
    }
   ],
   "source": [
    "# 집합은 리스트나 튜플로 변환 후 인덱싱\n",
    "s1 = set([1,2,3,4,5])\n",
    "print(s1)\n",
    "s2 = set('Hello')\n",
    "print(s2)\n",
    "l1 = list(s1)\n",
    "print(l1)\n",
    "print(l1[1])\n",
    "l2 = list(s2)\n",
    "print(l2)\n",
    "print(l2[1])"
   ]
  },
  {
   "cell_type": "code",
   "execution_count": 72,
   "metadata": {},
   "outputs": [
    {
     "name": "stdout",
     "output_type": "stream",
     "text": [
      "{1, 2, 3, 4, 5, 6, 7, 8}\n",
      "{1, 2, 3, 4, 5, 6, 7, 8}\n",
      "{3, 4, 5}\n",
      "{3, 4, 5}\n"
     ]
    }
   ],
   "source": [
    "# 합집합, 교집합\n",
    "a = {1,2,3,4,5}\n",
    "b = {3,4,5,6,7,8}\n",
    "print(a.union(b))\n",
    "print(a|b)\n",
    "print(a.intersection(b))\n",
    "print(a&b)"
   ]
  },
  {
   "cell_type": "code",
   "execution_count": 75,
   "metadata": {},
   "outputs": [
    {
     "name": "stdout",
     "output_type": "stream",
     "text": [
      "{1, 2, 3, 4, 5, 6, 7, 8}\n",
      "{3, 4, 5}\n"
     ]
    }
   ],
   "source": [
    "c = a.copy()\n",
    "c |= b\n",
    "print(c)\n",
    "d = a.copy()\n",
    "d &= b\n",
    "print(d)"
   ]
  },
  {
   "cell_type": "code",
   "execution_count": 76,
   "metadata": {},
   "outputs": [
    {
     "data": {
      "text/plain": [
       "True"
      ]
     },
     "execution_count": 76,
     "metadata": {},
     "output_type": "execute_result"
    }
   ],
   "source": [
    "# 부분집합 확인\n",
    "a_set = {1,2,3,4,5}\n",
    "{1,2,3}.issubset(a_set)"
   ]
  },
  {
   "cell_type": "code",
   "execution_count": 77,
   "metadata": {},
   "outputs": [
    {
     "data": {
      "text/plain": [
       "True"
      ]
     },
     "execution_count": 77,
     "metadata": {},
     "output_type": "execute_result"
    }
   ],
   "source": [
    "# 확대집합 확인\n",
    "a_set.issuperset({1,2,3})"
   ]
  },
  {
   "cell_type": "markdown",
   "metadata": {},
   "source": [
    "Q. 태어난 연도를 입력받아 띠를 출력하는 프로그램을 작성하세요.\n",
    "\n",
    "원숭이, 닭, 개, 돼지, 쥐, 소, 범, 토끼, 용, 뱀, 말, 양띠"
   ]
  },
  {
   "cell_type": "code",
   "execution_count": 78,
   "metadata": {},
   "outputs": [
    {
     "name": "stdout",
     "output_type": "stream",
     "text": [
      "태어난 연도를 입력하세요> 1995\n",
      "돼지띠입니다.\n"
     ]
    }
   ],
   "source": [
    "birth_year = input(\"태어난 연도를 입력하세요> \")\n",
    "byear = int(birth_year)\n",
    "if byear % 12 == 0:\n",
    "    print(\"원숭이띠입니다.\")\n",
    "elif byear % 12 == 1:\n",
    "    print(\"닭띠입니다.\")\n",
    "elif byear % 12 == 2:\n",
    "    print(\"개띠입니다.\")\n",
    "elif byear % 12 == 3:\n",
    "    print(\"돼지띠입니다.\")\n",
    "elif byear % 12 == 4:\n",
    "    print(\"쥐띠입니다.\")\n",
    "elif byear % 12 == 5:\n",
    "    print(\"소띠입니다.\")\n",
    "elif byear % 12 == 6:\n",
    "    print(\"범띠입니다.\")\n",
    "elif byear % 12 == 7:\n",
    "    print(\"토끼띠입니다.\")\n",
    "elif byear % 12 == 8:\n",
    "    print(\"용띠입니다.\")\n",
    "elif byear % 12 == 9:\n",
    "    print(\"뱀띠입니다.\")\n",
    "elif byear % 12 == 10:\n",
    "    print(\"말띠입니다.\")\n",
    "else:\n",
    "    print(\"양띠입니다.\")"
   ]
  },
  {
   "cell_type": "code",
   "execution_count": 80,
   "metadata": {},
   "outputs": [
    {
     "name": "stdout",
     "output_type": "stream",
     "text": [
      "태어난 연도를 입력하세요> 1995\n",
      "돼지띠입니다.\n"
     ]
    }
   ],
   "source": [
    "# 효율화\n",
    "animal = ['원숭이', '닭', '개', '돼지', '쥐', '소', '범', '토끼', '용', '뱀', '말', '양띠']\n",
    "year = int(input(\"태어난 연도를 입력하세요> \"))\n",
    "print('{}띠입니다.'.format(animal[year%12]))"
   ]
  },
  {
   "cell_type": "markdown",
   "metadata": {},
   "source": [
    "Q. 계절 구분 프로그램\n",
    "\n",
    "- 시나리오 : 3 ~ 5월은 봄, 6 ~ 8월은 여름, 9 ~ 11월은 가을, 12 ~ 2월은 겨울로 구분. 지금 계절을 알려주는 프로그램\n",
    "- 각 계절별 출력 멘트는 계절에 맞게 창작\n",
    "- if 조건문으로 datetime 모듈을 import해서 datetime.now 함수를 사용해서 작성 "
   ]
  },
  {
   "cell_type": "code",
   "execution_count": 81,
   "metadata": {},
   "outputs": [
    {
     "name": "stdout",
     "output_type": "stream",
     "text": [
      "겨울\n"
     ]
    }
   ],
   "source": [
    "import datetime\n",
    "t = datetime.datetime.now()\n",
    "if 3<= t.month <=5:\n",
    "    print('봄')\n",
    "if 6<= t.month <=8:\n",
    "    print('여름')\n",
    "if 9<= t.month <=11:\n",
    "    print('가을')\n",
    "if 1 <= t.month <=2 or t.month==12:\n",
    "    print('겨울')"
   ]
  }
 ],
 "metadata": {
  "kernelspec": {
   "display_name": "Python 3",
   "language": "python",
   "name": "python3"
  },
  "language_info": {
   "codemirror_mode": {
    "name": "ipython",
    "version": 3
   },
   "file_extension": ".py",
   "mimetype": "text/x-python",
   "name": "python",
   "nbconvert_exporter": "python",
   "pygments_lexer": "ipython3",
   "version": "3.7.9"
  }
 },
 "nbformat": 4,
 "nbformat_minor": 4
}
