{
 "cells": [
  {
   "cell_type": "markdown",
   "metadata": {},
   "source": [
    "클래스 기반의 객체 지향 프로그래밍 언어는 클래스라는 것을 기반으로 객체를 만들고 그러한 객체를 우선으로 생각해서 프로그래밍\n",
    "- 자료형(type)\n",
    "- 클래스(Class)란 무엇인가\n",
    "- 인스턴스 생성하기 (Instantiation)\n",
    "- 객체 지향 프로그래밍 (Object-Oriented Programming)\n",
    "- 클래스 변수 (Class Variables)\n",
    "- 메서드 (Methods)\n",
    "- 생성자 (Constructor)\n",
    "- 인스턴스 변수 (Instance Variables)\n",
    "- 인스턴스 변수의 활용, self\n",
    "- 파이썬에서는 모든 게 다 객체(Object)"
   ]
  },
  {
   "cell_type": "code",
   "execution_count": 1,
   "metadata": {},
   "outputs": [
    {
     "name": "stdout",
     "output_type": "stream",
     "text": [
      "<class 'str'>\n",
      "<class 'int'>\n"
     ]
    }
   ],
   "source": [
    "# 자료형(type)\n",
    "print(type(\"string\"))\n",
    "print(type(1))"
   ]
  },
  {
   "cell_type": "code",
   "execution_count": 3,
   "metadata": {},
   "outputs": [],
   "source": [
    "# 클래스란 무엇인가?\n",
    "# 자료형을 위한 일종의 템플릿\n",
    "# 클래스안에는 다양한 유형의 정보가 담겨 있고 우리가 자료형과 어떻게 상호작용할\n",
    "# 것인지 포함\n",
    "class TestClass:\n",
    "    pass"
   ]
  },
  {
   "cell_type": "code",
   "execution_count": 5,
   "metadata": {},
   "outputs": [],
   "source": [
    "test_instance = TestClass()\n",
    "test_instance1 = TestClass()\n",
    "test_instance2 = TestClass()\n",
    "test_instance3 = TestClass()"
   ]
  },
  {
   "cell_type": "code",
   "execution_count": 6,
   "metadata": {},
   "outputs": [
    {
     "data": {
      "text/plain": [
       "__main__.TestClass"
      ]
     },
     "execution_count": 6,
     "metadata": {},
     "output_type": "execute_result"
    }
   ],
   "source": [
    "type(test_instance)"
   ]
  },
  {
   "cell_type": "code",
   "execution_count": 8,
   "metadata": {},
   "outputs": [
    {
     "name": "stdout",
     "output_type": "stream",
     "text": [
      "abc\n"
     ]
    }
   ],
   "source": [
    "# 클래스 변수 : 인스턴스 변수와 달리 모든 인스턴스 사이에 공유된 값을 가짐\n",
    "class MyClass:\n",
    "    value = \"abc\"\n",
    "if __name__ == \"__main__\":\n",
    "    print(MyClass.value)"
   ]
  },
  {
   "cell_type": "code",
   "execution_count": 9,
   "metadata": {},
   "outputs": [
    {
     "name": "stdout",
     "output_type": "stream",
     "text": [
      "1\n",
      "2\n"
     ]
    }
   ],
   "source": [
    "class MyClass:\n",
    "    value = 0 # 클래스 변수\n",
    "    def __init__(self): # 초기화 : 인스턴스 생성\n",
    "        MyClass.value += 1\n",
    "\n",
    "if __name__ == \"__main__\":\n",
    "    a = MyClass()\n",
    "    print(MyClass.value)\n",
    "    b = MyClass()\n",
    "    print(MyClass.value)"
   ]
  },
  {
   "cell_type": "markdown",
   "metadata": {},
   "source": [
    "클래스 변수 vs 인스턴스 변수\n",
    "\n",
    "<img src='클래스변수.jpg' STYLE='width:500px'>"
   ]
  },
  {
   "cell_type": "code",
   "execution_count": 12,
   "metadata": {},
   "outputs": [
    {
     "name": "stdout",
     "output_type": "stream",
     "text": [
      "1 honux\n",
      "2 crong\n",
      "2 2 2\n"
     ]
    }
   ],
   "source": [
    "# 인스턴스 변수\n",
    "class User:\n",
    "    num_users = 0 # 클래스 변수\n",
    "    def __init__(self,name):\n",
    "        self.name = name # 인스턴스 변수\n",
    "        User.num_users += 1\n",
    "        \n",
    "u = User('honux')\n",
    "print(User.num_users, u.name)\n",
    "u2 = User('crong')\n",
    "print(User.num_users,u2.name)\n",
    "print(User.num_users,u.num_users,u2.num_users)"
   ]
  },
  {
   "cell_type": "code",
   "execution_count": 13,
   "metadata": {},
   "outputs": [
    {
     "name": "stdout",
     "output_type": "stream",
     "text": [
      "I am a Rockstar!\n"
     ]
    }
   ],
   "source": [
    "# 메서드\n",
    "class Musician:\n",
    "    title = 'Rockstar'\n",
    "    def explanation(self):\n",
    "        print('I am a {}!'.format(self.title))\n",
    "drummer = Musician()\n",
    "drummer.explanation()"
   ]
  },
  {
   "cell_type": "code",
   "execution_count": 14,
   "metadata": {},
   "outputs": [
    {
     "name": "stdout",
     "output_type": "stream",
     "text": [
      "113.04\n",
      "1017.36\n"
     ]
    }
   ],
   "source": [
    "# 다른 인수가 있는 메서드\n",
    "class Circle():\n",
    "    pi = 3.14\n",
    "    def area(self, radius):\n",
    "        return self.pi * radius ** 2\n",
    "circle = Circle()\n",
    "pizza_area = circle.area(6)\n",
    "table_area = circle.area(18)\n",
    "print(pizza_area)\n",
    "print(table_area)"
   ]
  },
  {
   "cell_type": "code",
   "execution_count": 15,
   "metadata": {},
   "outputs": [
    {
     "name": "stdout",
     "output_type": "stream",
     "text": [
      "Hello?!\n"
     ]
    }
   ],
   "source": [
    "# 생성자\n",
    "class Shouter:\n",
    "    def __init__(self):\n",
    "        print('Hello?!')\n",
    "shout = Shouter()"
   ]
  },
  {
   "cell_type": "code",
   "execution_count": 17,
   "metadata": {},
   "outputs": [
    {
     "name": "stdout",
     "output_type": "stream",
     "text": [
      "New circle with radius: 18\n"
     ]
    }
   ],
   "source": [
    "class Circle:\n",
    "    pi = 3.14\n",
    "    def __init__(self,radius):\n",
    "        print('New circle with radius: {}'.format(radius))\n",
    "table = Circle(18)"
   ]
  },
  {
   "cell_type": "code",
   "execution_count": 19,
   "metadata": {},
   "outputs": [
    {
     "name": "stdout",
     "output_type": "stream",
     "text": [
      "PARK\n",
      "KIM\n"
     ]
    }
   ],
   "source": [
    "# 인스턴스 변수의 활용\n",
    "class AutoEmail:\n",
    "    def __init__(self,name):\n",
    "        self.name = name\n",
    "mail_to_park = AutoEmail('PARK')\n",
    "mail_to_kim = AutoEmail('KIM')\n",
    "print(mail_to_park.name)\n",
    "print(mail_to_kim.name)"
   ]
  },
  {
   "cell_type": "code",
   "execution_count": 21,
   "metadata": {},
   "outputs": [
    {
     "name": "stdout",
     "output_type": "stream",
     "text": [
      "안녕하세요 PARK 님\n",
      "안녕하세요 KIM 님\n"
     ]
    }
   ],
   "source": [
    "# 메서드 작성\n",
    "class AutoEmail:\n",
    "    intro = '안녕하세요'\n",
    "    def __init__(self,name):\n",
    "        self.name = name\n",
    "    def say_hello(self):\n",
    "        return \"{intro} {name} 님\".format(intro=self.intro,name=self.name)\n",
    "mail_to_park = AutoEmail('PARK')\n",
    "mail_to_kim = AutoEmail('KIM')\n",
    "print(mail_to_park.say_hello())\n",
    "print(mail_to_kim.say_hello())"
   ]
  },
  {
   "cell_type": "code",
   "execution_count": 22,
   "metadata": {},
   "outputs": [
    {
     "name": "stdout",
     "output_type": "stream",
     "text": [
      "3\n",
      "7\n"
     ]
    }
   ],
   "source": [
    "# 계산기 사례\n",
    "result = 0\n",
    "def add(num):\n",
    "    global result\n",
    "    result += num\n",
    "    return result\n",
    "\n",
    "print(add(3))\n",
    "print(add(4))"
   ]
  },
  {
   "cell_type": "code",
   "execution_count": 23,
   "metadata": {},
   "outputs": [
    {
     "name": "stdout",
     "output_type": "stream",
     "text": [
      "3\n",
      "7\n",
      "3\n",
      "10\n"
     ]
    }
   ],
   "source": [
    "result1 = 0\n",
    "result2 = 0\n",
    "def adder1(num):\n",
    "    global result1\n",
    "    result1 += num\n",
    "    return result1\n",
    "def adder2(num):\n",
    "    global result2\n",
    "    result2 += num\n",
    "    return result2\n",
    "print(adder1(3))\n",
    "print(adder1(4))\n",
    "print(adder2(3))\n",
    "print(adder2(7))\n"
   ]
  },
  {
   "cell_type": "code",
   "execution_count": 25,
   "metadata": {},
   "outputs": [
    {
     "name": "stdout",
     "output_type": "stream",
     "text": [
      "3\n",
      "7\n",
      "3\n",
      "10\n"
     ]
    }
   ],
   "source": [
    "class Calculator:\n",
    "    def __init__(self):\n",
    "        self.result = 0\n",
    "    def adder(self, num):\n",
    "        self.result += num\n",
    "        return self.result\n",
    "cal1 = Calculator()\n",
    "cal2 = Calculator()\n",
    "\n",
    "print(cal1.adder(3))\n",
    "print(cal1.adder(4))\n",
    "print(cal2.adder(3))\n",
    "print(cal2.adder(7))"
   ]
  },
  {
   "cell_type": "code",
   "execution_count": 26,
   "metadata": {},
   "outputs": [
    {
     "name": "stdout",
     "output_type": "stream",
     "text": [
      "홍길동님 1 + 1 = 2입니다.\n"
     ]
    }
   ],
   "source": [
    "class Service:\n",
    "    secret = '이것은 중요한 정보입니다'\n",
    "    def setname(self, name):\n",
    "        self.name = name\n",
    "    def sum(self, a, b):\n",
    "        result = a + b\n",
    "        print(\"%s님 %s + %s = %s입니다.\" %(self.name, a, b, result))\n",
    "        \n",
    "pey = Service()\n",
    "pey.setname('홍길동')\n",
    "pey.sum(1,1)"
   ]
  },
  {
   "cell_type": "code",
   "execution_count": 28,
   "metadata": {},
   "outputs": [
    {
     "name": "stdout",
     "output_type": "stream",
     "text": [
      "홍길동님 1 + 1 = 2입니다.\n"
     ]
    }
   ],
   "source": [
    "class Service:\n",
    "    secret = '이것은 중요한 정보입니다.'\n",
    "    def __init__(self, name):\n",
    "        self.name = name\n",
    "    def sum(self, a, b):\n",
    "        result = a + b\n",
    "        print('%s님 %d + %d = %d입니다.' %(self.name,a,b,result))\n",
    "pey = Service('홍길동')\n",
    "pey.sum(1,1)"
   ]
  },
  {
   "cell_type": "code",
   "execution_count": null,
   "metadata": {},
   "outputs": [],
   "source": [
    "# 사칙연산 클래스 만들기\n",
    "# 메서드, 생성자 두가지 방법으로 수행"
   ]
  },
  {
   "cell_type": "code",
   "execution_count": 34,
   "metadata": {},
   "outputs": [],
   "source": [
    "# 생성자/메서드\n",
    "class FourCal:\n",
    "#     def __init__(self, first, second):\n",
    "#         self.first = first\n",
    "#         self.second = second\n",
    "    def setdata(self, first, second):\n",
    "        self.first = first\n",
    "        self.second = second                \n",
    "    def sum(self):\n",
    "        result = self.first + self.second\n",
    "        return result\n",
    "    def mul(self):\n",
    "        result = self.first * self.second\n",
    "        return result\n",
    "    def sub(self):\n",
    "        result = self.first - self.second\n",
    "        return result\n",
    "    def div(self):\n",
    "        result = self.first / self.second\n",
    "        return result"
   ]
  },
  {
   "cell_type": "code",
   "execution_count": 35,
   "metadata": {},
   "outputs": [
    {
     "name": "stdout",
     "output_type": "stream",
     "text": [
      "6\n",
      "8\n",
      "2\n",
      "2.0\n",
      "10\n",
      "21\n",
      "-4\n",
      "0.43\n"
     ]
    }
   ],
   "source": [
    "# a = FourCal(4,2)\n",
    "# b = FourCal(3,7)\n",
    "a = FourCal()\n",
    "b = FourCal()\n",
    "a.setdata(4,2)\n",
    "b.setdata(3,7)\n",
    "print(a.sum())\n",
    "print(a.mul())\n",
    "print(a.sub())\n",
    "print(a.div())\n",
    "print(b.sum())\n",
    "print(b.mul())\n",
    "print(b.sub())\n",
    "print(round(b.div(),2))"
   ]
  },
  {
   "cell_type": "code",
   "execution_count": 36,
   "metadata": {},
   "outputs": [
    {
     "name": "stdout",
     "output_type": "stream",
     "text": [
      "홍길동,부산여행을 가다\n"
     ]
    }
   ],
   "source": [
    "class HouseHong:\n",
    "    lastname = '홍'\n",
    "    def setname(self, name):\n",
    "        self.fullname = self.lastname + name\n",
    "    def travel(self,where):\n",
    "        print('%s,%s여행을 가다'%(self.fullname,where))\n",
    "\n",
    "pey = HouseHong()\n",
    "pey.setname('길동')\n",
    "pey.travel('부산')"
   ]
  },
  {
   "cell_type": "code",
   "execution_count": null,
   "metadata": {},
   "outputs": [],
   "source": [
    "김유신, 제주도여행을 가다"
   ]
  },
  {
   "cell_type": "code",
   "execution_count": 41,
   "metadata": {},
   "outputs": [
    {
     "name": "stdout",
     "output_type": "stream",
     "text": [
      "김유신,제주도여행을 가다\n"
     ]
    }
   ],
   "source": [
    "# 클래스의 상속\n",
    "class HouseKim(HouseHong):\n",
    "    lastname = '김'\n",
    "ys = HouseKim()\n",
    "ys.setname('유신')\n",
    "ys.travel('제주도')"
   ]
  },
  {
   "cell_type": "code",
   "execution_count": null,
   "metadata": {},
   "outputs": [],
   "source": [
    "# Q. 생성자를 사용하는 HouseLee 클래스를 만들고 필요한 메소드를 추가하여 \n",
    "# \"이몽룡, 제주도 여행을 가다\"를 출력하세요"
   ]
  },
  {
   "cell_type": "code",
   "execution_count": 42,
   "metadata": {},
   "outputs": [
    {
     "name": "stdout",
     "output_type": "stream",
     "text": [
      "이몽룡, 제주도 여행을 가다\n"
     ]
    }
   ],
   "source": [
    "# A.\n",
    "class HouseLee:\n",
    "    lastname = '이'\n",
    "    def __init__(self, name):\n",
    "        self.fullname = self.lastname + name\n",
    "    def travel(self, where):\n",
    "        print('%s, %s 여행을 가다' % (self.fullname, where))\n",
    "        \n",
    "mr = HouseLee('몽룡')\n",
    "mr.travel('제주도')"
   ]
  },
  {
   "cell_type": "code",
   "execution_count": 43,
   "metadata": {},
   "outputs": [
    {
     "name": "stdout",
     "output_type": "stream",
     "text": [
      "성춘향, 목포여행 3일 가네.\n"
     ]
    }
   ],
   "source": [
    "# Q.메소드 오버라이딩을 수행하여 \"성춘향, 목포여행 3일 가네!\"를 출력하세요.\n",
    "class HouseSung(HouseLee):\n",
    "    lastname = '성'\n",
    "    def travel(self, where, day):\n",
    "        print('%s, %s여행 %d일 가네.' % (self.fullname, where, day))\n",
    "        \n",
    "ch = HouseSung('춘향')\n",
    "ch.travel('목포', 3)\n",
    "    "
   ]
  },
  {
   "cell_type": "code",
   "execution_count": null,
   "metadata": {},
   "outputs": [],
   "source": [
    "# 연산자 오버로딩\n",
    "# Q. 연산자 오버로딩을 이용하여 class HouseLee: 를 만들고 아래와 같이 출력하세요.\n",
    "이몽룡, 성춘향 사랑에 빠졌네\n",
    "이몽룡, 성춘향 결혼했네"
   ]
  },
  {
   "cell_type": "code",
   "execution_count": 45,
   "metadata": {},
   "outputs": [
    {
     "name": "stdout",
     "output_type": "stream",
     "text": [
      "이몽룡, 성춘향 사랑에 빠졌네\n",
      "이몽룡, 성춘향 결혼했네\n"
     ]
    }
   ],
   "source": [
    "class HouseLee:\n",
    "    lastname = '이'\n",
    "    def __init__(self,name):\n",
    "        self.fullname = self.lastname + name\n",
    "    def travel(self, where):\n",
    "        print('%s, %s 여행을 가다' %(self.fullname, where))\n",
    "    def love(self, other):\n",
    "        print('%s, %s 사랑에 빠졌네' %(self.fullname, other.fullname))\n",
    "    def __add__(self, other):\n",
    "        print('%s, %s 결혼했네' %(self.fullname, other.fullname))\n",
    "\n",
    "class HousSung(HouseLee):\n",
    "    lastname = '성'\n",
    "    def travel(self,where,day):\n",
    "        print('%s, %s 여행 %d일 가네' %(self.fullname, where, day))\n",
    "        \n",
    "mr = HouseLee('몽룡')\n",
    "ch = HouseSung('춘향')\n",
    "mr.love(ch)\n",
    "mr + ch"
   ]
  },
  {
   "cell_type": "markdown",
   "metadata": {},
   "source": [
    "[과제]\n",
    "Q. HouseLee, HouseSung 두개의 클래스 및 연산자 오버로딩을 사용하여 \"부산발 이몽룡 성춘향 러브 스토리\"를 작성하여 출력하세요.\n",
    "\n",
    "이몽룡은 부산 클럽에 놀러 간다.\n",
    "성춘향도 우연히 3일 동안 부산 클럽에 놀러 간다.\n",
    "둘은 썸을 탄다.\n",
    "일정 때문에 각자 서울로 돌아간다. \n",
    "1년뒤 강남 클럽에서 둘은 우연히 재회를 한다.\n",
    "연인이 된다."
   ]
  },
  {
   "cell_type": "code",
   "execution_count": 47,
   "metadata": {},
   "outputs": [
    {
     "data": {
      "text/plain": [
       "True"
      ]
     },
     "execution_count": 47,
     "metadata": {},
     "output_type": "execute_result"
    }
   ],
   "source": [
    "class Student:\n",
    "    pass\n",
    "student = Student()\n",
    "isinstance(student, Student)"
   ]
  },
  {
   "cell_type": "code",
   "execution_count": 46,
   "metadata": {},
   "outputs": [
    {
     "name": "stdout",
     "output_type": "stream",
     "text": [
      "공부를 합니다.\n",
      "공부를 합니다.\n",
      "학생을 가르칩니다.\n",
      "공부를 합니다.\n",
      "공부를 합니다.\n"
     ]
    }
   ],
   "source": [
    "# isinstance 함수 : 하나의 리스트로 여러 종류의 데이터를 다룰 수 있음\n",
    "class Student:\n",
    "    def study(self):\n",
    "        print('공부를 합니다.')\n",
    "\n",
    "class Teacher:\n",
    "    def teach(self):\n",
    "        print('학생을 가르칩니다.')\n",
    "        \n",
    "classroom = [Student(), Student(), Teacher(), Student(), Student()]\n",
    "\n",
    "for person in classroom:\n",
    "    if isinstance(person, Student):\n",
    "        person.study()\n",
    "    elif isinstance(person, Teacher):\n",
    "        person.teach()"
   ]
  },
  {
   "cell_type": "code",
   "execution_count": 49,
   "metadata": {},
   "outputs": [
    {
     "name": "stdout",
     "output_type": "stream",
     "text": [
      "이름\t총점\t평균\n",
      "홍길동\t368\t92.0\n",
      "김유신\t384\t96.0\n",
      "강감찬\t356\t89.0\n",
      "이순신\t381\t95.25\n",
      "이성계\t345\t86.25\n",
      "이율곡\t390\t97.5\n"
     ]
    }
   ],
   "source": [
    "class Student:\n",
    "    def __init__(self, name, korean, math, english, science):\n",
    "        self.name = name\n",
    "        self.korean = korean\n",
    "        self.math = math\n",
    "        self.english = english\n",
    "        self.science = science\n",
    "        \n",
    "    def get_sum(self):\n",
    "        return self.korean + self.math + self.english + self.science\n",
    "    \n",
    "    def get_average(self):\n",
    "        return self.get_sum() / 4\n",
    "    \n",
    "    def __str__(self):\n",
    "        return '{}\\t{}\\t{}'.format(\n",
    "            self.name,\n",
    "            self.get_sum(),\n",
    "            self.get_average())\n",
    "\n",
    "students = [\n",
    "    Student('홍길동', 87,98,88,95),\n",
    "    Student('김유신', 92,98,96,98),\n",
    "    Student('강감찬', 76,96,94,90),\n",
    "    Student('이순신', 95,98,95,93),\n",
    "    Student('이성계', 95,93,82,75),\n",
    "    Student('이율곡', 99,98,97,96)\n",
    "]\n",
    "\n",
    "print('이름','총점','평균',sep='\\t')\n",
    "for student in students:\n",
    "    print(str(student))"
   ]
  }
 ],
 "metadata": {
  "kernelspec": {
   "display_name": "Python 3",
   "language": "python",
   "name": "python3"
  },
  "language_info": {
   "codemirror_mode": {
    "name": "ipython",
    "version": 3
   },
   "file_extension": ".py",
   "mimetype": "text/x-python",
   "name": "python",
   "nbconvert_exporter": "python",
   "pygments_lexer": "ipython3",
   "version": "3.7.9"
  }
 },
 "nbformat": 4,
 "nbformat_minor": 4
}
