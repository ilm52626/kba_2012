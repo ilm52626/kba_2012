{
 "cells": [
  {
   "cell_type": "code",
   "execution_count": 1,
   "metadata": {},
   "outputs": [
    {
     "data": {
      "text/plain": [
       "27"
      ]
     },
     "execution_count": 1,
     "metadata": {},
     "output_type": "execute_result"
    }
   ],
   "source": [
    "# 탭 자동완성\n",
    "an_apple = 27\n",
    "an_example = 42\n",
    "an_apple"
   ]
  },
  {
   "cell_type": "code",
   "execution_count": 4,
   "metadata": {},
   "outputs": [
    {
     "data": {
      "text/plain": [
       "'C:\\\\Caba2012\\\\workspace\\\\Caba_python'"
      ]
     },
     "execution_count": 4,
     "metadata": {},
     "output_type": "execute_result"
    }
   ],
   "source": [
    "# 현재 폴더\n",
    "import os\n",
    "os.getcwd()"
   ]
  },
  {
   "cell_type": "code",
   "execution_count": 5,
   "metadata": {},
   "outputs": [
    {
     "data": {
      "text/plain": [
       "'C:\\\\Caba2012\\\\workspace\\\\Caba_python'"
      ]
     },
     "execution_count": 5,
     "metadata": {},
     "output_type": "execute_result"
    }
   ],
   "source": [
    "%pwd"
   ]
  },
  {
   "cell_type": "markdown",
   "metadata": {},
   "source": [
    "#### Jupyter 단축키\n",
    "\n",
    "<img src ='단축키.png' STYLE='width:200px;'>"
   ]
  },
  {
   "cell_type": "markdown",
   "metadata": {},
   "source": [
    "#### 수식 문법\n",
    "- markdown 셀을 이용\n",
    "- $혹은 $$를 앞뒤로 감싸서 수식을 기술해야함\n",
    " - $ : 문장 안에 기술해야하는 경우 사용\n",
    " - $$ : 전체 라인으로 표기됨\n",
    "- _와 ^기호를 이용해서 아래첨자와 위첨자를 사용 : a_1, a_{ij}, b^2, b^{ij}, c_1^2\n",
    " - 다항식 : y = x^3+2x^2+x+3\n",
    " - 제곱근 : y = sqrt x\n",
    " - 삼각함수 : y = sin x\n",
    " - 분수 : y = frac{3}{4}\n",
    " - 시그마 : y = sum_{k=1}^n a_k\n",
    " - 곱집합 : y = prod_{k=1}^n a_k\n",
    "\n",
    "$a^2 + b^2 = c^2$\n",
    "\n",
    "sqrt(4) = 2를 수식으로 나타내면 $\\sqrt{4} = 2$가 된다.\n",
    "\n",
    "$$ E = mc^2 $$\n",
    "\n",
    "$$ x = {-b \\pm \\sqrt{b^2-4ac} \\over 2a}. $$\n",
    "\n",
    "$$ f(a) = \\frac{1}{2\\pi i} \\oint\\frac{f(z)}{z-a}dz $$\n",
    "\n",
    "$$ \\cos(\\theta*\\phi)=\\cos(\\theta)\\cos(\\phi)-\\sin(\\theta)\\sin(\\phi) $$\n",
    "\n",
    "$$ \\sigma = \\sqrt{ \\frac{1}{N} \\sum_{i=1}^N (x_i -\\mu)^2} $$"
   ]
  }
 ],
 "metadata": {
  "kernelspec": {
   "display_name": "Python 3",
   "language": "python",
   "name": "python3"
  },
  "language_info": {
   "codemirror_mode": {
    "name": "ipython",
    "version": 3
   },
   "file_extension": ".py",
   "mimetype": "text/x-python",
   "name": "python",
   "nbconvert_exporter": "python",
   "pygments_lexer": "ipython3",
   "version": "3.7.9"
  }
 },
 "nbformat": 4,
 "nbformat_minor": 4
}
