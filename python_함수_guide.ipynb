{
 "cells": [
  {
   "cell_type": "code",
   "execution_count": 1,
   "metadata": {},
   "outputs": [
    {
     "data": {
      "text/plain": [
       "'Hi'"
      ]
     },
     "execution_count": 1,
     "metadata": {},
     "output_type": "execute_result"
    }
   ],
   "source": [
    "# 함수\n",
    "# 입력값이 없고 결과값만 있는 함수\n",
    "def say():\n",
    "    return 'Hi'\n",
    "a = say()\n",
    "a"
   ]
  },
  {
   "cell_type": "code",
   "execution_count": 2,
   "metadata": {},
   "outputs": [
    {
     "name": "stdout",
     "output_type": "stream",
     "text": [
      "3, 4의 합은 7입니다.\n"
     ]
    }
   ],
   "source": [
    "# 결과값(return 값) 없는 함수\n",
    "def add(a,b):\n",
    "    print('%d, %d의 합은 %d입니다.' %(a,b,a+b))\n",
    "\n",
    "add(3,4)"
   ]
  },
  {
   "cell_type": "code",
   "execution_count": 3,
   "metadata": {},
   "outputs": [
    {
     "name": "stdout",
     "output_type": "stream",
     "text": [
      "Hi\n"
     ]
    }
   ],
   "source": [
    "# 입력값도 결과값도 없는 함수\n",
    "def say():\n",
    "    print('Hi')\n",
    "say()"
   ]
  },
  {
   "cell_type": "code",
   "execution_count": 4,
   "metadata": {},
   "outputs": [
    {
     "data": {
      "text/plain": [
       "7"
      ]
     },
     "execution_count": 4,
     "metadata": {},
     "output_type": "execute_result"
    }
   ],
   "source": [
    "# 입출력 모두 있는 경우\n",
    "def add(a,b):\n",
    "    return a + b\n",
    "add(3,4)"
   ]
  },
  {
   "cell_type": "code",
   "execution_count": 6,
   "metadata": {},
   "outputs": [
    {
     "data": {
      "text/plain": [
       "15"
      ]
     },
     "execution_count": 6,
     "metadata": {},
     "output_type": "execute_result"
    }
   ],
   "source": [
    "# 여러 개의 입력값을 받는 함수\n",
    "# *args\n",
    "def add_many(*args):\n",
    "    add = 0\n",
    "    for i in args:\n",
    "        add += i\n",
    "    return add\n",
    "add_many(1,2,3,4,5)"
   ]
  },
  {
   "cell_type": "code",
   "execution_count": 10,
   "metadata": {},
   "outputs": [
    {
     "data": {
      "text/plain": [
       "(7, 12)"
      ]
     },
     "execution_count": 10,
     "metadata": {},
     "output_type": "execute_result"
    }
   ],
   "source": [
    "# 함수의 반환(결과값)은 언제나 하나임 - 결과값으로 튜플 값 하나를 갖게 됨\n",
    "def add_and_mul(a,b):\n",
    "    return a+b, a*b\n",
    "result = add_and_mul(3,4)\n",
    "result"
   ]
  },
  {
   "cell_type": "code",
   "execution_count": 11,
   "metadata": {},
   "outputs": [
    {
     "name": "stdout",
     "output_type": "stream",
     "text": [
      "7\n",
      "12\n"
     ]
    }
   ],
   "source": [
    "# 하나의 튜플값을 2개의 결과값처럼 받는 방법\n",
    "result1, result2 = add_and_mul(3,4)\n",
    "print(result1)\n",
    "print(result2)"
   ]
  },
  {
   "cell_type": "code",
   "execution_count": 12,
   "metadata": {},
   "outputs": [
    {
     "name": "stdout",
     "output_type": "stream",
     "text": [
      "7\n"
     ]
    }
   ],
   "source": [
    "# 함수는 return문을 만나는 순간 결과값을 돌려준 다음 함수를 빠져나감\n",
    "def add_and_mul(a,b):\n",
    "    return a+b\n",
    "    return a*b\n",
    "result = add_and_mul(3,4)\n",
    "print(result)"
   ]
  },
  {
   "cell_type": "code",
   "execution_count": 8,
   "metadata": {},
   "outputs": [
    {
     "name": "stdout",
     "output_type": "stream",
     "text": [
      "15\n",
      "120\n"
     ]
    }
   ],
   "source": [
    "# Q. add_mul() 함수를 정의하여 1,2,3,4,5를 입력값으로 적용하여 \n",
    "# 덧셈, 곱셈 연산을 수행\n",
    "def add_mul(choice, *args):\n",
    "    if choice == 'add':\n",
    "        result = 0\n",
    "        for i in args:\n",
    "            result += i\n",
    "    elif choice == 'mul':\n",
    "        result = 1\n",
    "        for i in args:\n",
    "            result *= i\n",
    "    return result\n",
    "\n",
    "print(add_mul('add',1,2,3,4,5))\n",
    "print(add_mul('mul',1,2,3,4,5))"
   ]
  },
  {
   "cell_type": "code",
   "execution_count": 9,
   "metadata": {},
   "outputs": [
    {
     "name": "stdout",
     "output_type": "stream",
     "text": [
      "70\n",
      "0.026041666666666668\n"
     ]
    }
   ],
   "source": [
    "# Q. sub_div() 함수를 정의하여 1,2,3,4,5를 입력값으로 적용하여 뻴셈, 나눗셈 연산을 수행\n",
    "\n",
    "# A.\n",
    "def sub_div(choice, *args):\n",
    "    if choice == 'sub':\n",
    "        result = 100\n",
    "        for i in args:\n",
    "            result -= i\n",
    "    elif choice == 'div':\n",
    "        result = 100\n",
    "        for i in args:\n",
    "            result /= i\n",
    "    return result\n",
    "print(sub_div('sub', 2,4,6,8,10))\n",
    "print(sub_div('div', 2,4,6,8,10))"
   ]
  },
  {
   "cell_type": "code",
   "execution_count": 14,
   "metadata": {},
   "outputs": [
    {
     "name": "stdout",
     "output_type": "stream",
     "text": [
      "나의 별명은 야호입니다\n"
     ]
    },
    {
     "data": {
      "text/plain": [
       "'아니야!'"
      ]
     },
     "execution_count": 14,
     "metadata": {},
     "output_type": "execute_result"
    }
   ],
   "source": [
    "# 문자열을 출력한다는 것과 리턴값이 있다는 것은 전혀 다른 것임\n",
    "def say_nick(nick):\n",
    "    if nick == '바보':\n",
    "        return '아니야!'\n",
    "    print('나의 별명은 %s입니다' % nick)\n",
    "say_nick('야호')\n",
    "say_nick('바보')"
   ]
  },
  {
   "cell_type": "code",
   "execution_count": 15,
   "metadata": {},
   "outputs": [
    {
     "name": "stdout",
     "output_type": "stream",
     "text": [
      "나의 이름은 홍길동입니다.\n",
      "나이는 20살입니다.\n",
      "여자입니다.\n"
     ]
    }
   ],
   "source": [
    "# 입력 인수에 초기값 미리 설정하기\n",
    "def say_myself(name, old, man=True):\n",
    "    print('나의 이름은 %s입니다.' % name)\n",
    "    print('나이는 %d살입니다.' % old)\n",
    "    if man:\n",
    "        print('남자입니다.')\n",
    "    else:\n",
    "        print('여자입니다.')\n",
    "        \n",
    "say_myself('홍길동', 20, False)"
   ]
  },
  {
   "cell_type": "code",
   "execution_count": 16,
   "metadata": {},
   "outputs": [
    {
     "ename": "SyntaxError",
     "evalue": "non-default argument follows default argument (<ipython-input-16-e5a836b79d31>, line 2)",
     "output_type": "error",
     "traceback": [
      "\u001b[1;36m  File \u001b[1;32m\"<ipython-input-16-e5a836b79d31>\"\u001b[1;36m, line \u001b[1;32m2\u001b[0m\n\u001b[1;33m    def say_myself(name, man=True, old):\u001b[0m\n\u001b[1;37m                  ^\u001b[0m\n\u001b[1;31mSyntaxError\u001b[0m\u001b[1;31m:\u001b[0m non-default argument follows default argument\n"
     ]
    }
   ],
   "source": [
    "# 초기값을 설정해 놓은 인수 뒤에 초기값을 설정해놓지 않은 입력인수는 사용 불가\n",
    "def say_myself(name, man=True, old):\n",
    "    print('나의 이름은 %s입니다.' % name)\n",
    "    print('나이는 %d살입니다.' % old)\n",
    "    if man:\n",
    "        print('남자입니다.')\n",
    "    else:\n",
    "        print('여자입니다.')\n",
    "        \n",
    "say_myself('홍길동', 20)"
   ]
  },
  {
   "cell_type": "code",
   "execution_count": 20,
   "metadata": {},
   "outputs": [
    {
     "name": "stdout",
     "output_type": "stream",
     "text": [
      "4\n",
      "1\n"
     ]
    }
   ],
   "source": [
    "# 함수 안에서 함수 밖의 변수를 사용하는 방법\n",
    "# return을 사용하는 방법\n",
    "a = 1\n",
    "def vartest(a):\n",
    "    a = a + 1\n",
    "#     return a\n",
    "print(vartest(3))\n",
    "print(a)"
   ]
  },
  {
   "cell_type": "code",
   "execution_count": 23,
   "metadata": {},
   "outputs": [
    {
     "data": {
      "text/plain": [
       "2"
      ]
     },
     "execution_count": 23,
     "metadata": {},
     "output_type": "execute_result"
    }
   ],
   "source": [
    "# 글로벌 변수를 사용하는 방법\n",
    "a = 1\n",
    "def vartest():\n",
    "    global a\n",
    "    a = a + 1\n",
    "\n",
    "vartest()\n",
    "a"
   ]
  },
  {
   "cell_type": "code",
   "execution_count": 24,
   "metadata": {},
   "outputs": [
    {
     "name": "stdout",
     "output_type": "stream",
     "text": [
      "\n"
     ]
    }
   ],
   "source": [
    "while 1:\n",
    "    data = input()\n",
    "    if not data: break\n",
    "    print(data)"
   ]
  },
  {
   "cell_type": "code",
   "execution_count": 27,
   "metadata": {},
   "outputs": [
    {
     "data": {
      "text/plain": [
       "'C:\\\\Caba2012\\\\workspace\\\\Caba_python'"
      ]
     },
     "execution_count": 27,
     "metadata": {},
     "output_type": "execute_result"
    }
   ],
   "source": [
    "# 파일 읽고 쓰기\n",
    "%pwd"
   ]
  },
  {
   "cell_type": "code",
   "execution_count": 28,
   "metadata": {},
   "outputs": [],
   "source": [
    "f = open('test1.txt', 'w')\n",
    "f.close()"
   ]
  },
  {
   "cell_type": "code",
   "execution_count": 29,
   "metadata": {},
   "outputs": [],
   "source": [
    "f = open('test1.txt','w')\n",
    "for i in range(1,11):\n",
    "    data = '%d번째 줄입니다.\\n'% i\n",
    "    f.write(data)\n",
    "f.close()"
   ]
  },
  {
   "cell_type": "code",
   "execution_count": 30,
   "metadata": {},
   "outputs": [
    {
     "name": "stdout",
     "output_type": "stream",
     "text": [
      "1번째 줄입니다.\n",
      "\n"
     ]
    }
   ],
   "source": [
    "f = open('test1.txt','r')\n",
    "line = f.readline()\n",
    "print(line)\n",
    "f.close()"
   ]
  },
  {
   "cell_type": "code",
   "execution_count": 32,
   "metadata": {},
   "outputs": [
    {
     "name": "stdout",
     "output_type": "stream",
     "text": [
      "1번째 줄입니다.\n",
      "\n",
      "2번째 줄입니다.\n",
      "\n",
      "3번째 줄입니다.\n",
      "\n",
      "4번째 줄입니다.\n",
      "\n",
      "5번째 줄입니다.\n",
      "\n",
      "6번째 줄입니다.\n",
      "\n",
      "7번째 줄입니다.\n",
      "\n",
      "8번째 줄입니다.\n",
      "\n",
      "9번째 줄입니다.\n",
      "\n",
      "10번째 줄입니다.\n",
      "\n"
     ]
    }
   ],
   "source": [
    "f = open('test1.txt','r')\n",
    "while True:\n",
    "    line = f.readline()\n",
    "    if not line:break\n",
    "    print(line)\n",
    "f.close()"
   ]
  },
  {
   "cell_type": "code",
   "execution_count": 33,
   "metadata": {},
   "outputs": [
    {
     "name": "stdout",
     "output_type": "stream",
     "text": [
      "1번째 줄입니다.\n",
      "\n",
      "2번째 줄입니다.\n",
      "\n",
      "3번째 줄입니다.\n",
      "\n",
      "4번째 줄입니다.\n",
      "\n",
      "5번째 줄입니다.\n",
      "\n",
      "6번째 줄입니다.\n",
      "\n",
      "7번째 줄입니다.\n",
      "\n",
      "8번째 줄입니다.\n",
      "\n",
      "9번째 줄입니다.\n",
      "\n",
      "10번째 줄입니다.\n",
      "\n"
     ]
    }
   ],
   "source": [
    "f = open('test1.txt','r')\n",
    "lines = f.readlines()\n",
    "for line in lines:\n",
    "    print(line)\n",
    "f.close()"
   ]
  },
  {
   "cell_type": "code",
   "execution_count": 34,
   "metadata": {},
   "outputs": [
    {
     "name": "stdout",
     "output_type": "stream",
     "text": [
      "1번째 줄입니다.\n",
      "2번째 줄입니다.\n",
      "3번째 줄입니다.\n",
      "4번째 줄입니다.\n",
      "5번째 줄입니다.\n",
      "6번째 줄입니다.\n",
      "7번째 줄입니다.\n",
      "8번째 줄입니다.\n",
      "9번째 줄입니다.\n",
      "10번째 줄입니다.\n",
      "\n"
     ]
    }
   ],
   "source": [
    "f = open('test1.txt','r')\n",
    "data = f.read()\n",
    "print(data)\n",
    "f.close()"
   ]
  },
  {
   "cell_type": "code",
   "execution_count": 35,
   "metadata": {},
   "outputs": [],
   "source": [
    "f = open('test1.txt','a')\n",
    "for i in range(11,16):\n",
    "    data = '%d번째 줄입니다.\\n'% i\n",
    "    f.write(data)\n",
    "f.close()"
   ]
  },
  {
   "cell_type": "code",
   "execution_count": 36,
   "metadata": {},
   "outputs": [
    {
     "name": "stdout",
     "output_type": "stream",
     "text": [
      "1번째 줄입니다.\n",
      "2번째 줄입니다.\n",
      "3번째 줄입니다.\n",
      "4번째 줄입니다.\n",
      "5번째 줄입니다.\n",
      "6번째 줄입니다.\n",
      "7번째 줄입니다.\n",
      "8번째 줄입니다.\n",
      "9번째 줄입니다.\n",
      "10번째 줄입니다.\n",
      "11번째 줄입니다.\n",
      "12번째 줄입니다.\n",
      "13번째 줄입니다.\n",
      "14번째 줄입니다.\n",
      "15번째 줄입니다.\n",
      "\n"
     ]
    }
   ],
   "source": [
    "f = open('test1.txt','r')\n",
    "data = f.read()\n",
    "print(data)\n",
    "f.close()"
   ]
  },
  {
   "cell_type": "code",
   "execution_count": 37,
   "metadata": {},
   "outputs": [],
   "source": [
    "# with문과 같이 사용\n",
    "with open('foo.txt','w') as f:\n",
    "    f.write('파이썬은 재미있습니다.')"
   ]
  },
  {
   "cell_type": "code",
   "execution_count": 38,
   "metadata": {},
   "outputs": [
    {
     "name": "stdout",
     "output_type": "stream",
     "text": [
      "파이썬은 재미있습니다.\n"
     ]
    }
   ],
   "source": [
    "# with문을 사용하면 with block을 벗어나는 순간 객체 f가 자동으로 close 됨\n",
    "with open('foo.txt','r') as f:\n",
    "    data = f.read()\n",
    "    print(data)"
   ]
  },
  {
   "cell_type": "markdown",
   "metadata": {},
   "source": [
    "모듈\n",
    "- 특정 기능들(함수, 변수, 클래스 등)이 구현되어 있는 파이썬 파일(.py)\n",
    "\n",
    "패키지\n",
    "- 특정기능과 관련된 여러 모듈들을 하나의 상위폴더에 넣어놓은 것\n",
    "- 패키지안에 여러가지 폴더 존재 가능\n",
    "- 패키지를 표현해주기 위해 \\__init__.py가 존재\n",
    "\n",
    "라이브러리\n",
    "- 여러 모듈과 패키지를 묶어놓은 것\n",
    "- 파이썬에 기본적으로 설치된 모듈과 패키지, 내장 함수를 묶어서 파이썬 표준 라이브러리라고 함\n",
    "\n",
    "패키지안에 모듈을 불러와 쓰는 방법\n",
    "- import 패키지.모듈\n",
    "- import 패키지.모듈1,패키지.모듈2\n",
    "- 패키지.모듈.변수\n",
    "- 패키지.모듈.함수\n",
    "- 패키지.모듈.클래스\n"
   ]
  },
  {
   "cell_type": "markdown",
   "metadata": {},
   "source": [
    "파이썬 if __name__ == \"__main__\" 의미\n",
    "\n",
    "- 메인 함수의 선언, 시작을 의미합니다. 해당 코드 밑에 main 등의 함수 호출 코드를 작성해서 함수의 기능을 수행\n",
    "- 직접 mod.py 파일을 실행하는 경우에는 __name___ 변수에 __main__ 이라는 값이 할당되고 이 조건절이 참이 되어 if문 다음 문장들이 수행\n",
    "- 모듈을 불러와서 사용하는 경우 __name__ 변수에는 모듈 이름이 저장되고 이 조건절이 거짓이 되어 if문 다음 문장들이 수행되지 않음\n",
    "- if __name__ == \"__main__\"와 같이 조건문을 사용하여 터미널에서와 같이 직접 호출되어 사용될 때는 그 자체로 기능을 수행하고, 동시에 다른 모듈에서 필요한 함수 등을 제공"
   ]
  },
  {
   "cell_type": "code",
   "execution_count": 39,
   "metadata": {},
   "outputs": [],
   "source": [
    "# 모듈 mod1 만들기\n",
    "with open('mod1.py','w') as f:\n",
    "    f.write('''\n",
    "def add(x,y):\n",
    "    return x + y\n",
    "print(add(3,4))\n",
    "''')"
   ]
  },
  {
   "cell_type": "code",
   "execution_count": 40,
   "metadata": {},
   "outputs": [
    {
     "name": "stdout",
     "output_type": "stream",
     "text": [
      "\n",
      "def add(x,y):\n",
      "    return x + y\n",
      "print(add(3,4))\n",
      "\n"
     ]
    }
   ],
   "source": [
    "with open('mod1.py','r') as f:\n",
    "    data = f.read()\n",
    "    print(data)"
   ]
  },
  {
   "cell_type": "code",
   "execution_count": 41,
   "metadata": {},
   "outputs": [
    {
     "name": "stdout",
     "output_type": "stream",
     "text": [
      "7\n"
     ]
    }
   ],
   "source": [
    "!python mod1.py"
   ]
  },
  {
   "cell_type": "code",
   "execution_count": 42,
   "metadata": {},
   "outputs": [
    {
     "name": "stdout",
     "output_type": "stream",
     "text": [
      "7\n"
     ]
    }
   ],
   "source": [
    "import mod1"
   ]
  },
  {
   "cell_type": "code",
   "execution_count": 43,
   "metadata": {},
   "outputs": [],
   "source": [
    "# 모듈 mod2 만들기\n",
    "with open('mod2.py','w') as f:\n",
    "    f.write('''\n",
    "def add(x,y):\n",
    "    return x + y\n",
    "if __name__==\"__main__\":\n",
    "    print(add(3,4))\n",
    "''')"
   ]
  },
  {
   "cell_type": "code",
   "execution_count": 44,
   "metadata": {},
   "outputs": [
    {
     "name": "stdout",
     "output_type": "stream",
     "text": [
      "\n",
      "def add(x,y):\n",
      "    return x + y\n",
      "if __name__==\"__main__\":\n",
      "    print(add(3,4))\n",
      "\n"
     ]
    }
   ],
   "source": [
    "with open('mod2.py','r') as f:\n",
    "    data = f.read()\n",
    "    print(data)"
   ]
  },
  {
   "cell_type": "code",
   "execution_count": 45,
   "metadata": {},
   "outputs": [
    {
     "name": "stdout",
     "output_type": "stream",
     "text": [
      "7\n"
     ]
    }
   ],
   "source": [
    "!python mod2.py"
   ]
  },
  {
   "cell_type": "code",
   "execution_count": 46,
   "metadata": {},
   "outputs": [],
   "source": [
    "import mod2"
   ]
  },
  {
   "cell_type": "code",
   "execution_count": 47,
   "metadata": {},
   "outputs": [
    {
     "data": {
      "text/plain": [
       "5"
      ]
     },
     "execution_count": 47,
     "metadata": {},
     "output_type": "execute_result"
    }
   ],
   "source": [
    "mod2.add(2,3)"
   ]
  },
  {
   "cell_type": "code",
   "execution_count": 48,
   "metadata": {},
   "outputs": [
    {
     "name": "stdout",
     "output_type": "stream",
     "text": [
      "3\n",
      "False\n",
      "True\n",
      "a\n"
     ]
    }
   ],
   "source": [
    "# 내장함수 : 외부 모듈과 달리 import가 필요없으므로 아무런 설정없이 바로 사용\n",
    "print(abs(-3))\n",
    "print(all([1,2,3,0])) # x가 모두 참이면 True, 거짓이 하나라도 있으면 False\n",
    "print(any([1,2,3,0])) # x중 하나라도 참이 있을 경우 True, 모두 거짓인 경우 False\n",
    "print(chr(97))"
   ]
  },
  {
   "cell_type": "code",
   "execution_count": 49,
   "metadata": {},
   "outputs": [
    {
     "name": "stdout",
     "output_type": "stream",
     "text": [
      "['__add__', '__class__', '__contains__', '__delattr__', '__delitem__', '__dir__', '__doc__', '__eq__', '__format__', '__ge__', '__getattribute__', '__getitem__', '__gt__', '__hash__', '__iadd__', '__imul__', '__init__', '__init_subclass__', '__iter__', '__le__', '__len__', '__lt__', '__mul__', '__ne__', '__new__', '__reduce__', '__reduce_ex__', '__repr__', '__reversed__', '__rmul__', '__setattr__', '__setitem__', '__sizeof__', '__str__', '__subclasshook__', 'append', 'clear', 'copy', 'count', 'extend', 'index', 'insert', 'pop', 'remove', 'reverse', 'sort']\n"
     ]
    }
   ],
   "source": [
    "# dir 함수 : 객체가 자체적으로 가지고 있는 변수, 함수\n",
    "print(dir([1,2,3])) "
   ]
  },
  {
   "cell_type": "code",
   "execution_count": 50,
   "metadata": {},
   "outputs": [
    {
     "name": "stdout",
     "output_type": "stream",
     "text": [
      "(2, 1)\n"
     ]
    }
   ],
   "source": [
    "# divmod 함수 : 몫과 나머지를 튜플 형태로 반환\n",
    "print(divmod(7,3))"
   ]
  },
  {
   "cell_type": "code",
   "execution_count": 51,
   "metadata": {},
   "outputs": [
    {
     "name": "stdout",
     "output_type": "stream",
     "text": [
      "3\n"
     ]
    }
   ],
   "source": [
    "# eval 함수 : 실행 가능한 문자열을 입력으로 받아 실행한 결과를 반환\n",
    "print(eval('1+2'))"
   ]
  },
  {
   "cell_type": "code",
   "execution_count": 52,
   "metadata": {},
   "outputs": [
    {
     "name": "stdout",
     "output_type": "stream",
     "text": [
      "[1, 2, 6]\n"
     ]
    }
   ],
   "source": [
    "# filter 함수 : 첫번째 인수로 함수이름을 두버째 인수로 그 함수에 적용하는 \n",
    "# 반복 가능한 자료형을 받고 리턴값이 참인 것만 묶어서 반환\n",
    "def positive(x):\n",
    "    return x>0\n",
    "print(list(filter(positive,[1,-3,2,0,-5,6])))\n"
   ]
  },
  {
   "cell_type": "code",
   "execution_count": 53,
   "metadata": {},
   "outputs": [
    {
     "name": "stdout",
     "output_type": "stream",
     "text": [
      "[True, False, True, False, False, True]\n"
     ]
    }
   ],
   "source": [
    "# map(f, iterable)은 입력 받은 자료형의 각 요소가 f에 의해 수행된 결과를 묶어서 반환\n",
    "def positive(x):\n",
    "    return x>0\n",
    "print(list(map(positive,[1,-3,2,0,-5,6])))"
   ]
  },
  {
   "cell_type": "code",
   "execution_count": 56,
   "metadata": {},
   "outputs": [
    {
     "name": "stdout",
     "output_type": "stream",
     "text": [
      "[2, 4, 6, 8]\n",
      "[2, 4, 6, 8]\n"
     ]
    }
   ],
   "source": [
    "def two_times(x): return x*2\n",
    "print(list(map(two_times, [1,2,3,4])))\n",
    "\n",
    "print(list(map(lambda a:a*2,[1,2,3,4])))"
   ]
  },
  {
   "cell_type": "code",
   "execution_count": 58,
   "metadata": {},
   "outputs": [
    {
     "data": {
      "text/plain": [
       "7"
      ]
     },
     "execution_count": 58,
     "metadata": {},
     "output_type": "execute_result"
    }
   ],
   "source": [
    "# 람다는 def보다 간결하게 사용할 수 있음\n",
    "sum = lambda a,b:a+b\n",
    "sum(3,4)"
   ]
  },
  {
   "cell_type": "code",
   "execution_count": 59,
   "metadata": {},
   "outputs": [
    {
     "name": "stdout",
     "output_type": "stream",
     "text": [
      "7\n",
      "12\n"
     ]
    }
   ],
   "source": [
    "myList = [lambda a,b:a+b, lambda a,b:a*b]\n",
    "print(myList[0](3,4))\n",
    "print(myList[1](3,4))"
   ]
  },
  {
   "cell_type": "code",
   "execution_count": 57,
   "metadata": {},
   "outputs": [
    {
     "data": {
      "text/plain": [
       "True"
      ]
     },
     "execution_count": 57,
     "metadata": {},
     "output_type": "execute_result"
    }
   ],
   "source": [
    "# isinstance(object, class) : 입력으로 받은 인스턴스가 그 클래스의 인스턴스 인지 판단\n",
    "class Person: pass\n",
    "a = Person()\n",
    "isinstance(a, Person)"
   ]
  },
  {
   "cell_type": "code",
   "execution_count": 60,
   "metadata": {},
   "outputs": [
    {
     "name": "stdout",
     "output_type": "stream",
     "text": [
      "3\n",
      "y\n",
      "1\n",
      "h\n"
     ]
    }
   ],
   "source": [
    "print(max([1,2,3]))\n",
    "print(max('python'))\n",
    "print(min([1,2,3]))\n",
    "print(min('python'))"
   ]
  },
  {
   "cell_type": "code",
   "execution_count": 61,
   "metadata": {},
   "outputs": [
    {
     "data": {
      "text/plain": [
       "16"
      ]
     },
     "execution_count": 61,
     "metadata": {},
     "output_type": "execute_result"
    }
   ],
   "source": [
    "# pow 함수\n",
    "pow(2,4)"
   ]
  },
  {
   "cell_type": "code",
   "execution_count": 62,
   "metadata": {},
   "outputs": [
    {
     "data": {
      "text/plain": [
       "['C:\\\\Caba2012\\\\workspace\\\\Caba_python',\n",
       " 'C:\\\\Users\\\\admin\\\\anaconda3\\\\envs\\\\caba\\\\python37.zip',\n",
       " 'C:\\\\Users\\\\admin\\\\anaconda3\\\\envs\\\\caba\\\\DLLs',\n",
       " 'C:\\\\Users\\\\admin\\\\anaconda3\\\\envs\\\\caba\\\\lib',\n",
       " 'C:\\\\Users\\\\admin\\\\anaconda3\\\\envs\\\\caba',\n",
       " '',\n",
       " 'C:\\\\Users\\\\admin\\\\anaconda3\\\\envs\\\\caba\\\\lib\\\\site-packages',\n",
       " 'C:\\\\Users\\\\admin\\\\anaconda3\\\\envs\\\\caba\\\\lib\\\\site-packages\\\\win32',\n",
       " 'C:\\\\Users\\\\admin\\\\anaconda3\\\\envs\\\\caba\\\\lib\\\\site-packages\\\\win32\\\\lib',\n",
       " 'C:\\\\Users\\\\admin\\\\anaconda3\\\\envs\\\\caba\\\\lib\\\\site-packages\\\\Pythonwin',\n",
       " 'C:\\\\Users\\\\admin\\\\anaconda3\\\\envs\\\\caba\\\\lib\\\\site-packages\\\\IPython\\\\extensions',\n",
       " 'C:\\\\Users\\\\admin\\\\.ipython']"
      ]
     },
     "execution_count": 62,
     "metadata": {},
     "output_type": "execute_result"
    }
   ],
   "source": [
    "# 외장함수 : 파이썬 사용자들이 만든 유용한 프로그램을 모아놓은 라이브러리\n",
    "# sys.path 위치에 있는 파이썬 모듈은 경로에 상관없이 어디에서나 불러올 수 있음\n",
    "import sys\n",
    "sys.path"
   ]
  },
  {
   "cell_type": "code",
   "execution_count": 63,
   "metadata": {},
   "outputs": [],
   "source": [
    "# pickle은 객체의 형태를 유지하면서 파일에 저장하고 불러올 수 있게 하는 모듈\n",
    "import pickle\n",
    "f = open('test.txt','wb')\n",
    "data = {1:'python',2:'you need'}\n",
    "pickle.dump(data,f)\n",
    "f.close()"
   ]
  },
  {
   "cell_type": "code",
   "execution_count": 65,
   "metadata": {},
   "outputs": [
    {
     "name": "stdout",
     "output_type": "stream",
     "text": [
      "{1: 'python', 2: 'you need'}\n"
     ]
    }
   ],
   "source": [
    "import pickle\n",
    "f = open('test.txt','rb')\n",
    "data = pickle.load(f)\n",
    "print(data)\n",
    "f.close()"
   ]
  },
  {
   "cell_type": "code",
   "execution_count": 66,
   "metadata": {},
   "outputs": [
    {
     "data": {
      "text/plain": [
       "'C:\\\\Caba2012\\\\workspace\\\\Caba_python'"
      ]
     },
     "execution_count": 66,
     "metadata": {},
     "output_type": "execute_result"
    }
   ],
   "source": [
    "import os\n",
    "os.getcwd()"
   ]
  },
  {
   "cell_type": "code",
   "execution_count": 68,
   "metadata": {},
   "outputs": [
    {
     "data": {
      "text/plain": [
       "'C:\\\\Caba2012\\\\workspace\\\\Caba_python'"
      ]
     },
     "execution_count": 68,
     "metadata": {},
     "output_type": "execute_result"
    }
   ],
   "source": [
    "os.chdir('C:\\\\Caba2012\\\\workspace\\\\Caba_python')\n",
    "os.getcwd()"
   ]
  },
  {
   "cell_type": "code",
   "execution_count": 69,
   "metadata": {},
   "outputs": [],
   "source": [
    "# os.mkdir(디렉토리) 디렉토리 생성, os.rmdir(디렉토리) 디렉토리 삭제, \n",
    "# os.unlink(파일 이름) 파일 지우기\n",
    "# os.rename(src, dst) src라는 이름의 파일을 dst라는 이름으로 바꾸기\n",
    "os.rename('test.txt','ex1.txt')"
   ]
  },
  {
   "cell_type": "code",
   "execution_count": 70,
   "metadata": {},
   "outputs": [
    {
     "data": {
      "text/plain": [
       "['C:\\\\Caba2012\\\\workspace\\\\Caba_python\\\\Jupyter_LaTeX.ipynb',\n",
       " 'C:\\\\Caba2012\\\\workspace\\\\Caba_python\\\\Jupyter_usage1.ipynb',\n",
       " 'C:\\\\Caba2012\\\\workspace\\\\Caba_python\\\\Jupyter_usage2.ipynb',\n",
       " 'C:\\\\Caba2012\\\\workspace\\\\Caba_python\\\\Jupyter_usage_guide.ipynb',\n",
       " 'C:\\\\Caba2012\\\\workspace\\\\Caba_python\\\\Python_basic.ipynb',\n",
       " 'C:\\\\Caba2012\\\\workspace\\\\Caba_python\\\\Python_basic_guide.ipynb',\n",
       " 'C:\\\\Caba2012\\\\workspace\\\\Caba_python\\\\python_연습.ipynb',\n",
       " 'C:\\\\Caba2012\\\\workspace\\\\Caba_python\\\\python_클래스.ipynb',\n",
       " 'C:\\\\Caba2012\\\\workspace\\\\Caba_python\\\\Python_클래스_ex1.ipynb',\n",
       " 'C:\\\\Caba2012\\\\workspace\\\\Caba_python\\\\Python_클래스_ex2.ipynb',\n",
       " 'C:\\\\Caba2012\\\\workspace\\\\Caba_python\\\\python_클래스_연습.ipynb',\n",
       " 'C:\\\\Caba2012\\\\workspace\\\\Caba_python\\\\python_평가.ipynb',\n",
       " 'C:\\\\Caba2012\\\\workspace\\\\Caba_python\\\\python_함수.ipynb',\n",
       " 'C:\\\\Caba2012\\\\workspace\\\\Caba_python\\\\Python_함수_ex.ipynb',\n",
       " 'C:\\\\Caba2012\\\\workspace\\\\Caba_python\\\\python_함수_guide.ipynb']"
      ]
     },
     "execution_count": 70,
     "metadata": {},
     "output_type": "execute_result"
    }
   ],
   "source": [
    "# 특정 디렉토리에 있는 파일 이름 모두를 알아야 할 경우\n",
    "import glob\n",
    "glob.glob('C:\\\\Caba2012\\\\workspace\\\\Caba_python/*.ipynb')"
   ]
  },
  {
   "cell_type": "code",
   "execution_count": 2,
   "metadata": {},
   "outputs": [
    {
     "data": {
      "text/plain": [
       "1609288831.215935"
      ]
     },
     "execution_count": 2,
     "metadata": {},
     "output_type": "execute_result"
    }
   ],
   "source": [
    "# time.time()은 현재시간을 실수 형태로 리턴\n",
    "# 1970년 1월 1일 0시 0분 0초를 기준으로 지난 시간을 초단위로 계산해서 반환\n",
    "import time\n",
    "time.time()"
   ]
  },
  {
   "cell_type": "code",
   "execution_count": 3,
   "metadata": {},
   "outputs": [
    {
     "data": {
      "text/plain": [
       "time.struct_time(tm_year=2020, tm_mon=12, tm_mday=30, tm_hour=9, tm_min=40, tm_sec=33, tm_wday=2, tm_yday=365, tm_isdst=0)"
      ]
     },
     "execution_count": 3,
     "metadata": {},
     "output_type": "execute_result"
    }
   ],
   "source": [
    "time.localtime(time.time())"
   ]
  },
  {
   "cell_type": "code",
   "execution_count": 4,
   "metadata": {},
   "outputs": [
    {
     "data": {
      "text/plain": [
       "'Wed Dec 30 09:40:31 2020'"
      ]
     },
     "execution_count": 4,
     "metadata": {},
     "output_type": "execute_result"
    }
   ],
   "source": [
    "# 날짜와 시간을 알아보기 쉬운 형태로 반환\n",
    "time.asctime(time.localtime(1609288831.215935))"
   ]
  },
  {
   "cell_type": "code",
   "execution_count": 5,
   "metadata": {},
   "outputs": [
    {
     "data": {
      "text/plain": [
       "'Wed Dec 30 09:44:33 2020'"
      ]
     },
     "execution_count": 5,
     "metadata": {},
     "output_type": "execute_result"
    }
   ],
   "source": [
    "# ctime은 항상 현재 시간만을 반환\n",
    "time.ctime()"
   ]
  },
  {
   "cell_type": "code",
   "execution_count": 11,
   "metadata": {},
   "outputs": [
    {
     "data": {
      "text/plain": [
       "'12/30/20'"
      ]
     },
     "execution_count": 11,
     "metadata": {},
     "output_type": "execute_result"
    }
   ],
   "source": [
    "# strftime 함수는 시간에 관계된 것을 세밀하게 표현할 수 있는 여러가지 포맷 코드 제공\n",
    "# time.strftime('%d', time.localtime(time.time())) #일\n",
    "# time.strftime('%m', time.localtime(time.time())) # 월\n",
    "# time.strftime('%Y', time.localtime(time.time())) # 년\n",
    "# time.strftime('%A', time.localtime(time.time())) # 요일\n",
    "# time.strftime('%X', time.localtime(time.time())) # 시간 요약\n",
    "time.strftime('%x', time.localtime(time.time())) # 날짜 요약"
   ]
  },
  {
   "cell_type": "code",
   "execution_count": 12,
   "metadata": {},
   "outputs": [
    {
     "name": "stdout",
     "output_type": "stream",
     "text": [
      "0\n",
      "1\n",
      "2\n",
      "3\n",
      "4\n",
      "5\n",
      "6\n",
      "7\n",
      "8\n",
      "9\n"
     ]
    }
   ],
   "source": [
    "# time.sleep 함수는 주로 루프안에서 많이 사용. 일정한 시간 간격을 두고 \n",
    "# 루프를 실행할 수 있음\n",
    "import time\n",
    "for i in range(10):\n",
    "    print(i)\n",
    "    time.sleep(1)"
   ]
  },
  {
   "cell_type": "code",
   "execution_count": 18,
   "metadata": {},
   "outputs": [
    {
     "name": "stdout",
     "output_type": "stream",
     "text": [
      "   November 2020\n",
      "Mo Tu We Th Fr Sa Su\n",
      "                   1\n",
      " 2  3  4  5  6  7  8\n",
      " 9 10 11 12 13 14 15\n",
      "16 17 18 19 20 21 22\n",
      "23 24 25 26 27 28 29\n",
      "30\n",
      "None\n",
      "\n",
      "0\n",
      "\n",
      "(6, 30)\n"
     ]
    }
   ],
   "source": [
    "# calendar는 달력을 볼 수 있게 함\n",
    "import calendar\n",
    "print(calendar.prmonth(2020,11))\n",
    "print()\n",
    "print(calendar.weekday(2021,1,4)) # 월요일 0\n",
    "print()\n",
    "print(calendar.monthrange(2020,11)) # 입력월의 1일이 무슨 요일인지 몇일까지 있는지 튜플로 반환"
   ]
  },
  {
   "cell_type": "code",
   "execution_count": 19,
   "metadata": {},
   "outputs": [
    {
     "data": {
      "text/plain": [
       "0.28735051485009355"
      ]
     },
     "execution_count": 19,
     "metadata": {},
     "output_type": "execute_result"
    }
   ],
   "source": [
    "# random은 난수를 발생시키는 모듈\n",
    "import random\n",
    "random.random() # 0.0에서 1.0사이의 실수 중에서 난수값을 반환"
   ]
  },
  {
   "cell_type": "code",
   "execution_count": 20,
   "metadata": {},
   "outputs": [
    {
     "data": {
      "text/plain": [
       "5"
      ]
     },
     "execution_count": 20,
     "metadata": {},
     "output_type": "execute_result"
    }
   ],
   "source": [
    "random.randint(1,10) # 1에서 10사이의 정수중에서 난수값을 반환"
   ]
  },
  {
   "cell_type": "code",
   "execution_count": 24,
   "metadata": {},
   "outputs": [
    {
     "name": "stdout",
     "output_type": "stream",
     "text": [
      "3\n",
      "5\n",
      "4\n",
      "1\n",
      "2\n"
     ]
    }
   ],
   "source": [
    "def random_pop(data):\n",
    "    number = random.choice(data)\n",
    "    data.remove(number)\n",
    "    return number\n",
    "if __name__== \"__main__\":\n",
    "    data = [1,2,3,4,5]\n",
    "    while data: print(random_pop(data))"
   ]
  },
  {
   "cell_type": "code",
   "execution_count": 31,
   "metadata": {},
   "outputs": [
    {
     "data": {
      "text/plain": [
       "[2, 5, 4, 3, 1]"
      ]
     },
     "execution_count": 31,
     "metadata": {},
     "output_type": "execute_result"
    }
   ],
   "source": [
    "# 리스트의 항목을 무작위로 섞고 싶은 경우\n",
    "import random\n",
    "data = [1,2,3,4,5]\n",
    "random.shuffle(data)\n",
    "data"
   ]
  },
  {
   "cell_type": "code",
   "execution_count": 32,
   "metadata": {},
   "outputs": [
    {
     "data": {
      "text/plain": [
       "True"
      ]
     },
     "execution_count": 32,
     "metadata": {},
     "output_type": "execute_result"
    }
   ],
   "source": [
    "# 웹브라우저를 자동으로 실행\n",
    "import webbrowser\n",
    "webbrowser.open_new('http://google.com')"
   ]
  },
  {
   "cell_type": "code",
   "execution_count": 33,
   "metadata": {},
   "outputs": [
    {
     "name": "stdout",
     "output_type": "stream",
     "text": [
      "start\n",
      "working:0\n",
      "\n",
      "working:1\n",
      "\n",
      "working:2\n",
      "\n",
      "working:3\n",
      "\n",
      "working:4\n",
      "\n",
      "working:0\n",
      "\n",
      "working:1\n",
      "\n",
      "working:2\n",
      "\n",
      "working:3\n",
      "\n",
      "working:4\n",
      "\n",
      "working:0\n",
      "\n",
      "working:1\n",
      "\n",
      "working:2\n",
      "\n",
      "working:3\n",
      "\n",
      "working:4\n",
      "\n",
      "working:0\n",
      "\n",
      "working:1\n",
      "\n",
      "working:2\n",
      "\n",
      "working:3\n",
      "\n",
      "working:4\n",
      "\n",
      "working:0\n",
      "\n",
      "working:1\n",
      "\n",
      "working:2\n",
      "\n",
      "working:3\n",
      "\n",
      "working:4\n",
      "\n",
      "End\n"
     ]
    }
   ],
   "source": [
    "import time\n",
    "def long_task():  # 5초의 시간이 걸리는 함수\n",
    "    for i in range(5):\n",
    "        time.sleep(1)\n",
    "        print(\"working:%s\\n\"%i)\n",
    "print('start')\n",
    "for i in range(5):\n",
    "    long_task()\n",
    "print('End')"
   ]
  },
  {
   "cell_type": "code",
   "execution_count": 34,
   "metadata": {},
   "outputs": [
    {
     "name": "stdout",
     "output_type": "stream",
     "text": [
      "start\n",
      "working:0\n",
      "working:0\n",
      "working:0\n",
      "working:0\n",
      "working:0\n",
      "\n",
      "\n",
      "\n",
      "\n",
      "\n",
      "working:1\n",
      "working:1\n",
      "\n",
      "\n",
      "working:1\n",
      "\n",
      "working:1\n",
      "\n",
      "working:1\n",
      "\n",
      "working:2\n",
      "working:2\n",
      "\n",
      "working:2\n",
      "\n",
      "\n",
      "working:2\n",
      "\n",
      "working:2\n",
      "\n",
      "working:3\n",
      "\n",
      "working:3\n",
      "\n",
      "working:3\n",
      "\n",
      "working:3\n",
      "working:3\n",
      "\n",
      "\n",
      "working:4\n",
      "\n",
      "working:4\n",
      "\n",
      "working:4\n",
      "\n",
      "working:4\n",
      "\n",
      "working:4\n",
      "\n",
      "End\n"
     ]
    }
   ],
   "source": [
    "# 파이썬에서 쓰레드를 실행하기 위해서는 threading 모듈의 threading.Thread 함수 호출\n",
    "# Thread 객체를 얻은 후 Thread 객체의 start 메서드 호출\n",
    "# 쓰레드가 실행할 함수(혹은 메서드)를 작성하고 그 함수명을 threading.Thread 함수의\n",
    "# target 아규먼트에 지정\n",
    "\n",
    "import time\n",
    "import threading\n",
    "\n",
    "def long_task():  # 5초의 시간이 걸리는 함수\n",
    "    for i in range(5):\n",
    "        time.sleep(1)\n",
    "        print(\"working:%s\\n\"%i)\n",
    "print('start')\n",
    "\n",
    "threads = []\n",
    "for i in range(5):\n",
    "    t = threading.Thread(target=long_task)\n",
    "    threads.append(t)\n",
    "    \n",
    "for t in threads:\n",
    "    t.start()\n",
    "    \n",
    "for t in threads:\n",
    "    t.join() # join으로 쓰레드가 종료될 때까지 기다림\n",
    "    \n",
    "print('End')"
   ]
  },
  {
   "cell_type": "markdown",
   "metadata": {},
   "source": [
    "더불 언더스코어(__)\n",
    "- private을 구현하기 위해 사용\n",
    "- 클래스내 비슷한 이름끼리 충돌을 방지하기 위하여 사용하며 인터프리터에게 해당 변수를 다른 이름으로 치환하라고 알려줌\n",
    "- 내부에서만 접근 가능하며 외부에서는 접근 불가"
   ]
  },
  {
   "cell_type": "code",
   "execution_count": 37,
   "metadata": {},
   "outputs": [
    {
     "name": "stdout",
     "output_type": "stream",
     "text": [
      ">>> 10\n",
      "20\n"
     ]
    },
    {
     "ename": "AttributeError",
     "evalue": "'Myclass' object has no attribute '__variable'",
     "output_type": "error",
     "traceback": [
      "\u001b[1;31m---------------------------------------------------------------------------\u001b[0m",
      "\u001b[1;31mAttributeError\u001b[0m                            Traceback (most recent call last)",
      "\u001b[1;32m<ipython-input-37-657afa2d5ddf>\u001b[0m in \u001b[0;36m<module>\u001b[1;34m\u001b[0m\n\u001b[0;32m      9\u001b[0m \u001b[0mobj\u001b[0m\u001b[1;33m.\u001b[0m\u001b[0mfunc\u001b[0m\u001b[1;33m(\u001b[0m\u001b[1;33m)\u001b[0m\u001b[1;33m\u001b[0m\u001b[1;33m\u001b[0m\u001b[0m\n\u001b[0;32m     10\u001b[0m \u001b[0mprint\u001b[0m\u001b[1;33m(\u001b[0m\u001b[0mobj\u001b[0m\u001b[1;33m.\u001b[0m\u001b[0mabc\u001b[0m\u001b[1;33m)\u001b[0m\u001b[1;33m\u001b[0m\u001b[1;33m\u001b[0m\u001b[0m\n\u001b[1;32m---> 11\u001b[1;33m \u001b[0mobj\u001b[0m\u001b[1;33m.\u001b[0m\u001b[0m__variable\u001b[0m\u001b[1;33m\u001b[0m\u001b[1;33m\u001b[0m\u001b[0m\n\u001b[0m",
      "\u001b[1;31mAttributeError\u001b[0m: 'Myclass' object has no attribute '__variable'"
     ]
    }
   ],
   "source": [
    "class Myclass():\n",
    "    def __init__(self):\n",
    "        self.__variable = 10\n",
    "        self.abc = 20\n",
    "    def func(self):\n",
    "        print('>>>',self.__variable)\n",
    "        \n",
    "obj = Myclass()\n",
    "obj.func()\n",
    "print(obj.abc)\n",
    "obj.__variable"
   ]
  },
  {
   "cell_type": "code",
   "execution_count": 38,
   "metadata": {},
   "outputs": [],
   "source": [
    "with open('MyClass.py','w') as f:\n",
    "    f.write('''\n",
    "class MyClass():\n",
    "    def __init__(self):\n",
    "        self.__superprivate = \"Hello\"\n",
    "        self._semiprivate = \", world!\"\n",
    "''')"
   ]
  },
  {
   "cell_type": "code",
   "execution_count": 39,
   "metadata": {},
   "outputs": [],
   "source": [
    "with open('test.py','w') as f:\n",
    "    f.write('''\n",
    "from MyClass import *\n",
    "mc = MyClass()\n",
    "print(mc.__superprivate)\n",
    "''')"
   ]
  },
  {
   "cell_type": "code",
   "execution_count": 40,
   "metadata": {},
   "outputs": [
    {
     "name": "stderr",
     "output_type": "stream",
     "text": [
      "Traceback (most recent call last):\n",
      "  File \"test.py\", line 4, in <module>\n",
      "    print(mc.__superprivate)\n",
      "AttributeError: 'MyClass' object has no attribute '__superprivate'\n"
     ]
    }
   ],
   "source": [
    "!python test.py"
   ]
  },
  {
   "cell_type": "code",
   "execution_count": 41,
   "metadata": {},
   "outputs": [
    {
     "name": "stdout",
     "output_type": "stream",
     "text": [
      "Hello\n"
     ]
    }
   ],
   "source": [
    "# __변수명을 _클래스명__변수명으로 치환\n",
    "from MyClass import *\n",
    "mc = MyClass()\n",
    "print(mc._MyClass__superprivate)"
   ]
  },
  {
   "cell_type": "code",
   "execution_count": 42,
   "metadata": {},
   "outputs": [
    {
     "ename": "UnboundLocalError",
     "evalue": "local variable 'a' referenced before assignment",
     "output_type": "error",
     "traceback": [
      "\u001b[1;31m---------------------------------------------------------------------------\u001b[0m",
      "\u001b[1;31mUnboundLocalError\u001b[0m                         Traceback (most recent call last)",
      "\u001b[1;32m<ipython-input-42-47703329034b>\u001b[0m in \u001b[0;36m<module>\u001b[1;34m\u001b[0m\n\u001b[0;32m      3\u001b[0m \u001b[1;32mdef\u001b[0m \u001b[0mbind_a_variable\u001b[0m\u001b[1;33m(\u001b[0m\u001b[1;33m)\u001b[0m\u001b[1;33m:\u001b[0m\u001b[1;33m\u001b[0m\u001b[1;33m\u001b[0m\u001b[0m\n\u001b[0;32m      4\u001b[0m     \u001b[0ma\u001b[0m \u001b[1;33m=\u001b[0m \u001b[0ma\u001b[0m\u001b[1;33m\u001b[0m\u001b[1;33m\u001b[0m\u001b[0m\n\u001b[1;32m----> 5\u001b[1;33m \u001b[0mbind_a_variable\u001b[0m\u001b[1;33m(\u001b[0m\u001b[1;33m)\u001b[0m\u001b[1;33m\u001b[0m\u001b[1;33m\u001b[0m\u001b[0m\n\u001b[0m\u001b[0;32m      6\u001b[0m \u001b[0ma\u001b[0m\u001b[1;33m\u001b[0m\u001b[1;33m\u001b[0m\u001b[0m\n",
      "\u001b[1;32m<ipython-input-42-47703329034b>\u001b[0m in \u001b[0;36mbind_a_variable\u001b[1;34m()\u001b[0m\n\u001b[0;32m      2\u001b[0m \u001b[0ma\u001b[0m \u001b[1;33m=\u001b[0m \u001b[1;33m[\u001b[0m\u001b[1;36m1\u001b[0m\u001b[1;33m,\u001b[0m\u001b[1;36m2\u001b[0m\u001b[1;33m,\u001b[0m\u001b[1;36m3\u001b[0m\u001b[1;33m]\u001b[0m\u001b[1;33m\u001b[0m\u001b[1;33m\u001b[0m\u001b[0m\n\u001b[0;32m      3\u001b[0m \u001b[1;32mdef\u001b[0m \u001b[0mbind_a_variable\u001b[0m\u001b[1;33m(\u001b[0m\u001b[1;33m)\u001b[0m\u001b[1;33m:\u001b[0m\u001b[1;33m\u001b[0m\u001b[1;33m\u001b[0m\u001b[0m\n\u001b[1;32m----> 4\u001b[1;33m     \u001b[0ma\u001b[0m \u001b[1;33m=\u001b[0m \u001b[0ma\u001b[0m\u001b[1;33m\u001b[0m\u001b[1;33m\u001b[0m\u001b[0m\n\u001b[0m\u001b[0;32m      5\u001b[0m \u001b[0mbind_a_variable\u001b[0m\u001b[1;33m(\u001b[0m\u001b[1;33m)\u001b[0m\u001b[1;33m\u001b[0m\u001b[1;33m\u001b[0m\u001b[0m\n\u001b[0;32m      6\u001b[0m \u001b[0ma\u001b[0m\u001b[1;33m\u001b[0m\u001b[1;33m\u001b[0m\u001b[0m\n",
      "\u001b[1;31mUnboundLocalError\u001b[0m: local variable 'a' referenced before assignment"
     ]
    }
   ],
   "source": [
    "# Q. 아래 코드 실행 결과가 [1,2,3]이 출력되도록 오류를 수정하세요.\n",
    "a = [1,2,3]\n",
    "def bind_a_variable():   \n",
    "    a = a\n",
    "bind_a_variable()       \n",
    "a"
   ]
  },
  {
   "cell_type": "code",
   "execution_count": 43,
   "metadata": {},
   "outputs": [
    {
     "data": {
      "text/plain": [
       "[1, 2, 3]"
      ]
     },
     "execution_count": 43,
     "metadata": {},
     "output_type": "execute_result"
    }
   ],
   "source": [
    "# 전역변수 사용\n",
    "a = [1,2,3]\n",
    "def bind_a_variable():\n",
    "    global a\n",
    "    a = a\n",
    "bind_a_variable()       \n",
    "a"
   ]
  },
  {
   "cell_type": "code",
   "execution_count": 44,
   "metadata": {},
   "outputs": [
    {
     "data": {
      "text/plain": [
       "[1, 2, 3]"
      ]
     },
     "execution_count": 44,
     "metadata": {},
     "output_type": "execute_result"
    }
   ],
   "source": [
    "# return 사용\n",
    "a = [1,2,3]\n",
    "def bind_a_variable(a):   \n",
    "    a = a\n",
    "    return a\n",
    "a = bind_a_variable(a)       \n",
    "a"
   ]
  },
  {
   "cell_type": "code",
   "execution_count": null,
   "metadata": {},
   "outputs": [],
   "source": [
    "# strip() 함수를 사용하면 주어진 문자열에서 양쪽 끝에 있는 공백과 \\n 기호를 삭제\n",
    "# re.sub() 정규표현식 문자열 치환. value = re.sub('[!#?]', '', value)\n",
    "# title() 함수 첫글자를 대문자로 변환\n",
    "# Q. 문자열 리스트 states를 정형화하여 아래와 같이 출력하세요\n",
    "states = ['   Alabama ', 'Georgia!', 'Georgia', 'georgia', 'FlOrIda',\n",
    "          'south   carolina##', 'West virginia?']\n",
    "[출력]\n",
    "['Alabama',\n",
    " 'Georgia',\n",
    " 'Georgia',\n",
    " 'Georgia',\n",
    " 'Florida',\n",
    " 'South   Carolina',\n",
    " 'West Virginia']"
   ]
  },
  {
   "cell_type": "code",
   "execution_count": 45,
   "metadata": {},
   "outputs": [
    {
     "data": {
      "text/plain": [
       "['Alabama',\n",
       " 'Georgia',\n",
       " 'Georgia',\n",
       " 'Georgia',\n",
       " 'Florida',\n",
       " 'South   Carolina',\n",
       " 'West Virginia']"
      ]
     },
     "execution_count": 45,
     "metadata": {},
     "output_type": "execute_result"
    }
   ],
   "source": [
    "import re\n",
    "states = ['   Alabama ', 'Georgia!', 'Georgia', 'georgia', 'FlOrIda',\n",
    "          'south   carolina##', 'West virginia?']\n",
    "def clean_strings(strings):\n",
    "    result = []\n",
    "    for value in strings:\n",
    "        value = value.strip()\n",
    "        value = re.sub('[!#?]','',value)\n",
    "        value = value.title()\n",
    "        result.append(value)        \n",
    "    return result\n",
    "\n",
    "clean_strings(states)"
   ]
  },
  {
   "cell_type": "code",
   "execution_count": 46,
   "metadata": {},
   "outputs": [
    {
     "name": "stdout",
     "output_type": "stream",
     "text": [
      "south carolina\n"
     ]
    }
   ],
   "source": [
    "# 스페이스 조정\n",
    "str_content = 'south   carolina'\n",
    "rr = ' '.join(str_content.split())\n",
    "print(rr) "
   ]
  },
  {
   "cell_type": "code",
   "execution_count": 48,
   "metadata": {},
   "outputs": [
    {
     "data": {
      "text/plain": [
       "'south carolina'"
      ]
     },
     "execution_count": 48,
     "metadata": {},
     "output_type": "execute_result"
    }
   ],
   "source": [
    "# 스페이스 조정\n",
    "import re\n",
    "str_content = 'south   carolina'\n",
    "rr = re.sub(' +',' ',str_content)\n",
    "rr"
   ]
  },
  {
   "cell_type": "code",
   "execution_count": null,
   "metadata": {},
   "outputs": [],
   "source": [
    "# Q. 게시물의 총 건수와 한 페이지에 보여 줄 게시물 수를 입력시 총 페이지 수를 \n",
    "# 출력하는 프로그램을 만든 후 (총 건수 100, 한페이지 3)"
   ]
  },
  {
   "cell_type": "code",
   "execution_count": 47,
   "metadata": {},
   "outputs": [
    {
     "name": "stdout",
     "output_type": "stream",
     "text": [
      "34\n"
     ]
    }
   ],
   "source": [
    "# A.\n",
    "def getTotalPage(m,n):\n",
    "    if m % n == 0:\n",
    "        return m // n\n",
    "    else:\n",
    "        return m // n + 1\n",
    "\n",
    "print(getTotalPage(100, 3))"
   ]
  },
  {
   "cell_type": "code",
   "execution_count": null,
   "metadata": {},
   "outputs": [],
   "source": [
    "# Q. 입력으로 들어오는 모든 수의 평균 값을 계산해 주는 함수를 작성한 후 \n",
    "# 1,2,3을 입력한 결과를 출력하세요."
   ]
  },
  {
   "cell_type": "code",
   "execution_count": 49,
   "metadata": {},
   "outputs": [
    {
     "data": {
      "text/plain": [
       "2.0"
      ]
     },
     "execution_count": 49,
     "metadata": {},
     "output_type": "execute_result"
    }
   ],
   "source": [
    "# A.\n",
    "def avg_numbers(*args):\n",
    "    result = 0\n",
    "    for i in args:\n",
    "        result += i\n",
    "    average = result/len(args)\n",
    "    return average\n",
    "\n",
    "avg_numbers(1,2,3)"
   ]
  },
  {
   "cell_type": "code",
   "execution_count": null,
   "metadata": {},
   "outputs": [],
   "source": [
    "# Q. 람다 함수를 이용해서 a의 b제곱을 구하는 식을 만들고 그 식을 이용해서 \n",
    "# a, b가 아래와 같이 주어졌을 때 각각의 값을 구하세요. \n",
    "# a = 2, b = 5\n",
    "# a= 5, b = 2"
   ]
  },
  {
   "cell_type": "code",
   "execution_count": 50,
   "metadata": {},
   "outputs": [
    {
     "name": "stdout",
     "output_type": "stream",
     "text": [
      "32\n",
      "25\n"
     ]
    }
   ],
   "source": [
    "# A.\n",
    "x = lambda a,b:a**b\n",
    "print(x(2,5))\n",
    "print(x(5,2))"
   ]
  },
  {
   "cell_type": "code",
   "execution_count": null,
   "metadata": {},
   "outputs": [],
   "source": [
    "# Q. 97을 40으로 나눈 몫과 나머지를 내장함수를 이용하여 구하세요.(튜플로 출력 필수)"
   ]
  },
  {
   "cell_type": "code",
   "execution_count": 51,
   "metadata": {},
   "outputs": [
    {
     "data": {
      "text/plain": [
       "(2, 17)"
      ]
     },
     "execution_count": 51,
     "metadata": {},
     "output_type": "execute_result"
    }
   ],
   "source": [
    "# A.\n",
    "a, b = 97, 40\n",
    "divmod(a,b)"
   ]
  },
  {
   "cell_type": "code",
   "execution_count": null,
   "metadata": {},
   "outputs": [],
   "source": [
    "[과제]\n",
    "# Q. strings를 다양한 문자가 포함된 순서로 정렬하세요,\n",
    "strings = ['foo', 'card', 'bar', 'aaaa', 'abab']"
   ]
  },
  {
   "cell_type": "code",
   "execution_count": 52,
   "metadata": {},
   "outputs": [
    {
     "data": {
      "text/plain": [
       "1.2345"
      ]
     },
     "execution_count": 52,
     "metadata": {},
     "output_type": "execute_result"
    }
   ],
   "source": [
    "def attempt_float(x):\n",
    "    try:\n",
    "        return float(x)\n",
    "    except:\n",
    "        return x\n",
    "    \n",
    "attempt_float('1.2345')"
   ]
  },
  {
   "cell_type": "code",
   "execution_count": 53,
   "metadata": {},
   "outputs": [
    {
     "data": {
      "text/plain": [
       "'something'"
      ]
     },
     "execution_count": 53,
     "metadata": {},
     "output_type": "execute_result"
    }
   ],
   "source": [
    "attempt_float('something')"
   ]
  },
  {
   "cell_type": "code",
   "execution_count": null,
   "metadata": {},
   "outputs": [],
   "source": [
    "# Q. 랜덤하게 1000명의 이름, 키와 몸무게 만들기(파일이름 info.txt)\n",
    "# 출력 포맷 : 파타,50,150\n",
    "# random.randrange(40,100) : 40 ~ 100사이에서 랜덤하게 추출"
   ]
  },
  {
   "cell_type": "code",
   "execution_count": 55,
   "metadata": {},
   "outputs": [],
   "source": [
    "# A.\n",
    "import random\n",
    "hanguls = list(\"가나다라마바사아자타카타파하\")\n",
    "with open(\"info.txt\",'w') as f:\n",
    "    for i in range(1000):\n",
    "        name = random.choice(hanguls)+random.choice(hanguls)\n",
    "        weight = random.randrange(40,100)\n",
    "        height = random.randrange(140, 200)\n",
    "        f.write(\"{},{},{}\\n\".format(name,weight,height))"
   ]
  },
  {
   "cell_type": "code",
   "execution_count": 56,
   "metadata": {},
   "outputs": [
    {
     "name": "stdout",
     "output_type": "stream",
     "text": [
      "가자,44,140\n",
      "나라,43,187\n",
      "가사,75,183\n",
      "파마,73,197\n",
      "타아,82,175\n",
      "아가,79,166\n",
      "타카,68,163\n",
      "파파,86,163\n",
      "나라,42,162\n",
      "하가,80,197\n",
      "타가,44,167\n",
      "하타,52,189\n",
      "라다,58,154\n",
      "다타,72,152\n",
      "하바,79,190\n",
      "자바,98,166\n",
      "자사,48,176\n",
      "아카,58,141\n",
      "타아,76,140\n",
      "파아,76,157\n",
      "나마,49,191\n",
      "타파,96,176\n",
      "나타,70,150\n",
      "사자,74,184\n",
      "바타,78,174\n",
      "바타,86,178\n",
      "카자,74,199\n",
      "자나,48,186\n",
      "가나,49,178\n",
      "카라,72,171\n",
      "카하,72,192\n",
      "나가,53,174\n",
      "라가,69,171\n",
      "다타,42,143\n",
      "가파,61,184\n",
      "가라,60,179\n",
      "타아,85,142\n",
      "가가,91,190\n",
      "타타,86,185\n",
      "카타,92,143\n",
      "자라,56,164\n",
      "라사,67,162\n",
      "사다,74,140\n",
      "다하,80,144\n",
      "바카,95,188\n",
      "다자,45,191\n",
      "가마,78,152\n",
      "나가,82,194\n",
      "파타,49,182\n",
      "바사,42,196\n",
      "마라,96,196\n",
      "아사,70,140\n",
      "라마,89,179\n",
      "라사,56,140\n",
      "나파,69,191\n",
      "타나,79,151\n",
      "다파,51,185\n",
      "라타,55,170\n",
      "나가,93,186\n",
      "가파,71,196\n",
      "다마,50,192\n",
      "파라,46,158\n",
      "하아,81,170\n",
      "파자,80,164\n",
      "가다,90,154\n",
      "가하,57,190\n",
      "타바,43,170\n",
      "타타,53,167\n",
      "나하,77,158\n",
      "나아,50,163\n",
      "바나,53,147\n",
      "나마,98,152\n",
      "다가,60,187\n",
      "아하,81,164\n",
      "사카,78,169\n",
      "나마,84,170\n",
      "아사,59,156\n",
      "가라,88,195\n",
      "타바,79,149\n",
      "마자,63,168\n",
      "사타,53,162\n",
      "나나,52,140\n",
      "카하,77,193\n",
      "자마,92,140\n",
      "다사,46,175\n",
      "사타,46,146\n",
      "마카,56,148\n",
      "파사,53,140\n",
      "타카,54,191\n",
      "나아,65,179\n",
      "타아,43,198\n",
      "카바,42,163\n",
      "마라,72,148\n",
      "타카,41,171\n",
      "다마,94,160\n",
      "자타,52,164\n",
      "마타,84,141\n",
      "자타,76,152\n",
      "마자,69,152\n",
      "하자,51,166\n",
      "다아,70,190\n",
      "사카,53,146\n",
      "가마,62,158\n",
      "하타,48,144\n",
      "하마,51,147\n",
      "사가,76,178\n",
      "하카,98,186\n",
      "자자,97,169\n",
      "하타,96,169\n",
      "라자,99,198\n",
      "아마,53,154\n",
      "카바,70,157\n",
      "라파,68,195\n",
      "바카,98,151\n",
      "자자,84,147\n",
      "라파,91,184\n",
      "가타,93,195\n",
      "아다,92,198\n",
      "파자,69,195\n",
      "나타,87,198\n",
      "바라,45,149\n",
      "마카,69,150\n",
      "파마,60,196\n",
      "파카,74,148\n",
      "가파,59,179\n",
      "다아,64,188\n",
      "타다,81,165\n",
      "카다,64,190\n",
      "타파,70,145\n",
      "카타,64,187\n",
      "사라,79,152\n",
      "자아,59,182\n",
      "타카,68,158\n",
      "타타,99,185\n",
      "타파,82,196\n",
      "사바,50,146\n",
      "라사,92,191\n",
      "타라,67,156\n",
      "자다,79,188\n",
      "마라,74,158\n",
      "아타,57,152\n",
      "마다,91,157\n",
      "사타,73,149\n",
      "타바,55,183\n",
      "자파,50,176\n",
      "사나,47,187\n",
      "아타,47,166\n",
      "자바,59,172\n",
      "다다,46,163\n",
      "다자,44,145\n",
      "가파,92,150\n",
      "다가,53,193\n",
      "아마,53,156\n",
      "파자,76,167\n",
      "라아,99,193\n",
      "하사,44,144\n",
      "타라,84,159\n",
      "바라,99,148\n",
      "바마,75,195\n",
      "아타,62,141\n",
      "타마,82,169\n",
      "사사,73,185\n",
      "자파,93,152\n",
      "타타,59,156\n",
      "타타,70,163\n",
      "마파,51,172\n",
      "가마,84,153\n",
      "가아,60,147\n",
      "바자,46,150\n",
      "마바,93,179\n",
      "아아,76,193\n",
      "자바,74,168\n",
      "다타,72,151\n",
      "마바,96,196\n",
      "바사,88,181\n",
      "자타,87,181\n",
      "다하,83,185\n",
      "사바,45,187\n",
      "타마,59,190\n",
      "가타,82,173\n",
      "가라,82,176\n",
      "파아,50,152\n",
      "자자,93,185\n",
      "사나,94,167\n",
      "사타,91,144\n",
      "자라,52,155\n",
      "나하,59,154\n",
      "나자,64,149\n",
      "카아,81,195\n",
      "나자,75,194\n",
      "사타,67,190\n",
      "다카,97,143\n",
      "라라,89,198\n",
      "바가,97,180\n",
      "사사,77,183\n",
      "타타,83,175\n",
      "사바,74,164\n",
      "아하,51,154\n",
      "타다,87,193\n",
      "다마,75,182\n",
      "바타,84,150\n",
      "하바,62,146\n",
      "타사,76,183\n",
      "아아,72,155\n",
      "다자,72,159\n",
      "가하,46,164\n",
      "바하,74,193\n",
      "타카,63,189\n",
      "타카,54,169\n",
      "아타,83,141\n",
      "파파,96,149\n",
      "바파,84,169\n",
      "타라,85,199\n",
      "아다,58,149\n",
      "나타,48,157\n",
      "하바,67,170\n",
      "파다,52,149\n",
      "사타,54,151\n",
      "하카,66,186\n",
      "바파,55,198\n",
      "다하,63,163\n",
      "라가,49,188\n",
      "아사,64,197\n",
      "타가,72,167\n",
      "나다,43,156\n",
      "다파,74,166\n",
      "사라,85,191\n",
      "다다,50,184\n",
      "하타,84,195\n",
      "바바,56,161\n",
      "바타,68,166\n",
      "자사,71,143\n",
      "다타,45,158\n",
      "타아,92,192\n",
      "바가,85,189\n",
      "다자,57,160\n",
      "나나,51,165\n",
      "다가,41,152\n",
      "자마,73,175\n",
      "자하,55,158\n",
      "마하,66,161\n",
      "파마,71,162\n",
      "사사,56,141\n",
      "라바,69,148\n",
      "마사,70,163\n",
      "가바,77,158\n",
      "가아,74,191\n",
      "파라,45,188\n",
      "사마,72,197\n",
      "마아,65,183\n",
      "마라,57,170\n",
      "파타,79,159\n",
      "나다,91,147\n",
      "가사,69,153\n",
      "타바,67,169\n",
      "사아,40,191\n",
      "라바,60,170\n",
      "사다,98,196\n",
      "나타,43,184\n",
      "파마,79,181\n",
      "타아,77,198\n",
      "나타,88,140\n",
      "파가,85,159\n",
      "하하,50,159\n",
      "다가,74,147\n",
      "타카,53,144\n",
      "바사,45,194\n",
      "파자,75,199\n",
      "파사,95,197\n",
      "바나,81,174\n",
      "바마,57,157\n",
      "파타,56,164\n",
      "카자,40,179\n",
      "다나,81,199\n",
      "아나,89,164\n",
      "다하,99,159\n",
      "다나,57,191\n",
      "하다,77,159\n",
      "자라,42,147\n",
      "라사,85,160\n",
      "나아,82,158\n",
      "바카,43,195\n",
      "카하,42,162\n",
      "나라,97,160\n",
      "타나,95,183\n",
      "자가,42,153\n",
      "마자,55,155\n",
      "가자,49,150\n",
      "하파,71,143\n",
      "카카,62,161\n",
      "사다,62,174\n",
      "나다,91,164\n",
      "하카,59,177\n",
      "아파,67,140\n",
      "타파,76,141\n",
      "아타,81,198\n",
      "파나,97,154\n",
      "카아,45,182\n",
      "라타,48,174\n",
      "타카,90,171\n",
      "나마,83,186\n",
      "타나,98,165\n",
      "아파,41,157\n",
      "가사,79,155\n",
      "자타,71,185\n",
      "마라,80,140\n",
      "마타,42,178\n",
      "타하,43,180\n",
      "타자,52,176\n",
      "파자,91,172\n",
      "바마,56,157\n",
      "가타,99,166\n",
      "라카,73,199\n",
      "다나,95,159\n",
      "다카,49,150\n",
      "아바,95,177\n",
      "하바,92,148\n",
      "하타,51,199\n",
      "나타,48,163\n",
      "파파,57,178\n",
      "아자,90,141\n",
      "바파,51,145\n",
      "바타,79,158\n",
      "아나,49,149\n",
      "마바,92,168\n",
      "자다,99,168\n",
      "파라,71,183\n",
      "타아,79,174\n",
      "사카,68,162\n",
      "사카,52,176\n",
      "마라,90,189\n",
      "아하,94,176\n",
      "카파,83,165\n",
      "타라,57,157\n",
      "다타,67,164\n",
      "카하,69,171\n",
      "가타,71,180\n",
      "카라,94,151\n",
      "나아,52,198\n",
      "사자,68,186\n",
      "타카,84,142\n",
      "가파,93,183\n",
      "라나,57,182\n",
      "마가,68,154\n",
      "파나,63,152\n",
      "타가,42,160\n",
      "다타,50,166\n",
      "아다,79,167\n",
      "바하,88,199\n",
      "하사,93,167\n",
      "나나,86,186\n",
      "바카,41,140\n",
      "아아,71,174\n",
      "다나,83,194\n",
      "다라,54,155\n",
      "가자,69,147\n",
      "가나,42,180\n",
      "아라,57,178\n",
      "다라,66,166\n",
      "바타,85,143\n",
      "타마,61,158\n",
      "바마,66,140\n",
      "파사,64,157\n",
      "사마,68,159\n",
      "바파,71,193\n",
      "다타,51,163\n",
      "나하,74,148\n",
      "아사,52,153\n",
      "파타,99,144\n",
      "라라,63,166\n",
      "다다,53,158\n",
      "마자,42,145\n",
      "카나,94,157\n",
      "가하,90,178\n",
      "다사,51,176\n",
      "하바,76,168\n",
      "카마,48,141\n",
      "사자,98,187\n",
      "타파,72,149\n",
      "아가,52,167\n",
      "마자,65,150\n",
      "마아,64,196\n",
      "자라,63,184\n",
      "타바,70,142\n",
      "사라,96,174\n",
      "나라,66,174\n",
      "파타,61,160\n",
      "타아,78,146\n",
      "다하,62,154\n",
      "하나,75,175\n",
      "라다,57,177\n",
      "카마,97,147\n",
      "아아,74,155\n",
      "바가,47,174\n",
      "마자,94,181\n",
      "라마,67,170\n",
      "파다,66,154\n",
      "파하,80,190\n",
      "카아,58,155\n",
      "마나,58,150\n",
      "타타,98,196\n",
      "바카,41,190\n",
      "가아,89,171\n",
      "자가,46,197\n",
      "타마,46,146\n",
      "타사,54,175\n",
      "자카,62,189\n",
      "라하,43,169\n",
      "마사,60,170\n",
      "자자,76,187\n",
      "마사,53,186\n",
      "자타,61,160\n",
      "아타,62,147\n",
      "라가,60,145\n",
      "타사,84,161\n",
      "사하,57,159\n",
      "나나,91,184\n",
      "다타,88,142\n",
      "자나,44,189\n",
      "아파,64,191\n",
      "타가,72,198\n",
      "마나,84,142\n",
      "다자,98,174\n",
      "카가,61,185\n",
      "카하,84,150\n",
      "사마,93,171\n",
      "자자,46,190\n",
      "나자,73,182\n",
      "파타,99,162\n",
      "자아,48,144\n",
      "라파,46,199\n",
      "나사,87,193\n",
      "마하,48,172\n",
      "나카,40,180\n",
      "다라,73,150\n",
      "타가,56,177\n",
      "바카,77,174\n",
      "자카,66,175\n",
      "가카,62,172\n",
      "파라,98,171\n",
      "아바,71,167\n",
      "라사,83,148\n",
      "자카,70,198\n",
      "라마,64,166\n",
      "바아,90,141\n",
      "아하,91,160\n",
      "카타,64,183\n",
      "마하,97,196\n",
      "사마,69,146\n",
      "사바,46,196\n",
      "다카,95,140\n",
      "사마,87,149\n",
      "가나,93,189\n",
      "타자,64,140\n",
      "나타,68,194\n",
      "다나,59,166\n",
      "자사,85,164\n",
      "사자,73,165\n",
      "타아,91,147\n",
      "카타,54,192\n",
      "파가,52,155\n",
      "아타,76,145\n",
      "가바,48,191\n",
      "다다,40,182\n",
      "바가,70,157\n",
      "가다,49,164\n",
      "라마,67,146\n",
      "사아,77,163\n",
      "파타,41,169\n",
      "타타,42,189\n",
      "바사,74,173\n",
      "사자,66,143\n",
      "카타,84,183\n",
      "사다,90,145\n",
      "자자,92,169\n",
      "나타,69,197\n",
      "다아,73,178\n",
      "다사,51,153\n",
      "카하,73,194\n",
      "타가,73,197\n",
      "나사,51,198\n",
      "카타,80,178\n",
      "가바,97,170\n",
      "마사,74,146\n",
      "타카,85,195\n",
      "타사,82,151\n",
      "자카,80,196\n",
      "사사,73,165\n",
      "다타,46,152\n",
      "하타,62,190\n",
      "타바,43,181\n",
      "나카,63,191\n",
      "아마,47,159\n",
      "사파,71,190\n",
      "다카,86,156\n",
      "라나,79,180\n",
      "사타,84,162\n",
      "나라,40,185\n",
      "하가,71,183\n",
      "아마,78,169\n",
      "라자,90,170\n",
      "마마,80,150\n",
      "파바,69,184\n",
      "나다,66,192\n",
      "마자,62,195\n",
      "아가,42,140\n",
      "라다,58,185\n",
      "자가,69,184\n",
      "다아,44,155\n",
      "아자,98,183\n",
      "카타,43,187\n",
      "사카,68,163\n",
      "카자,55,191\n",
      "다라,50,199\n",
      "바타,76,179\n",
      "아타,71,162\n",
      "파나,53,181\n",
      "나타,43,159\n",
      "가타,75,180\n",
      "파나,50,194\n",
      "타타,67,184\n",
      "다자,58,198\n",
      "마다,51,158\n",
      "타나,47,177\n",
      "나사,49,167\n",
      "바다,62,163\n",
      "파사,85,162\n",
      "하마,66,187\n",
      "타다,82,190\n",
      "타아,43,152\n",
      "타파,42,149\n",
      "파파,91,154\n",
      "다마,82,154\n",
      "하사,76,172\n",
      "다라,40,159\n",
      "다카,79,197\n",
      "타아,85,193\n",
      "파카,83,183\n",
      "파타,72,172\n",
      "사타,74,172\n",
      "가파,64,159\n",
      "타나,82,173\n",
      "타하,69,187\n",
      "라가,78,178\n",
      "마하,45,194\n",
      "사라,92,172\n",
      "아바,68,183\n",
      "아사,74,175\n",
      "자파,61,174\n",
      "타나,86,144\n",
      "자파,53,187\n",
      "마타,95,150\n",
      "나나,66,192\n",
      "바타,66,183\n",
      "마카,65,140\n",
      "가아,82,158\n",
      "카타,83,169\n",
      "카하,93,168\n",
      "다마,79,161\n",
      "아라,59,184\n",
      "라가,44,162\n",
      "아마,44,181\n",
      "바자,77,190\n",
      "파라,58,161\n",
      "자사,45,186\n",
      "타다,47,186\n",
      "자카,99,199\n",
      "바파,71,199\n",
      "자자,42,141\n",
      "사사,94,160\n",
      "파타,69,157\n",
      "사아,74,168\n",
      "아타,84,164\n",
      "자바,95,149\n",
      "파아,74,197\n",
      "카카,48,148\n",
      "사마,65,183\n",
      "파나,67,142\n",
      "나타,51,164\n",
      "마다,53,172\n",
      "마라,44,191\n",
      "타라,92,167\n",
      "가나,48,157\n",
      "하자,83,152\n",
      "자하,78,195\n",
      "바자,72,171\n",
      "다나,74,153\n",
      "타사,70,157\n",
      "바바,52,153\n",
      "타라,47,156\n",
      "아파,51,143\n",
      "카사,44,161\n",
      "바카,49,169\n",
      "라하,47,180\n",
      "타마,78,167\n",
      "아하,58,192\n",
      "사사,51,158\n",
      "아사,53,161\n",
      "아자,99,166\n",
      "자다,84,168\n",
      "타자,75,161\n",
      "자아,90,147\n",
      "아타,44,188\n",
      "마마,96,181\n",
      "바바,90,158\n",
      "타사,41,170\n",
      "사아,96,177\n",
      "자마,86,173\n",
      "타아,91,148\n",
      "사나,50,161\n",
      "다타,72,160\n",
      "나가,76,180\n",
      "타하,45,196\n",
      "아바,56,183\n",
      "나라,70,153\n",
      "타타,81,157\n",
      "다마,93,154\n",
      "나아,97,152\n",
      "가카,78,161\n",
      "라타,62,174\n",
      "자라,97,186\n",
      "파마,62,174\n",
      "카바,58,141\n",
      "다라,48,186\n",
      "라사,82,161\n",
      "사타,69,193\n",
      "카아,40,174\n",
      "마파,63,190\n",
      "하마,59,173\n",
      "나라,95,192\n",
      "타다,47,166\n",
      "파자,75,145\n",
      "자타,76,163\n",
      "타자,67,188\n",
      "아나,86,155\n",
      "라카,90,154\n",
      "카타,62,174\n",
      "파하,62,144\n",
      "다라,40,167\n",
      "바라,67,146\n",
      "나사,97,177\n",
      "타하,50,197\n",
      "카나,77,174\n",
      "하라,97,196\n",
      "아타,82,160\n",
      "사바,75,140\n",
      "라가,86,171\n",
      "라카,84,186\n",
      "카자,97,156\n",
      "하타,87,153\n",
      "나타,80,187\n",
      "다타,83,181\n",
      "가하,70,145\n",
      "라바,42,183\n",
      "아파,86,175\n",
      "사마,79,144\n",
      "다아,57,182\n",
      "나아,92,191\n",
      "나타,42,174\n",
      "하파,68,141\n",
      "가다,53,142\n",
      "파사,51,169\n",
      "파타,40,157\n",
      "나가,57,164\n",
      "자가,49,163\n",
      "사타,87,143\n",
      "다라,72,176\n",
      "타하,44,191\n",
      "가파,79,173\n",
      "자가,76,191\n",
      "자아,98,193\n",
      "나다,88,180\n",
      "가사,48,144\n",
      "파사,76,175\n",
      "자마,41,193\n",
      "사하,97,176\n",
      "라아,67,146\n",
      "바바,40,140\n",
      "사다,63,181\n",
      "사마,80,169\n",
      "자사,86,185\n",
      "파마,42,170\n",
      "사사,56,155\n",
      "가가,55,192\n",
      "가다,49,185\n",
      "사나,89,190\n",
      "바자,61,140\n",
      "타하,72,194\n",
      "사아,85,161\n",
      "자가,89,183\n",
      "타가,40,192\n",
      "타사,69,151\n",
      "나가,71,146\n",
      "바마,79,159\n",
      "하타,74,170\n",
      "바타,67,199\n",
      "파라,40,177\n",
      "라라,44,178\n",
      "가사,68,191\n",
      "하자,93,188\n",
      "아아,51,178\n",
      "마라,96,154\n",
      "타사,63,160\n",
      "마사,79,148\n",
      "다타,73,189\n",
      "타마,72,143\n",
      "나나,71,196\n",
      "바타,43,196\n",
      "자바,54,185\n",
      "나바,44,147\n",
      "파자,45,188\n",
      "카하,91,196\n",
      "사타,91,189\n",
      "아하,97,157\n",
      "파카,92,160\n",
      "하사,93,175\n",
      "카자,79,175\n",
      "파카,57,169\n",
      "다아,47,191\n",
      "하다,89,141\n",
      "바마,61,187\n",
      "아가,84,184\n",
      "바가,80,189\n",
      "다파,49,169\n",
      "바아,70,154\n",
      "파타,60,171\n",
      "나다,95,156\n",
      "마바,82,150\n",
      "가가,42,190\n",
      "나타,65,150\n",
      "타나,75,191\n",
      "나타,88,185\n",
      "아타,92,176\n",
      "타타,86,180\n",
      "바타,53,174\n",
      "다타,97,186\n",
      "바아,75,183\n",
      "바라,81,187\n",
      "가라,47,196\n",
      "카바,45,186\n",
      "나바,41,189\n",
      "라카,55,194\n",
      "바아,89,190\n",
      "다가,72,188\n",
      "타마,44,190\n",
      "하타,58,155\n",
      "하카,64,147\n",
      "자사,43,192\n",
      "아파,50,195\n",
      "바하,85,157\n",
      "카나,94,190\n",
      "카타,41,178\n",
      "사아,87,178\n",
      "타아,49,175\n",
      "하라,88,178\n",
      "아사,91,190\n",
      "바나,99,141\n",
      "가타,98,147\n",
      "타아,92,143\n",
      "타바,91,194\n",
      "바바,80,164\n",
      "라아,44,140\n",
      "가파,44,191\n",
      "마카,91,157\n",
      "아타,46,187\n",
      "파사,62,167\n",
      "마마,99,144\n",
      "마라,47,164\n",
      "자카,84,152\n",
      "하하,48,175\n",
      "가가,93,188\n",
      "타타,83,186\n",
      "아가,85,188\n",
      "다아,51,172\n",
      "아사,45,182\n",
      "다마,96,197\n",
      "타바,50,186\n",
      "가타,71,154\n",
      "바자,66,156\n",
      "바나,98,175\n",
      "마카,81,173\n",
      "마하,72,154\n",
      "다자,84,187\n",
      "타가,76,176\n",
      "라바,72,175\n",
      "바바,77,152\n",
      "자파,80,141\n",
      "카타,92,167\n",
      "타사,87,158\n",
      "아다,63,188\n",
      "나사,98,156\n",
      "가가,73,143\n",
      "가하,94,170\n",
      "마가,53,180\n",
      "바다,43,184\n",
      "다아,70,153\n",
      "아마,54,172\n",
      "다하,77,142\n",
      "아가,81,165\n",
      "다타,71,142\n",
      "카파,83,145\n",
      "사파,94,172\n",
      "파아,60,176\n",
      "자파,47,164\n",
      "나바,92,185\n",
      "마나,60,163\n",
      "가타,74,188\n",
      "마아,47,188\n",
      "나바,97,186\n",
      "자바,69,143\n",
      "아바,73,176\n",
      "가라,90,193\n",
      "바자,62,167\n",
      "타바,90,149\n",
      "가타,56,154\n",
      "자사,77,173\n",
      "바카,40,199\n",
      "자사,60,191\n",
      "아아,58,187\n",
      "타아,84,149\n",
      "타타,48,155\n",
      "나하,87,190\n",
      "마타,79,158\n",
      "나가,72,194\n",
      "라다,55,166\n",
      "라라,53,170\n",
      "하바,67,143\n",
      "타사,54,196\n",
      "타파,99,196\n",
      "나바,40,153\n",
      "자카,52,189\n",
      "나나,66,175\n",
      "카가,51,175\n",
      "나바,87,193\n",
      "타파,75,150\n",
      "나마,76,162\n",
      "라자,75,165\n",
      "자다,73,146\n",
      "가타,95,164\n",
      "타마,70,150\n",
      "파카,59,192\n",
      "사마,47,155\n",
      "아파,54,141\n",
      "아하,94,147\n",
      "타라,64,154\n",
      "자카,68,189\n",
      "나카,85,144\n",
      "타파,90,164\n",
      "타타,61,190\n",
      "카아,75,185\n",
      "나카,56,196\n",
      "바파,96,154\n",
      "하가,75,178\n",
      "가바,54,182\n",
      "파카,93,159\n",
      "가파,74,141\n",
      "타자,59,177\n",
      "바바,55,182\n",
      "가바,93,194\n",
      "하사,93,141\n",
      "카라,73,194\n",
      "가파,56,192\n",
      "다자,68,166\n",
      "바사,48,180\n",
      "타타,74,182\n",
      "다나,97,193\n",
      "사다,42,188\n",
      "카마,79,194\n",
      "바자,41,189\n",
      "파나,42,174\n",
      "타자,83,175\n",
      "하카,77,199\n",
      "자라,41,166\n",
      "나나,99,198\n",
      "라다,43,147\n",
      "하아,90,189\n",
      "파카,82,189\n",
      "다자,42,198\n",
      "바사,67,167\n",
      "사다,70,168\n",
      "사아,80,168\n",
      "바가,63,183\n",
      "아파,70,186\n",
      "자사,74,141\n",
      "아하,79,190\n",
      "마아,57,192\n",
      "자나,62,160\n",
      "타하,63,158\n",
      "카다,53,143\n",
      "카다,73,148\n",
      "나사,86,155\n",
      "카아,98,189\n",
      "카아,66,192\n",
      "타마,53,168\n",
      "타타,56,189\n",
      "파가,90,167\n",
      "아자,91,147\n",
      "바카,85,183\n",
      "사타,42,170\n",
      "마아,56,177\n",
      "타나,53,162\n",
      "파나,94,160\n",
      "카아,91,190\n",
      "타하,77,153\n",
      "타카,83,189\n",
      "카파,77,157\n",
      "자다,55,193\n",
      "마파,93,198\n",
      "다마,73,162\n",
      "나하,53,150\n",
      "바마,79,194\n",
      "바사,68,145\n",
      "하바,94,144\n",
      "파라,53,177\n",
      "가나,49,169\n",
      "자다,87,180\n",
      "자바,76,174\n",
      "마사,48,158\n",
      "하나,68,193\n",
      "라파,83,174\n",
      "자바,79,185\n",
      "바라,61,145\n",
      "사바,54,164\n",
      "카마,93,198\n",
      "카타,68,187\n",
      "아다,77,176\n",
      "라바,85,180\n",
      "타마,76,141\n",
      "다라,82,142\n",
      "다다,75,187\n",
      "파가,66,197\n",
      "가타,94,144\n",
      "타사,73,191\n",
      "하아,43,146\n",
      "사나,55,154\n",
      "자마,61,173\n",
      "사카,79,162\n",
      "가하,81,185\n",
      "카카,92,160\n",
      "자나,75,197\n",
      "카마,53,169\n",
      "아타,75,191\n",
      "타파,97,156\n",
      "마나,67,194\n",
      "나아,67,167\n",
      "파마,79,169\n",
      "사바,89,180\n",
      "라카,62,194\n",
      "나다,81,181\n",
      "라나,63,165\n",
      "아카,96,168\n",
      "다바,72,156\n",
      "타다,89,176\n",
      "라바,54,161\n",
      "다아,82,177\n",
      "바라,63,195\n",
      "파카,55,154\n",
      "파카,53,182\n",
      "카카,99,162\n",
      "사아,43,148\n",
      "카아,57,194\n",
      "파가,52,141\n",
      "마파,45,163\n",
      "하사,51,160\n",
      "다아,58,141\n",
      "타카,94,178\n",
      "바자,84,140\n",
      "타타,58,159\n",
      "마바,60,151\n",
      "아바,97,161\n",
      "라바,92,192\n",
      "카자,69,195\n",
      "나자,62,170\n",
      "나마,61,195\n",
      "아하,76,154\n",
      "아카,76,195\n",
      "아다,53,148\n",
      "자하,77,186\n",
      "파카,53,174\n",
      "파타,82,180\n",
      "아마,52,183\n",
      "타다,68,148\n",
      "카가,82,158\n",
      "자다,99,164\n",
      "파아,58,141\n",
      "다사,88,164\n",
      "카자,86,152\n",
      "타카,98,191\n",
      "하자,77,189\n",
      "타하,55,143\n",
      "자가,41,181\n",
      "카자,54,165\n",
      "카사,95,146\n",
      "나카,76,173\n",
      "사타,97,152\n",
      "파자,77,148\n",
      "나하,61,189\n",
      "타마,93,144\n",
      "아가,68,176\n",
      "마자,97,171\n",
      "\n"
     ]
    }
   ],
   "source": [
    "with open(\"info.txt\",'r') as f:\n",
    "    data = f.read()\n",
    "    print(data)"
   ]
  },
  {
   "cell_type": "code",
   "execution_count": null,
   "metadata": {},
   "outputs": [],
   "source": [
    "[과제]\n",
    "# Q. 1000명에 대하여 아래와 같이 출력하세요\n",
    "이름 :라바\n",
    "몸무게: 80\n",
    "키: 146\n",
    "BMI: 37.53049352598987\n",
    "결과: 과체중\n",
    "    \n",
    "[bmi 산출]    \n",
    "bmi = int(weight) / ((int(height) / 100) ** 2)\n",
    "과체중 > 25 정상 체중 >18.5 > 저체중"
   ]
  },
  {
   "cell_type": "code",
   "execution_count": 59,
   "metadata": {},
   "outputs": [
    {
     "data": {
      "text/html": [
       "<div>\n",
       "<style scoped>\n",
       "    .dataframe tbody tr th:only-of-type {\n",
       "        vertical-align: middle;\n",
       "    }\n",
       "\n",
       "    .dataframe tbody tr th {\n",
       "        vertical-align: top;\n",
       "    }\n",
       "\n",
       "    .dataframe thead th {\n",
       "        text-align: right;\n",
       "    }\n",
       "</style>\n",
       "<table border=\"1\" class=\"dataframe\">\n",
       "  <thead>\n",
       "    <tr style=\"text-align: right;\">\n",
       "      <th></th>\n",
       "      <th>name</th>\n",
       "      <th>weight</th>\n",
       "      <th>height</th>\n",
       "    </tr>\n",
       "  </thead>\n",
       "  <tbody>\n",
       "    <tr>\n",
       "      <th>995</th>\n",
       "      <td>파자</td>\n",
       "      <td>77</td>\n",
       "      <td>148</td>\n",
       "    </tr>\n",
       "    <tr>\n",
       "      <th>996</th>\n",
       "      <td>나하</td>\n",
       "      <td>61</td>\n",
       "      <td>189</td>\n",
       "    </tr>\n",
       "    <tr>\n",
       "      <th>997</th>\n",
       "      <td>타마</td>\n",
       "      <td>93</td>\n",
       "      <td>144</td>\n",
       "    </tr>\n",
       "    <tr>\n",
       "      <th>998</th>\n",
       "      <td>아가</td>\n",
       "      <td>68</td>\n",
       "      <td>176</td>\n",
       "    </tr>\n",
       "    <tr>\n",
       "      <th>999</th>\n",
       "      <td>마자</td>\n",
       "      <td>97</td>\n",
       "      <td>171</td>\n",
       "    </tr>\n",
       "  </tbody>\n",
       "</table>\n",
       "</div>"
      ],
      "text/plain": [
       "    name  weight  height\n",
       "995   파자      77     148\n",
       "996   나하      61     189\n",
       "997   타마      93     144\n",
       "998   아가      68     176\n",
       "999   마자      97     171"
      ]
     },
     "execution_count": 59,
     "metadata": {},
     "output_type": "execute_result"
    }
   ],
   "source": [
    "import pandas as pd\n",
    "data = pd.read_csv('./info.txt',sep=',',encoding='CP949',\n",
    "                   names = ['name','weight','height'])\n",
    "data.tail()"
   ]
  },
  {
   "cell_type": "code",
   "execution_count": 61,
   "metadata": {},
   "outputs": [
    {
     "data": {
      "text/plain": [
       "153"
      ]
     },
     "execution_count": 61,
     "metadata": {},
     "output_type": "execute_result"
    }
   ],
   "source": [
    "d90 = data[data.weight > 90]\n",
    "len(d90)"
   ]
  }
 ],
 "metadata": {
  "kernelspec": {
   "display_name": "Python 3",
   "language": "python",
   "name": "python3"
  },
  "language_info": {
   "codemirror_mode": {
    "name": "ipython",
    "version": 3
   },
   "file_extension": ".py",
   "mimetype": "text/x-python",
   "name": "python",
   "nbconvert_exporter": "python",
   "pygments_lexer": "ipython3",
   "version": "3.7.9"
  }
 },
 "nbformat": 4,
 "nbformat_minor": 4
}
