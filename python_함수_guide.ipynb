{
 "cells": [
  {
   "cell_type": "code",
   "execution_count": 1,
   "metadata": {},
   "outputs": [
    {
     "data": {
      "text/plain": [
       "'Hi'"
      ]
     },
     "execution_count": 1,
     "metadata": {},
     "output_type": "execute_result"
    }
   ],
   "source": [
    "# 함수\n",
    "# 입력값이 없고 결과값만 있는 함수\n",
    "def say():\n",
    "    return 'Hi'\n",
    "a = say()\n",
    "a"
   ]
  },
  {
   "cell_type": "code",
   "execution_count": 2,
   "metadata": {},
   "outputs": [
    {
     "name": "stdout",
     "output_type": "stream",
     "text": [
      "3, 4의 합은 7입니다.\n"
     ]
    }
   ],
   "source": [
    "# 결과값(return 값) 없는 함수\n",
    "def add(a,b):\n",
    "    print('%d, %d의 합은 %d입니다.' %(a,b,a+b))\n",
    "\n",
    "add(3,4)"
   ]
  },
  {
   "cell_type": "code",
   "execution_count": 3,
   "metadata": {},
   "outputs": [
    {
     "name": "stdout",
     "output_type": "stream",
     "text": [
      "Hi\n"
     ]
    }
   ],
   "source": [
    "# 입력값도 결과값도 없는 함수\n",
    "def say():\n",
    "    print('Hi')\n",
    "say()"
   ]
  },
  {
   "cell_type": "code",
   "execution_count": 4,
   "metadata": {},
   "outputs": [
    {
     "data": {
      "text/plain": [
       "7"
      ]
     },
     "execution_count": 4,
     "metadata": {},
     "output_type": "execute_result"
    }
   ],
   "source": [
    "# 입출력 모두 있는 경우\n",
    "def add(a,b):\n",
    "    return a + b\n",
    "add(3,4)"
   ]
  },
  {
   "cell_type": "code",
   "execution_count": 6,
   "metadata": {},
   "outputs": [
    {
     "data": {
      "text/plain": [
       "15"
      ]
     },
     "execution_count": 6,
     "metadata": {},
     "output_type": "execute_result"
    }
   ],
   "source": [
    "# 여러 개의 입력값을 받는 함수\n",
    "# *args\n",
    "def add_many(*args):\n",
    "    add = 0\n",
    "    for i in args:\n",
    "        add += i\n",
    "    return add\n",
    "add_many(1,2,3,4,5)"
   ]
  },
  {
   "cell_type": "code",
   "execution_count": 10,
   "metadata": {},
   "outputs": [
    {
     "data": {
      "text/plain": [
       "(7, 12)"
      ]
     },
     "execution_count": 10,
     "metadata": {},
     "output_type": "execute_result"
    }
   ],
   "source": [
    "# 함수의 반환(결과값)은 언제나 하나임 - 결과값으로 튜플 값 하나를 갖게 됨\n",
    "def add_and_mul(a,b):\n",
    "    return a+b, a*b\n",
    "result = add_and_mul(3,4)\n",
    "result"
   ]
  },
  {
   "cell_type": "code",
   "execution_count": 11,
   "metadata": {},
   "outputs": [
    {
     "name": "stdout",
     "output_type": "stream",
     "text": [
      "7\n",
      "12\n"
     ]
    }
   ],
   "source": [
    "# 하나의 튜플값을 2개의 결과값처럼 받는 방법\n",
    "result1, result2 = add_and_mul(3,4)\n",
    "print(result1)\n",
    "print(result2)"
   ]
  },
  {
   "cell_type": "code",
   "execution_count": 12,
   "metadata": {},
   "outputs": [
    {
     "name": "stdout",
     "output_type": "stream",
     "text": [
      "7\n"
     ]
    }
   ],
   "source": [
    "# 함수는 return문을 만나는 순간 결과값을 돌려준 다음 함수를 빠져나감\n",
    "def add_and_mul(a,b):\n",
    "    return a+b\n",
    "    return a*b\n",
    "result = add_and_mul(3,4)\n",
    "print(result)"
   ]
  },
  {
   "cell_type": "code",
   "execution_count": 8,
   "metadata": {},
   "outputs": [
    {
     "name": "stdout",
     "output_type": "stream",
     "text": [
      "15\n",
      "120\n"
     ]
    }
   ],
   "source": [
    "# Q. add_mul() 함수를 정의하여 1,2,3,4,5를 입력값으로 적용하여 덧셈, 곱셈 연산을 수행\n",
    "def add_mul(choice, *args):\n",
    "    if choice == 'add':\n",
    "        result = 0\n",
    "        for i in args:\n",
    "            result += i\n",
    "    elif choice == 'mul':\n",
    "        result = 1\n",
    "        for i in args:\n",
    "            result *= i\n",
    "    return result\n",
    "\n",
    "print(add_mul('add',1,2,3,4,5))\n",
    "print(add_mul('mul',1,2,3,4,5))"
   ]
  },
  {
   "cell_type": "code",
   "execution_count": 9,
   "metadata": {},
   "outputs": [
    {
     "name": "stdout",
     "output_type": "stream",
     "text": [
      "70\n",
      "0.026041666666666668\n"
     ]
    }
   ],
   "source": [
    "# Q. sub_div() 함수를 정의하여 1,2,3,4,5를 입력값으로 적용하여 뻴셈, 나눗셈 연산을 수행\n",
    "\n",
    "# A.\n",
    "def sub_div(choice, *args):\n",
    "    if choice == 'sub':\n",
    "        result = 100\n",
    "        for i in args:\n",
    "            result -= i\n",
    "    elif choice == 'div':\n",
    "        result = 100\n",
    "        for i in args:\n",
    "            result /= i\n",
    "    return result\n",
    "print(sub_div('sub', 2,4,6,8,10))\n",
    "print(sub_div('div', 2,4,6,8,10))"
   ]
  },
  {
   "cell_type": "code",
   "execution_count": 14,
   "metadata": {},
   "outputs": [
    {
     "name": "stdout",
     "output_type": "stream",
     "text": [
      "나의 별명은 야호입니다\n"
     ]
    },
    {
     "data": {
      "text/plain": [
       "'아니야!'"
      ]
     },
     "execution_count": 14,
     "metadata": {},
     "output_type": "execute_result"
    }
   ],
   "source": [
    "# 문자열을 출력한다는 것과 리턴값이 있다는 것은 전혀 다른 것임\n",
    "def say_nick(nick):\n",
    "    if nick == '바보':\n",
    "        return '아니야!'\n",
    "    print('나의 별명은 %s입니다' % nick)\n",
    "say_nick('야호')\n",
    "say_nick('바보')"
   ]
  },
  {
   "cell_type": "code",
   "execution_count": 15,
   "metadata": {},
   "outputs": [
    {
     "name": "stdout",
     "output_type": "stream",
     "text": [
      "나의 이름은 홍길동입니다.\n",
      "나이는 20살입니다.\n",
      "여자입니다.\n"
     ]
    }
   ],
   "source": [
    "# 입력 인수에 초기값 미리 설정하기\n",
    "def say_myself(name, old, man=True):\n",
    "    print('나의 이름은 %s입니다.' % name)\n",
    "    print('나이는 %d살입니다.' % old)\n",
    "    if man:\n",
    "        print('남자입니다.')\n",
    "    else:\n",
    "        print('여자입니다.')\n",
    "        \n",
    "say_myself('홍길동', 20, False)"
   ]
  },
  {
   "cell_type": "code",
   "execution_count": 16,
   "metadata": {},
   "outputs": [
    {
     "ename": "SyntaxError",
     "evalue": "non-default argument follows default argument (<ipython-input-16-e5a836b79d31>, line 2)",
     "output_type": "error",
     "traceback": [
      "\u001b[1;36m  File \u001b[1;32m\"<ipython-input-16-e5a836b79d31>\"\u001b[1;36m, line \u001b[1;32m2\u001b[0m\n\u001b[1;33m    def say_myself(name, man=True, old):\u001b[0m\n\u001b[1;37m                  ^\u001b[0m\n\u001b[1;31mSyntaxError\u001b[0m\u001b[1;31m:\u001b[0m non-default argument follows default argument\n"
     ]
    }
   ],
   "source": [
    "# 초기값을 설정해 놓은 인수 뒤에 초기값을 설정해놓지 않은 입력인수는 사용 불가\n",
    "def say_myself(name, man=True, old):\n",
    "    print('나의 이름은 %s입니다.' % name)\n",
    "    print('나이는 %d살입니다.' % old)\n",
    "    if man:\n",
    "        print('남자입니다.')\n",
    "    else:\n",
    "        print('여자입니다.')\n",
    "        \n",
    "say_myself('홍길동', 20)"
   ]
  },
  {
   "cell_type": "code",
   "execution_count": 20,
   "metadata": {},
   "outputs": [
    {
     "name": "stdout",
     "output_type": "stream",
     "text": [
      "4\n",
      "1\n"
     ]
    }
   ],
   "source": [
    "# 함수 안에서 함수 밖의 변수를 사용하는 방법\n",
    "# return을 사용하는 방법\n",
    "a = 1\n",
    "def vartest(a):\n",
    "    a = a + 1\n",
    "#     return a\n",
    "print(vartest(3))\n",
    "print(a)"
   ]
  },
  {
   "cell_type": "code",
   "execution_count": 23,
   "metadata": {},
   "outputs": [
    {
     "data": {
      "text/plain": [
       "2"
      ]
     },
     "execution_count": 23,
     "metadata": {},
     "output_type": "execute_result"
    }
   ],
   "source": [
    "# 글로벌 변수를 사용하는 방법\n",
    "a = 1\n",
    "def vartest():\n",
    "    global a\n",
    "    a = a + 1\n",
    "\n",
    "vartest()\n",
    "a"
   ]
  },
  {
   "cell_type": "code",
   "execution_count": 24,
   "metadata": {},
   "outputs": [
    {
     "name": "stdout",
     "output_type": "stream",
     "text": [
      "\n"
     ]
    }
   ],
   "source": [
    "while 1:\n",
    "    data = input()\n",
    "    if not data: break\n",
    "    print(data)"
   ]
  },
  {
   "cell_type": "code",
   "execution_count": 27,
   "metadata": {},
   "outputs": [
    {
     "data": {
      "text/plain": [
       "'C:\\\\Caba2012\\\\workspace\\\\Caba_python'"
      ]
     },
     "execution_count": 27,
     "metadata": {},
     "output_type": "execute_result"
    }
   ],
   "source": [
    "# 파일 읽고 쓰기\n",
    "%pwd"
   ]
  },
  {
   "cell_type": "code",
   "execution_count": 28,
   "metadata": {},
   "outputs": [],
   "source": [
    "f = open('test1.txt', 'w')\n",
    "f.close()"
   ]
  },
  {
   "cell_type": "code",
   "execution_count": 29,
   "metadata": {},
   "outputs": [],
   "source": [
    "f = open('test1.txt','w')\n",
    "for i in range(1,11):\n",
    "    data = '%d번째 줄입니다.\\n'% i\n",
    "    f.write(data)\n",
    "f.close()"
   ]
  },
  {
   "cell_type": "code",
   "execution_count": 30,
   "metadata": {},
   "outputs": [
    {
     "name": "stdout",
     "output_type": "stream",
     "text": [
      "1번째 줄입니다.\n",
      "\n"
     ]
    }
   ],
   "source": [
    "f = open('test1.txt','r')\n",
    "line = f.readline()\n",
    "print(line)\n",
    "f.close()"
   ]
  },
  {
   "cell_type": "code",
   "execution_count": 32,
   "metadata": {},
   "outputs": [
    {
     "name": "stdout",
     "output_type": "stream",
     "text": [
      "1번째 줄입니다.\n",
      "\n",
      "2번째 줄입니다.\n",
      "\n",
      "3번째 줄입니다.\n",
      "\n",
      "4번째 줄입니다.\n",
      "\n",
      "5번째 줄입니다.\n",
      "\n",
      "6번째 줄입니다.\n",
      "\n",
      "7번째 줄입니다.\n",
      "\n",
      "8번째 줄입니다.\n",
      "\n",
      "9번째 줄입니다.\n",
      "\n",
      "10번째 줄입니다.\n",
      "\n"
     ]
    }
   ],
   "source": [
    "f = open('test1.txt','r')\n",
    "while True:\n",
    "    line = f.readline()\n",
    "    if not line:break\n",
    "    print(line)\n",
    "f.close()"
   ]
  },
  {
   "cell_type": "code",
   "execution_count": 33,
   "metadata": {},
   "outputs": [
    {
     "name": "stdout",
     "output_type": "stream",
     "text": [
      "1번째 줄입니다.\n",
      "\n",
      "2번째 줄입니다.\n",
      "\n",
      "3번째 줄입니다.\n",
      "\n",
      "4번째 줄입니다.\n",
      "\n",
      "5번째 줄입니다.\n",
      "\n",
      "6번째 줄입니다.\n",
      "\n",
      "7번째 줄입니다.\n",
      "\n",
      "8번째 줄입니다.\n",
      "\n",
      "9번째 줄입니다.\n",
      "\n",
      "10번째 줄입니다.\n",
      "\n"
     ]
    }
   ],
   "source": [
    "f = open('test1.txt','r')\n",
    "lines = f.readlines()\n",
    "for line in lines:\n",
    "    print(line)\n",
    "f.close()"
   ]
  },
  {
   "cell_type": "code",
   "execution_count": 34,
   "metadata": {},
   "outputs": [
    {
     "name": "stdout",
     "output_type": "stream",
     "text": [
      "1번째 줄입니다.\n",
      "2번째 줄입니다.\n",
      "3번째 줄입니다.\n",
      "4번째 줄입니다.\n",
      "5번째 줄입니다.\n",
      "6번째 줄입니다.\n",
      "7번째 줄입니다.\n",
      "8번째 줄입니다.\n",
      "9번째 줄입니다.\n",
      "10번째 줄입니다.\n",
      "\n"
     ]
    }
   ],
   "source": [
    "f = open('test1.txt','r')\n",
    "data = f.read()\n",
    "print(data)\n",
    "f.close()"
   ]
  },
  {
   "cell_type": "code",
   "execution_count": 35,
   "metadata": {},
   "outputs": [],
   "source": [
    "f = open('test1.txt','a')\n",
    "for i in range(11,16):\n",
    "    data = '%d번째 줄입니다.\\n'% i\n",
    "    f.write(data)\n",
    "f.close()"
   ]
  },
  {
   "cell_type": "code",
   "execution_count": 36,
   "metadata": {},
   "outputs": [
    {
     "name": "stdout",
     "output_type": "stream",
     "text": [
      "1번째 줄입니다.\n",
      "2번째 줄입니다.\n",
      "3번째 줄입니다.\n",
      "4번째 줄입니다.\n",
      "5번째 줄입니다.\n",
      "6번째 줄입니다.\n",
      "7번째 줄입니다.\n",
      "8번째 줄입니다.\n",
      "9번째 줄입니다.\n",
      "10번째 줄입니다.\n",
      "11번째 줄입니다.\n",
      "12번째 줄입니다.\n",
      "13번째 줄입니다.\n",
      "14번째 줄입니다.\n",
      "15번째 줄입니다.\n",
      "\n"
     ]
    }
   ],
   "source": [
    "f = open('test1.txt','r')\n",
    "data = f.read()\n",
    "print(data)\n",
    "f.close()"
   ]
  },
  {
   "cell_type": "code",
   "execution_count": 37,
   "metadata": {},
   "outputs": [],
   "source": [
    "# with문과 같이 사용\n",
    "with open('foo.txt','w') as f:\n",
    "    f.write('파이썬은 재미있습니다.')"
   ]
  },
  {
   "cell_type": "code",
   "execution_count": 38,
   "metadata": {},
   "outputs": [
    {
     "name": "stdout",
     "output_type": "stream",
     "text": [
      "파이썬은 재미있습니다.\n"
     ]
    }
   ],
   "source": [
    "# with문을 사용하면 with block을 벗어나는 순간 객체 f가 자동으로 close 됨\n",
    "with open('foo.txt','r') as f:\n",
    "    data = f.read()\n",
    "    print(data)"
   ]
  },
  {
   "cell_type": "markdown",
   "metadata": {},
   "source": [
    "파이썬 if __name__ == \"__main__\" 의미\n",
    "\n",
    "- 메인 함수의 선언, 시작을 의미합니다. 해당 코드 밑에 main 등의 함수 호출 코드를 작성해서 함수의 기능을 수행\n",
    "- 직접 mod.py 파일을 실행하는 경우에는 __name___ 변수에 __main__ 이라는 값이 할당되고 이 조건절이 참이 되어 if문 다음 문장들이 수행\n",
    "- 모듈을 불러와서 사용하는 경우 __name__ 변수에는 모듈 이름이 저장되고 이 조건절이 거짓이 되어 if문 다음 문장들이 수행되지 않음\n",
    "- if __name__ == \"__main__\"와 같이 조건문을 사용하여 터미널에서와 같이 직접 호출되어 사용될 때는 그 자체로 기능을 수행하고, 동시에 다른 모듈에서 필요한 함수 등을 제공"
   ]
  },
  {
   "cell_type": "code",
   "execution_count": 39,
   "metadata": {},
   "outputs": [],
   "source": [
    "# 모듈 mod1 만들기\n",
    "with open('mod1.py','w') as f:\n",
    "    f.write('''\n",
    "def add(x,y):\n",
    "    return x + y\n",
    "print(add(3,4))\n",
    "''')"
   ]
  },
  {
   "cell_type": "code",
   "execution_count": 40,
   "metadata": {},
   "outputs": [
    {
     "name": "stdout",
     "output_type": "stream",
     "text": [
      "\n",
      "def add(x,y):\n",
      "    return x + y\n",
      "print(add(3,4))\n",
      "\n"
     ]
    }
   ],
   "source": [
    "with open('mod1.py','r') as f:\n",
    "    data = f.read()\n",
    "    print(data)"
   ]
  },
  {
   "cell_type": "code",
   "execution_count": 41,
   "metadata": {},
   "outputs": [
    {
     "name": "stdout",
     "output_type": "stream",
     "text": [
      "7\n"
     ]
    }
   ],
   "source": [
    "!python mod1.py"
   ]
  },
  {
   "cell_type": "code",
   "execution_count": 42,
   "metadata": {},
   "outputs": [
    {
     "name": "stdout",
     "output_type": "stream",
     "text": [
      "7\n"
     ]
    }
   ],
   "source": [
    "import mod1"
   ]
  },
  {
   "cell_type": "code",
   "execution_count": 43,
   "metadata": {},
   "outputs": [],
   "source": [
    "# 모듈 mod2 만들기\n",
    "with open('mod2.py','w') as f:\n",
    "    f.write('''\n",
    "def add(x,y):\n",
    "    return x + y\n",
    "if __name__==\"__main__\":\n",
    "    print(add(3,4))\n",
    "''')"
   ]
  },
  {
   "cell_type": "code",
   "execution_count": 44,
   "metadata": {},
   "outputs": [
    {
     "name": "stdout",
     "output_type": "stream",
     "text": [
      "\n",
      "def add(x,y):\n",
      "    return x + y\n",
      "if __name__==\"__main__\":\n",
      "    print(add(3,4))\n",
      "\n"
     ]
    }
   ],
   "source": [
    "with open('mod2.py','r') as f:\n",
    "    data = f.read()\n",
    "    print(data)"
   ]
  },
  {
   "cell_type": "code",
   "execution_count": 45,
   "metadata": {},
   "outputs": [
    {
     "name": "stdout",
     "output_type": "stream",
     "text": [
      "7\n"
     ]
    }
   ],
   "source": [
    "!python mod2.py"
   ]
  },
  {
   "cell_type": "code",
   "execution_count": 46,
   "metadata": {},
   "outputs": [],
   "source": [
    "import mod2"
   ]
  },
  {
   "cell_type": "code",
   "execution_count": 47,
   "metadata": {},
   "outputs": [
    {
     "data": {
      "text/plain": [
       "5"
      ]
     },
     "execution_count": 47,
     "metadata": {},
     "output_type": "execute_result"
    }
   ],
   "source": [
    "mod2.add(2,3)"
   ]
  },
  {
   "cell_type": "code",
   "execution_count": 48,
   "metadata": {},
   "outputs": [
    {
     "name": "stdout",
     "output_type": "stream",
     "text": [
      "3\n",
      "False\n",
      "True\n",
      "a\n"
     ]
    }
   ],
   "source": [
    "# 내장함수 : 외부 모듈과 달리 import가 필요없으므로 아무런 설정없이 바로 사용\n",
    "print(abs(-3))\n",
    "print(all([1,2,3,0])) # x가 모두 참이면 True, 거짓이 하나라도 있으면 False\n",
    "print(any([1,2,3,0])) # x중 하나라도 참이 있을 경우 True, 모두 거짓인 경우 False\n",
    "print(chr(97))"
   ]
  },
  {
   "cell_type": "code",
   "execution_count": 49,
   "metadata": {},
   "outputs": [
    {
     "name": "stdout",
     "output_type": "stream",
     "text": [
      "['__add__', '__class__', '__contains__', '__delattr__', '__delitem__', '__dir__', '__doc__', '__eq__', '__format__', '__ge__', '__getattribute__', '__getitem__', '__gt__', '__hash__', '__iadd__', '__imul__', '__init__', '__init_subclass__', '__iter__', '__le__', '__len__', '__lt__', '__mul__', '__ne__', '__new__', '__reduce__', '__reduce_ex__', '__repr__', '__reversed__', '__rmul__', '__setattr__', '__setitem__', '__sizeof__', '__str__', '__subclasshook__', 'append', 'clear', 'copy', 'count', 'extend', 'index', 'insert', 'pop', 'remove', 'reverse', 'sort']\n"
     ]
    }
   ],
   "source": [
    "# dir 함수 : 객체가 자체적으로 가지고 있는 변수, 함수\n",
    "print(dir([1,2,3])) "
   ]
  },
  {
   "cell_type": "code",
   "execution_count": 50,
   "metadata": {},
   "outputs": [
    {
     "name": "stdout",
     "output_type": "stream",
     "text": [
      "(2, 1)\n"
     ]
    }
   ],
   "source": [
    "# divmod 함수 : 몫과 나머지를 튜플 형태로 반환\n",
    "print(divmod(7,3))"
   ]
  },
  {
   "cell_type": "code",
   "execution_count": 51,
   "metadata": {},
   "outputs": [
    {
     "name": "stdout",
     "output_type": "stream",
     "text": [
      "3\n"
     ]
    }
   ],
   "source": [
    "# eval 함수 : 실행 가능한 문자열을 입력으로 받아 실행한 결과를 반환\n",
    "print(eval('1+2'))"
   ]
  },
  {
   "cell_type": "code",
   "execution_count": 52,
   "metadata": {},
   "outputs": [
    {
     "name": "stdout",
     "output_type": "stream",
     "text": [
      "[1, 2, 6]\n"
     ]
    }
   ],
   "source": [
    "# filter 함수 : 첫번째 인수로 함수이름을 두버째 인수로 그 함수에 적용하는 \n",
    "# 반복 가능한 자료형을 받고 리턴값이 참인 것만 묶어서 반환\n",
    "def positive(x):\n",
    "    return x>0\n",
    "print(list(filter(positive,[1,-3,2,0,-5,6])))\n"
   ]
  },
  {
   "cell_type": "code",
   "execution_count": 53,
   "metadata": {},
   "outputs": [
    {
     "name": "stdout",
     "output_type": "stream",
     "text": [
      "[True, False, True, False, False, True]\n"
     ]
    }
   ],
   "source": [
    "# map(f, iterable)은 입력 받은 자료형의 각 요소가 f에 의해 수행된 결과를 묶어서 반환\n",
    "def positive(x):\n",
    "    return x>0\n",
    "print(list(map(positive,[1,-3,2,0,-5,6])))"
   ]
  },
  {
   "cell_type": "code",
   "execution_count": 56,
   "metadata": {},
   "outputs": [
    {
     "name": "stdout",
     "output_type": "stream",
     "text": [
      "[2, 4, 6, 8]\n",
      "[2, 4, 6, 8]\n"
     ]
    }
   ],
   "source": [
    "def two_times(x): return x*2\n",
    "print(list(map(two_times, [1,2,3,4])))\n",
    "\n",
    "print(list(map(lambda a:a*2,[1,2,3,4])))"
   ]
  },
  {
   "cell_type": "code",
   "execution_count": 58,
   "metadata": {},
   "outputs": [
    {
     "data": {
      "text/plain": [
       "7"
      ]
     },
     "execution_count": 58,
     "metadata": {},
     "output_type": "execute_result"
    }
   ],
   "source": [
    "# 람다는 def보다 간결하게 사용할 수 있음\n",
    "sum = lambda a,b:a+b\n",
    "sum(3,4)"
   ]
  },
  {
   "cell_type": "code",
   "execution_count": 59,
   "metadata": {},
   "outputs": [
    {
     "name": "stdout",
     "output_type": "stream",
     "text": [
      "7\n",
      "12\n"
     ]
    }
   ],
   "source": [
    "myList = [lambda a,b:a+b, lambda a,b:a*b]\n",
    "print(myList[0](3,4))\n",
    "print(myList[1](3,4))"
   ]
  },
  {
   "cell_type": "code",
   "execution_count": 57,
   "metadata": {},
   "outputs": [
    {
     "data": {
      "text/plain": [
       "True"
      ]
     },
     "execution_count": 57,
     "metadata": {},
     "output_type": "execute_result"
    }
   ],
   "source": [
    "# isinstance(object, class) : 입력으로 받은 인스턴스가 그 클래스의 인스턴스 인지 판단\n",
    "class Person: pass\n",
    "a = Person()\n",
    "isinstance(a, Person)"
   ]
  },
  {
   "cell_type": "code",
   "execution_count": 60,
   "metadata": {},
   "outputs": [
    {
     "name": "stdout",
     "output_type": "stream",
     "text": [
      "3\n",
      "y\n",
      "1\n",
      "h\n"
     ]
    }
   ],
   "source": [
    "print(max([1,2,3]))\n",
    "print(max('python'))\n",
    "print(min([1,2,3]))\n",
    "print(min('python'))"
   ]
  },
  {
   "cell_type": "code",
   "execution_count": 61,
   "metadata": {},
   "outputs": [
    {
     "data": {
      "text/plain": [
       "16"
      ]
     },
     "execution_count": 61,
     "metadata": {},
     "output_type": "execute_result"
    }
   ],
   "source": [
    "# pow 함수\n",
    "pow(2,4)"
   ]
  },
  {
   "cell_type": "code",
   "execution_count": 62,
   "metadata": {},
   "outputs": [
    {
     "data": {
      "text/plain": [
       "['C:\\\\Caba2012\\\\workspace\\\\Caba_python',\n",
       " 'C:\\\\Users\\\\admin\\\\anaconda3\\\\envs\\\\caba\\\\python37.zip',\n",
       " 'C:\\\\Users\\\\admin\\\\anaconda3\\\\envs\\\\caba\\\\DLLs',\n",
       " 'C:\\\\Users\\\\admin\\\\anaconda3\\\\envs\\\\caba\\\\lib',\n",
       " 'C:\\\\Users\\\\admin\\\\anaconda3\\\\envs\\\\caba',\n",
       " '',\n",
       " 'C:\\\\Users\\\\admin\\\\anaconda3\\\\envs\\\\caba\\\\lib\\\\site-packages',\n",
       " 'C:\\\\Users\\\\admin\\\\anaconda3\\\\envs\\\\caba\\\\lib\\\\site-packages\\\\win32',\n",
       " 'C:\\\\Users\\\\admin\\\\anaconda3\\\\envs\\\\caba\\\\lib\\\\site-packages\\\\win32\\\\lib',\n",
       " 'C:\\\\Users\\\\admin\\\\anaconda3\\\\envs\\\\caba\\\\lib\\\\site-packages\\\\Pythonwin',\n",
       " 'C:\\\\Users\\\\admin\\\\anaconda3\\\\envs\\\\caba\\\\lib\\\\site-packages\\\\IPython\\\\extensions',\n",
       " 'C:\\\\Users\\\\admin\\\\.ipython']"
      ]
     },
     "execution_count": 62,
     "metadata": {},
     "output_type": "execute_result"
    }
   ],
   "source": [
    "# 외장함수 : 파이썬 사용자들이 만든 유용한 프로그램을 모아놓은 라이브러리\n",
    "# sys.path 위치에 있는 파이썬 모듈은 경로에 상관없이 어디에서나 불러올 수 있음\n",
    "import sys\n",
    "sys.path"
   ]
  },
  {
   "cell_type": "code",
   "execution_count": 63,
   "metadata": {},
   "outputs": [],
   "source": [
    "# pickle은 객체의 형태를 유지하면서 파일에 저장하고 불러올 수 있게 하는 모듈\n",
    "import pickle\n",
    "f = open('test.txt','wb')\n",
    "data = {1:'python',2:'you need'}\n",
    "pickle.dump(data,f)\n",
    "f.close()"
   ]
  },
  {
   "cell_type": "code",
   "execution_count": 65,
   "metadata": {},
   "outputs": [
    {
     "name": "stdout",
     "output_type": "stream",
     "text": [
      "{1: 'python', 2: 'you need'}\n"
     ]
    }
   ],
   "source": [
    "import pickle\n",
    "f = open('test.txt','rb')\n",
    "data = pickle.load(f)\n",
    "print(data)\n",
    "f.close()"
   ]
  },
  {
   "cell_type": "code",
   "execution_count": 66,
   "metadata": {},
   "outputs": [
    {
     "data": {
      "text/plain": [
       "'C:\\\\Caba2012\\\\workspace\\\\Caba_python'"
      ]
     },
     "execution_count": 66,
     "metadata": {},
     "output_type": "execute_result"
    }
   ],
   "source": [
    "import os\n",
    "os.getcwd()"
   ]
  },
  {
   "cell_type": "code",
   "execution_count": 68,
   "metadata": {},
   "outputs": [
    {
     "data": {
      "text/plain": [
       "'C:\\\\Caba2012\\\\workspace\\\\Caba_python'"
      ]
     },
     "execution_count": 68,
     "metadata": {},
     "output_type": "execute_result"
    }
   ],
   "source": [
    "os.chdir('C:\\\\Caba2012\\\\workspace\\\\Caba_python')\n",
    "os.getcwd()"
   ]
  },
  {
   "cell_type": "code",
   "execution_count": 69,
   "metadata": {},
   "outputs": [],
   "source": [
    "# os.mkdir(디렉토리) 디렉토리 생성, os.rmdir(디렉토리) 디렉토리 삭제, \n",
    "# os.unlink(파일 이름) 파일 지우기\n",
    "# os.rename(src, dst) src라는 이름의 파일을 dst라는 이름으로 바꾸기\n",
    "os.rename('test.txt','ex1.txt')"
   ]
  },
  {
   "cell_type": "code",
   "execution_count": 70,
   "metadata": {},
   "outputs": [
    {
     "data": {
      "text/plain": [
       "['C:\\\\Caba2012\\\\workspace\\\\Caba_python\\\\Jupyter_LaTeX.ipynb',\n",
       " 'C:\\\\Caba2012\\\\workspace\\\\Caba_python\\\\Jupyter_usage1.ipynb',\n",
       " 'C:\\\\Caba2012\\\\workspace\\\\Caba_python\\\\Jupyter_usage2.ipynb',\n",
       " 'C:\\\\Caba2012\\\\workspace\\\\Caba_python\\\\Jupyter_usage_guide.ipynb',\n",
       " 'C:\\\\Caba2012\\\\workspace\\\\Caba_python\\\\Python_basic.ipynb',\n",
       " 'C:\\\\Caba2012\\\\workspace\\\\Caba_python\\\\Python_basic_guide.ipynb',\n",
       " 'C:\\\\Caba2012\\\\workspace\\\\Caba_python\\\\python_연습.ipynb',\n",
       " 'C:\\\\Caba2012\\\\workspace\\\\Caba_python\\\\python_클래스.ipynb',\n",
       " 'C:\\\\Caba2012\\\\workspace\\\\Caba_python\\\\Python_클래스_ex1.ipynb',\n",
       " 'C:\\\\Caba2012\\\\workspace\\\\Caba_python\\\\Python_클래스_ex2.ipynb',\n",
       " 'C:\\\\Caba2012\\\\workspace\\\\Caba_python\\\\python_클래스_연습.ipynb',\n",
       " 'C:\\\\Caba2012\\\\workspace\\\\Caba_python\\\\python_평가.ipynb',\n",
       " 'C:\\\\Caba2012\\\\workspace\\\\Caba_python\\\\python_함수.ipynb',\n",
       " 'C:\\\\Caba2012\\\\workspace\\\\Caba_python\\\\Python_함수_ex.ipynb',\n",
       " 'C:\\\\Caba2012\\\\workspace\\\\Caba_python\\\\python_함수_guide.ipynb']"
      ]
     },
     "execution_count": 70,
     "metadata": {},
     "output_type": "execute_result"
    }
   ],
   "source": [
    "# 특정 디렉토리에 있는 파일 이름 모두를 알아야 할 경우\n",
    "import glob\n",
    "glob.glob('C:\\\\Caba2012\\\\workspace\\\\Caba_python/*.ipynb')"
   ]
  },
  {
   "cell_type": "code",
   "execution_count": 74,
   "metadata": {},
   "outputs": [
    {
     "data": {
      "text/plain": [
       "1609227693.9093857"
      ]
     },
     "execution_count": 74,
     "metadata": {},
     "output_type": "execute_result"
    }
   ],
   "source": [
    "# time.time()은 현재시간을 실수 형태로 리턴\n",
    "# 1970년 1월 1일 0시 0분 0초를 기준으로 지난 시간을 초단위로 계산해서 반환\n",
    "import time\n",
    "time.time()"
   ]
  },
  {
   "cell_type": "code",
   "execution_count": 75,
   "metadata": {},
   "outputs": [
    {
     "data": {
      "text/plain": [
       "time.struct_time(tm_year=2020, tm_mon=12, tm_mday=29, tm_hour=16, tm_min=45, tm_sec=11, tm_wday=1, tm_yday=364, tm_isdst=0)"
      ]
     },
     "execution_count": 75,
     "metadata": {},
     "output_type": "execute_result"
    }
   ],
   "source": [
    "time.localtime(time.time())"
   ]
  }
 ],
 "metadata": {
  "kernelspec": {
   "display_name": "Python 3",
   "language": "python",
   "name": "python3"
  },
  "language_info": {
   "codemirror_mode": {
    "name": "ipython",
    "version": 3
   },
   "file_extension": ".py",
   "mimetype": "text/x-python",
   "name": "python",
   "nbconvert_exporter": "python",
   "pygments_lexer": "ipython3",
   "version": "3.7.9"
  }
 },
 "nbformat": 4,
 "nbformat_minor": 4
}
